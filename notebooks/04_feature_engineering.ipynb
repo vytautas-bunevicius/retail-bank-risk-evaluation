{
 "cells": [
  {
   "cell_type": "markdown",
   "metadata": {},
   "source": [
    "## Notebook Overview\n",
    "\n",
    "This notebook builds upon the insights gained from the previous notebook (`03_exploratory_data_analysis.ipynb`) and focuses on **Feature Engineering**. This stage involves creating new features and transforming existing ones based on our statistical findings and domain knowledge to enhance our credit risk model.\n",
    "\n",
    "### 0.4.1 Objectives\n",
    "\n",
    "The main objectives of this notebook are:\n",
    "\n",
    "1. **Leverage EDA Insights:** Utilize the patterns and relationships uncovered in our exploratory data analysis to guide our feature engineering efforts.\n",
    "2. **Create Non-Linear Transformations:** Develop binned versions of continuous variables to capture non-linear relationships with the target variable.\n",
    "3. **Implement Domain-Specific Features:** Create new features based on financial domain knowledge that are known to be relevant in credit risk assessment.\n",
    "4. **Enhance Model Input:** Generate features that can potentially improve our model's predictive power and interpretability.\n",
    "5. **Prepare for Modeling:** Finalize the feature set that will be used in our subsequent modeling efforts.\n",
    "\n",
    "### 0.4.2 Importance of Feature Engineering\n",
    "\n",
    "Feature engineering plays a crucial role in improving machine learning model performance:\n",
    "\n",
    "- **Capture Complex Relationships:** Engineered features can help models capture non-linear and intricate relationships that may not be apparent in the raw data.\n",
    "- **Incorporate Domain Knowledge:** It allows us to inject domain expertise into our data, potentially improving model performance and interpretability.\n",
    "- **Improve Model Generalization:** Well-engineered features can help models generalize better to unseen data.\n",
    "- **Enhance Interpretability:** Carefully crafted features can make model predictions more understandable and actionable for stakeholders.\n",
    "\n",
    "### 0.4.3 Our Approach\n",
    "\n",
    "In this notebook, we will focus on the following feature engineering tasks:\n",
    "\n",
    "1. **Age Binning:** Create age groups (18-25, 26-35, 36-45, 46-55, 56-65, 65+) to capture non-linear relationships with default risk.\n",
    "2. **Financial Ratios:** Implement key financial ratios including:\n",
    "   - Debt-to-income ratio\n",
    "   - Credit-to-goods price ratio\n",
    "   - Annuity-to-income ratio\n",
    "3. **Stability Indicators:** Derive new features such as:\n",
    "   - Employed-to-age ratio\n",
    "   - Flag for when credit amount exceeds goods price\n",
    "4. **Credit Score Aggregation:** Generate an average of external source scores for a more stable overall credit score indicator.\n",
    "5. **Income and Credit Amount Binning:** Create bins for income and credit amount variables to identify potential threshold effects and improve model robustness to outliers.\n",
    "\n",
    "By the end of this notebook, we will have a rich set of engineered features that leverage both our data-driven insights and domain knowledge, setting a strong foundation for our subsequent modeling efforts."
   ]
  }
 ],
 "metadata": {
  "language_info": {
   "name": "python"
  }
 },
 "nbformat": 4,
 "nbformat_minor": 2
}
