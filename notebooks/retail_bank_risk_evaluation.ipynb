{
 "cells": [
  {
   "cell_type": "markdown",
   "metadata": {},
   "source": [
    "## Home Credit Default Risk Prediction\n",
    "\n",
    "### Project Overview\n",
    "\n",
    "This project aims to develop a machine learning model to predict the likelihood of loan default for Home Credit Group clients. Think of it like a tool that helps banks make smarter decisions about who to give loans to. We want to be as accurate as possible, ensuring that deserving clients are approved while also minimizing the risk of people not paying back their loans. \n",
    "\n",
    "### Why is this Important?\n",
    "\n",
    "Home Credit focuses on lending to people who might not have traditional credit histories (sometimes called the \"unbanked\"). They use a variety of information, like phone and transaction data, to help assess whether someone is likely to repay a loan. By accurately predicting loan defaults, we can:\n",
    "\n",
    "* **Help more people access credit:** Deserving clients who might otherwise be rejected can get loans.\n",
    "* **Reduce risk for Home Credit:** The company can make better decisions about who to lend to.\n",
    "\n",
    "### Dataset Description\n",
    "\n",
    "We're using data from Home Credit, which includes details about loan applications, past loans from other institutions, and Home Credit specific loan history (think credit cards, point-of-sale loans, etc.). The data is organized into several interconnected tables, each providing a different piece of the puzzle:\n",
    "\n",
    "1. **Application Data (`application_{train|test}.csv`):** This is the main table with information about each loan application, including things like age, income, employment history, etc. \n",
    "2. **Bureau Data (`bureau.csv` and `bureau_balance.csv`):** This contains information about loans the person has taken from other banks or financial institutions.\n",
    "3. **Previous Applications (Home Credit) (`previous_application.csv`):** This tells us about the person's history of applying for loans at Home Credit specifically.\n",
    "4. **Home Credit Loan Details:** \n",
    "    * **POS and Cash Loans Balance (`pos_cash_balance.csv`):**  Provides details on point-of-sale and cash loans.\n",
    "    * **Credit Card Balance (`credit_card_balance.csv`):** Contains credit card balance information. \n",
    "5. **Installments Payments (`installments_payments.csv`):** This shows how the person has paid back previous loans at Home Credit (were they on time, late, etc.). \n",
    "\n",
    "### Our Approach \n",
    "\n",
    "We'll take a multi-step approach to building our predictive model:\n",
    "\n",
    "1. **Exploratory Data Analysis (EDA):** We'll dig deep into the data to understand it better, identify important features (like which ones are strongly related to default risk), and find any patterns or issues that need to be addressed. Think of it like detective work!\n",
    "2. **Data Preparation:** We'll clean the data, handle missing information, and create new features (also called \"feature engineering\") that might be helpful for the model. \n",
    "3. **Model Selection:** We'll try out different machine learning models to find the one that works best for this task.\n",
    "4. **Fine-tuning:** We'll tweak the settings of our chosen model to make it as accurate as possible.\n",
    "5. **Presenting the Solution:** We'll clearly explain our findings and the logic behind our model.\n",
    "6. **Model Deployment:** The final model will be made available so that Home Credit can easily use it.\n",
    "\n",
    "### Additional Notes\n",
    "\n",
    "* **Data Source:** The dataset used in this project is from the [Home Credit Default Risk Kaggle Competition](https://www.kaggle.com/competitions/home-credit-default-risk/leaderboard). You can find more information and potentially useful insights from previous Home Credit analyses [[here](https://www.kaggle.com/competitions/home-credit-default-risk/discussion/63032)].\n",
    "* **Geographic Scope:** Home Credit primarily operates in the Commonwealth of Independent States (CIS) and Southeast Asia (SEA) regions.  The data might include information from countries like Kazakhstan, Russia, Vietnam, China, Indonesia, and the Philippines.\n",
    "* **Product Categories:** Home Credit offers several types of loan products, including:\n",
    "    * **Revolving loans (credit cards)**\n",
    "    * **Consumer loans (point-of-sale loans or POS loans)**\n",
    "    * **Cash loans**\n",
    "* **Exploratory Data Analysis Focus:**  During the exploratory data analysis phase, each table will be analyzed individually to understand its relationship with the target variable (loan default).\n",
    "\n",
    "**The following is the schema for Home Credit dataset.**"
   ]
  },
  {
   "cell_type": "markdown",
   "metadata": {},
   "source": [
    "By the end of this project, we aim to provide Home Credit with a reliable and easy-to-use tool to predict loan default risk, allowing them to make better lending decisions and potentially extend credit to more people who can manage it responsibly. "
   ]
  },
  {
   "cell_type": "code",
   "execution_count": 1,
   "metadata": {},
   "outputs": [],
   "source": [
    "import pandas as pd\n",
    "import polars as pl\n",
    "import numpy as np\n",
    "from sklearn.model_selection import train_test_split\n",
    "from sklearn.preprocessing import StandardScaler\n",
    "from sklearn.ensemble import RandomForestClassifier\n",
    "from sklearn.linear_model import LogisticRegression\n",
    "import xgboost as xgb\n",
    "import lightgbm as lgb\n",
    "\n",
    "from retail_bank_risk.data_preprocessing_utils import handle_missing_values, simple_imputation, flag_anomalies\n",
    "from retail_bank_risk.basic_visualizations_utils import (\n",
    "    plot_correlation_matrix, plot_combined_histograms, plot_categorical_features_by_target,\n",
    "    plot_combined_bar_charts, plot_combined_boxplots, plot_single_bar_chart, plot_feature_importances,\n",
    ")\n",
    "from retail_bank_risk.model_utils import evaluate_model, extract_feature_importances\n",
    "from retail_bank_risk.advanced_visualizations_utils import (\n",
    "    plot_model_performance, plot_combined_confusion_matrices,\n",
    "    plot_roc_curve, plot_precision_recall_curve, plot_confusion_matrix, plot_learning_curve\n",
    ")"
   ]
  },
  {
   "cell_type": "code",
   "execution_count": 3,
   "metadata": {},
   "outputs": [],
   "source": [
    "np.random.seed(42)"
   ]
  },
  {
   "cell_type": "code",
   "execution_count": 2,
   "metadata": {},
   "outputs": [
    {
     "name": "stdout",
     "output_type": "stream",
     "text": [
      "Training data shape: (307511, 122)\n",
      "Testing data shape: (48744, 121)\n"
     ]
    }
   ],
   "source": [
    "application_train = pl.read_csv('../data/application_train.csv')\n",
    "application_test = pl.read_csv('../data/application_test.csv')\n",
    "\n",
    "print(f\"Training data shape: {application_train.shape}\")\n",
    "print(f\"Testing data shape: {application_test.shape}\")"
   ]
  },
  {
   "cell_type": "code",
   "execution_count": 4,
   "metadata": {},
   "outputs": [],
   "source": [
    "bureau = pl.read_csv('../data/bureau.csv')\n",
    "bureau_balance = pl.read_csv('../data/bureau_balance.csv')\n",
    "prev_application = pl.read_csv('../data/previous_application.csv')\n",
    "pos_cash = pl.read_csv('../data/pos_cash_balance.csv')\n",
    "credit_card = pl.read_csv('../data/credit_card_balance.csv')\n",
    "installments = pl.read_csv('../data/installments_payments.csv')"
   ]
  },
  {
   "cell_type": "code",
   "execution_count": 8,
   "metadata": {},
   "outputs": [
    {
     "ename": "NameError",
     "evalue": "name 'bureau' is not defined",
     "output_type": "error",
     "traceback": [
      "\u001b[0;31m---------------------------------------------------------------------------\u001b[0m",
      "\u001b[0;31mNameError\u001b[0m                                 Traceback (most recent call last)",
      "Cell \u001b[0;32mIn[8], line 2\u001b[0m\n\u001b[1;32m      1\u001b[0m \u001b[38;5;28;01mfor\u001b[39;00m name, df \u001b[38;5;129;01min\u001b[39;00m {\n\u001b[0;32m----> 2\u001b[0m     \u001b[38;5;124m'\u001b[39m\u001b[38;5;124mBureau\u001b[39m\u001b[38;5;124m'\u001b[39m: \u001b[43mbureau\u001b[49m,\n\u001b[1;32m      3\u001b[0m     \u001b[38;5;124m'\u001b[39m\u001b[38;5;124mBureau Balance\u001b[39m\u001b[38;5;124m'\u001b[39m: bureau_balance,\n\u001b[1;32m      4\u001b[0m     \u001b[38;5;124m'\u001b[39m\u001b[38;5;124mPrevious Applications\u001b[39m\u001b[38;5;124m'\u001b[39m: prev_application,\n\u001b[1;32m      5\u001b[0m     \u001b[38;5;124m'\u001b[39m\u001b[38;5;124mPOS Cash Balance\u001b[39m\u001b[38;5;124m'\u001b[39m: pos_cash,\n\u001b[1;32m      6\u001b[0m     \u001b[38;5;124m'\u001b[39m\u001b[38;5;124mCredit Card Balance\u001b[39m\u001b[38;5;124m'\u001b[39m: credit_card,\n\u001b[1;32m      7\u001b[0m     \u001b[38;5;124m'\u001b[39m\u001b[38;5;124mInstallments Payments\u001b[39m\u001b[38;5;124m'\u001b[39m: installments\n\u001b[1;32m      8\u001b[0m }\u001b[38;5;241m.\u001b[39mitems():\n\u001b[1;32m      9\u001b[0m     \u001b[38;5;28mprint\u001b[39m(\u001b[38;5;124mf\u001b[39m\u001b[38;5;124m\"\u001b[39m\u001b[38;5;130;01m\\n\u001b[39;00m\u001b[38;5;132;01m{\u001b[39;00mname\u001b[38;5;132;01m}\u001b[39;00m\u001b[38;5;124m data shape: \u001b[39m\u001b[38;5;132;01m{\u001b[39;00mdf\u001b[38;5;241m.\u001b[39mshape\u001b[38;5;132;01m}\u001b[39;00m\u001b[38;5;124m\"\u001b[39m)\n",
      "\u001b[0;31mNameError\u001b[0m: name 'bureau' is not defined"
     ]
    }
   ],
   "source": [
    "for name, df in {\n",
    "    'Bureau': bureau,\n",
    "    'Bureau Balance': bureau_balance,\n",
    "    'Previous Applications': prev_application,\n",
    "    'POS Cash Balance': pos_cash,\n",
    "    'Credit Card Balance': credit_card,\n",
    "    'Installments Payments': installments\n",
    "}.items():\n",
    "    print(f\"\\n{name} data shape: {df.shape}\")"
   ]
  },
  {
   "cell_type": "code",
   "execution_count": null,
   "metadata": {},
   "outputs": [],
   "source": []
  }
 ],
 "metadata": {
  "kernelspec": {
   "display_name": "Python 3",
   "language": "python",
   "name": "python3"
  },
  "language_info": {
   "codemirror_mode": {
    "name": "ipython",
    "version": 3
   },
   "file_extension": ".py",
   "mimetype": "text/x-python",
   "name": "python",
   "nbconvert_exporter": "python",
   "pygments_lexer": "ipython3",
   "version": "3.11.8"
  }
 },
 "nbformat": 4,
 "nbformat_minor": 2
}
