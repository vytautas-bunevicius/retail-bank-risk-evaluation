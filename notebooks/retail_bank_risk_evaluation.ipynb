{
 "cells": [
  {
   "cell_type": "markdown",
   "metadata": {},
   "source": [
    "## Home Credit Default Risk Prediction\n",
    "\n",
    "### Project Overview\n",
    "\n",
    "This project aims to develop multiple machine learning models to predict the likelihood of loan default for Home Credit Group clients. As a proof-of-concept (POC) for our startup's risk evaluation service, we'll create a suite of models that can help banks make more informed decisions about loan approvals. Our goal is to maximize accuracy in identifying both creditworthy clients and potential defaults, providing a robust and flexible solution for our potential banking clients.\n",
    "\n",
    "### Why is this Important?\n",
    "\n",
    "Home Credit specializes in lending to individuals with limited or no credit history (often referred to as \"unbanked\" or \"underbanked\"). They utilize diverse data sources, including phone and transaction data, to assess loan repayment probability. By developing accurate default prediction models, we can:\n",
    "\n",
    "- **Expand financial inclusion:** Enable deserving clients who might be rejected by traditional methods to access credit.\n",
    "- **Optimize risk management:** Help financial institutions make more informed lending decisions, reducing their exposure to potential losses.\n",
    "- **Demonstrate our startup's capabilities:** Showcase our ability to translate complex business requirements into effective machine learning solutions.\n",
    "\n",
    "### Dataset Description\n",
    "\n",
    "We're using the Home Credit Default Risk dataset, which includes comprehensive information about loan applications and borrowers' credit histories. The data is structured across several interconnected tables:\n",
    "\n",
    "1. **Application Data (`application_{train|test}.csv`):** The primary table containing loan application details such as age, income, employment history, etc.\n",
    "2. **Bureau Data (`bureau.csv` and `bureau_balance.csv`):** Information about the applicants' previous loans from other financial institutions.\n",
    "3. **Previous Applications (`previous_application.csv`):** Historical data on the applicants' past loan applications with Home Credit.\n",
    "4. **Home Credit Loan Details:**\n",
    "   - **POS and Cash Loans Balance (`pos_cash_balance.csv`):** Monthly balance snapshots of previous point-of-sale and cash loans.\n",
    "   - **Credit Card Balance (`credit_card_balance.csv`):** Monthly balance snapshots of previous credit cards.\n",
    "5. **Installments Payments (`installments_payments.csv`):** Payment history for previous loans at Home Credit.\n",
    "\n",
    "### Our Approach\n",
    "\n",
    "We'll use a comprehensive, multi-stage approach to develop our predictive models:\n",
    "\n",
    "1. **Initial Data Exploration:**\n",
    "\n",
    "   - Conduct thorough Exploratory Data Analysis (EDA) on each table.\n",
    "   - Identify key variables and their distributions.\n",
    "   - Investigate relationships between features and the target variable (loan default).\n",
    "   - Check for data quality issues, missing values, and anomalies.\n",
    "\n",
    "2. **Feature Engineering and Data Preprocessing:**\n",
    "\n",
    "   - Create new features based on domain knowledge and initial insights.\n",
    "   - Handle missing data and outliers.\n",
    "   - Perform appropriate encoding for categorical variables and scaling for numerical features.\n",
    "\n",
    "3. **Statistical Inference:**\n",
    "\n",
    "   - Define the target population and formulate multiple statistical hypotheses.\n",
    "   - Construct confidence intervals and conduct appropriate statistical tests.\n",
    "   - Analyze correlations and other relationships between variables.\n",
    "\n",
    "4. **Model Development:**\n",
    "\n",
    "   - Implement multiple machine learning algorithms (e.g., Logistic Regression, Random Forests, Gradient Boosting).\n",
    "   - Utilize cross-validation techniques to ensure model robustness.\n",
    "   - Perform hyperparameter tuning to optimize model performance.\n",
    "\n",
    "5. **Model Evaluation and Selection:**\n",
    "\n",
    "   - Assess models using appropriate performance metrics (e.g., AUC-ROC, precision, recall).\n",
    "   - Analyze feature importance and model interpretability.\n",
    "   - Select the best-performing models for deployment.\n",
    "\n",
    "6. **Model Deployment:**\n",
    "\n",
    "   - Deploy the top-performing models to Google Cloud Platform.\n",
    "   - Ensure models are accessible via HTTP requests for easy integration.\n",
    "\n",
    "7. **Documentation and Presentation:**\n",
    "   - Clearly document all steps, assumptions, and results.\n",
    "   - Prepare visualizations and explanations of our findings.\n",
    "   - Develop recommendations for potential clients based on our insights.\n",
    "\n",
    "### Additional Notes\n",
    "\n",
    "- **Data Source:** The dataset is from the [Home Credit Default Risk Kaggle Competition](https://www.kaggle.com/competitions/home-credit-default-risk/data).\n",
    "- **Geographic Scope:** Home Credit operates primarily in CIS and Southeast Asian countries, including Kazakhstan, Russia, Vietnam, China, Indonesia, and the Philippines.\n",
    "- **Product Categories:** Home Credit offers various loan products:\n",
    "  - Revolving loans (credit cards)\n",
    "  - Consumer loans (point-of-sale or POS loans)\n",
    "  - Cash loans\n",
    "- **Ethical Considerations:** We'll pay close attention to potential biases in our models and strive for fair lending practices.\n",
    "- **Iterative Process:** Our approach will be flexible, allowing for iterations and refinements based on insights gained throughout the project.\n",
    "\n",
    "**Home Credit Dataset Schema:**\n",
    "\n",
    "![Home Credit Dataset Schema](../images/data-scheme.png)\n",
    "\n",
    "This project will demonstrate our ability to handle complex, real-world data and deliver valuable insights and predictive capabilities to the financial sector.\n",
    "\n",
    "By the end of this project, we aim to provide Home Credit with a reliable and easy-to-use tool to predict loan default risk, allowing them to make better lending decisions and potentially extend credit to more people who can manage it responsibly."
   ]
  },
  {
   "cell_type": "code",
   "execution_count": 15,
   "metadata": {},
   "outputs": [
    {
     "name": "stdout",
     "output_type": "stream",
     "text": [
      "The autoreload extension is already loaded. To reload it, use:\n",
      "  %reload_ext autoreload\n"
     ]
    }
   ],
   "source": [
    "%load_ext autoreload\n",
    "%autoreload 2"
   ]
  },
  {
   "cell_type": "code",
   "execution_count": 16,
   "metadata": {},
   "outputs": [],
   "source": [
    "import pandas as pd\n",
    "import polars as pl\n",
    "import numpy as np\n",
    "from sklearn.model_selection import train_test_split\n",
    "from sklearn.preprocessing import StandardScaler\n",
    "from sklearn.ensemble import RandomForestClassifier\n",
    "from sklearn.linear_model import LogisticRegression\n",
    "import xgboost as xgb\n",
    "import lightgbm as lgb\n",
    "import sweetviz as sv\n",
    "from matplotlib.colors import LinearSegmentedColormap\n",
    "import matplotlib.pyplot as plt\n",
    "import matplotlib as mpl\n",
    "import matplotlib.pyplot as plt\n",
    "from matplotlib.colors import LinearSegmentedColormap, ListedColormap\n",
    "from ydata_profiling.report.structure.variables import render_real\n",
    "\n",
    "\n",
    "from retail_bank_risk.data_preprocessing_utils import (\n",
    "    handle_missing_values,\n",
    "    simple_imputation,\n",
    "    flag_anomalies,\n",
    "    reduce_memory_usage_pl,\n",
    ")\n",
    "from retail_bank_risk.basic_visualizations_utils import (\n",
    "    plot_correlation_matrix,\n",
    "    plot_combined_histograms,\n",
    "    plot_categorical_features_by_target,\n",
    "    plot_combined_bar_charts,\n",
    "    plot_combined_boxplots,\n",
    "    plot_single_bar_chart,\n",
    "    plot_feature_importances,\n",
    ")\n",
    "from retail_bank_risk.model_utils import (\n",
    "    evaluate_model,\n",
    "    extract_feature_importances,\n",
    ")\n",
    "from retail_bank_risk.advanced_visualizations_utils import (\n",
    "    plot_model_performance,\n",
    "    plot_combined_confusion_matrices,\n",
    "    plot_roc_curve,\n",
    "    plot_precision_recall_curve,\n",
    "    plot_confusion_matrix,\n",
    "    plot_learning_curve,\n",
    ")\n",
    "\n",
    "import pandas as pd\n",
    "from ydata_profiling import ProfileReport\n",
    "from IPython.display import display"
   ]
  },
  {
   "cell_type": "markdown",
   "metadata": {},
   "source": [
    "For reproducibility, we set a random seed.\n"
   ]
  },
  {
   "cell_type": "code",
   "execution_count": 3,
   "metadata": {},
   "outputs": [],
   "source": [
    "np.random.seed(42)"
   ]
  },
  {
   "cell_type": "markdown",
   "metadata": {},
   "source": [
    "We then load the CSV files using Polars.\n"
   ]
  },
  {
   "cell_type": "code",
   "execution_count": 4,
   "metadata": {},
   "outputs": [],
   "source": [
    "application_train = pl.read_csv(\"../data/application_train.csv\")\n",
    "application_test = pl.read_csv(\"../data/application_test.csv\")\n",
    "previous_application = pl.read_csv(\"../data/previous_application.csv\")\n",
    "pos_cash_balance = pl.read_csv(\"../data/pos_cash_balance.csv\")\n",
    "installments_payments = pl.read_csv(\"../data/installments_payments.csv\")\n",
    "bureau = pl.read_csv(\"../data/bureau.csv\")\n",
    "bureau_balance = pl.read_csv(\"../data/bureau_balance.csv\")\n",
    "credit_card_balance = pl.read_csv(\"../data/credit_card_balance.csv\")"
   ]
  },
  {
   "cell_type": "markdown",
   "metadata": {},
   "source": [
    "We've loaded all the data tables, but our initial focus will be on the application_train DataFrame. \n",
    "\n",
    "This table contains the core details of each loan application, which might be sufficient for building our first models. \n",
    "\n",
    "If we need more information to improve accuracy, we'll then explore the other tables and incorporate relevant data from them.\n",
    "\n",
    "Before proceeding, we will reduce the memory footprint of the dataset by converting the data types to lower-precision alternatives, which will lead to faster processing times."
   ]
  },
  {
   "cell_type": "code",
   "execution_count": 21,
   "metadata": {},
   "outputs": [
    {
     "name": "stdout",
     "output_type": "stream",
     "text": [
      "Size before memory reduction: 289.61 MB\n",
      "Initial data types: Counter({Float64: 65, Int64: 41, String: 16})\n",
      "Size after memory reduction: 113.52 MB\n",
      "Final data types: Counter({Float32: 65, Int8: 35, Categorical(ordering='physical'): 16, Int32: 4, Int16: 2})\n",
      "Size before memory reduction: 45.51 MB\n",
      "Initial data types: Counter({Float64: 65, Int64: 40, String: 16})\n",
      "Size after memory reduction: 17.94 MB\n",
      "Final data types: Counter({Float32: 65, Int8: 34, Categorical(ordering='physical'): 16, Int32: 4, Int16: 2})\n"
     ]
    }
   ],
   "source": [
    "application_train = reduce_memory_usage_pl(application_train)\n",
    "application_test = reduce_memory_usage_pl(application_test)"
   ]
  },
  {
   "cell_type": "markdown",
   "metadata": {},
   "source": [
    "Next up, we can check the initial first rows of the dataset."
   ]
  },
  {
   "cell_type": "code",
   "execution_count": 22,
   "metadata": {},
   "outputs": [
    {
     "data": {
      "text/html": [
       "<div><style>\n",
       ".dataframe > thead > tr,\n",
       ".dataframe > tbody > tr {\n",
       "  text-align: right;\n",
       "  white-space: pre-wrap;\n",
       "}\n",
       "</style>\n",
       "<small>shape: (5, 122)</small><table border=\"1\" class=\"dataframe\"><thead><tr><th>SK_ID_CURR</th><th>TARGET</th><th>NAME_CONTRACT_TYPE</th><th>CODE_GENDER</th><th>FLAG_OWN_CAR</th><th>FLAG_OWN_REALTY</th><th>CNT_CHILDREN</th><th>AMT_INCOME_TOTAL</th><th>AMT_CREDIT</th><th>AMT_ANNUITY</th><th>AMT_GOODS_PRICE</th><th>NAME_TYPE_SUITE</th><th>NAME_INCOME_TYPE</th><th>NAME_EDUCATION_TYPE</th><th>NAME_FAMILY_STATUS</th><th>NAME_HOUSING_TYPE</th><th>REGION_POPULATION_RELATIVE</th><th>DAYS_BIRTH</th><th>DAYS_EMPLOYED</th><th>DAYS_REGISTRATION</th><th>DAYS_ID_PUBLISH</th><th>OWN_CAR_AGE</th><th>FLAG_MOBIL</th><th>FLAG_EMP_PHONE</th><th>FLAG_WORK_PHONE</th><th>FLAG_CONT_MOBILE</th><th>FLAG_PHONE</th><th>FLAG_EMAIL</th><th>OCCUPATION_TYPE</th><th>CNT_FAM_MEMBERS</th><th>REGION_RATING_CLIENT</th><th>REGION_RATING_CLIENT_W_CITY</th><th>WEEKDAY_APPR_PROCESS_START</th><th>HOUR_APPR_PROCESS_START</th><th>REG_REGION_NOT_LIVE_REGION</th><th>REG_REGION_NOT_WORK_REGION</th><th>LIVE_REGION_NOT_WORK_REGION</th><th>&hellip;</th><th>NONLIVINGAREA_MEDI</th><th>FONDKAPREMONT_MODE</th><th>HOUSETYPE_MODE</th><th>TOTALAREA_MODE</th><th>WALLSMATERIAL_MODE</th><th>EMERGENCYSTATE_MODE</th><th>OBS_30_CNT_SOCIAL_CIRCLE</th><th>DEF_30_CNT_SOCIAL_CIRCLE</th><th>OBS_60_CNT_SOCIAL_CIRCLE</th><th>DEF_60_CNT_SOCIAL_CIRCLE</th><th>DAYS_LAST_PHONE_CHANGE</th><th>FLAG_DOCUMENT_2</th><th>FLAG_DOCUMENT_3</th><th>FLAG_DOCUMENT_4</th><th>FLAG_DOCUMENT_5</th><th>FLAG_DOCUMENT_6</th><th>FLAG_DOCUMENT_7</th><th>FLAG_DOCUMENT_8</th><th>FLAG_DOCUMENT_9</th><th>FLAG_DOCUMENT_10</th><th>FLAG_DOCUMENT_11</th><th>FLAG_DOCUMENT_12</th><th>FLAG_DOCUMENT_13</th><th>FLAG_DOCUMENT_14</th><th>FLAG_DOCUMENT_15</th><th>FLAG_DOCUMENT_16</th><th>FLAG_DOCUMENT_17</th><th>FLAG_DOCUMENT_18</th><th>FLAG_DOCUMENT_19</th><th>FLAG_DOCUMENT_20</th><th>FLAG_DOCUMENT_21</th><th>AMT_REQ_CREDIT_BUREAU_HOUR</th><th>AMT_REQ_CREDIT_BUREAU_DAY</th><th>AMT_REQ_CREDIT_BUREAU_WEEK</th><th>AMT_REQ_CREDIT_BUREAU_MON</th><th>AMT_REQ_CREDIT_BUREAU_QRT</th><th>AMT_REQ_CREDIT_BUREAU_YEAR</th></tr><tr><td>i32</td><td>i8</td><td>cat</td><td>cat</td><td>cat</td><td>cat</td><td>i16</td><td>f32</td><td>f32</td><td>f32</td><td>f32</td><td>cat</td><td>cat</td><td>cat</td><td>cat</td><td>cat</td><td>f32</td><td>i32</td><td>i32</td><td>f32</td><td>i32</td><td>f32</td><td>i8</td><td>i8</td><td>i8</td><td>i8</td><td>i8</td><td>i8</td><td>cat</td><td>f32</td><td>i8</td><td>i8</td><td>cat</td><td>i16</td><td>i8</td><td>i8</td><td>i8</td><td>&hellip;</td><td>f32</td><td>cat</td><td>cat</td><td>f32</td><td>cat</td><td>cat</td><td>f32</td><td>f32</td><td>f32</td><td>f32</td><td>f32</td><td>i8</td><td>i8</td><td>i8</td><td>i8</td><td>i8</td><td>i8</td><td>i8</td><td>i8</td><td>i8</td><td>i8</td><td>i8</td><td>i8</td><td>i8</td><td>i8</td><td>i8</td><td>i8</td><td>i8</td><td>i8</td><td>i8</td><td>i8</td><td>f32</td><td>f32</td><td>f32</td><td>f32</td><td>f32</td><td>f32</td></tr></thead><tbody><tr><td>100002</td><td>1</td><td>&quot;Cash loans&quot;</td><td>&quot;M&quot;</td><td>&quot;N&quot;</td><td>&quot;Y&quot;</td><td>0</td><td>202500.0</td><td>406597.5</td><td>24700.5</td><td>351000.0</td><td>&quot;Unaccompanied&quot;</td><td>&quot;Working&quot;</td><td>&quot;Secondary / secondary special&quot;</td><td>&quot;Single / not married&quot;</td><td>&quot;House / apartment&quot;</td><td>0.018801</td><td>-9461</td><td>-637</td><td>-3648.0</td><td>-2120</td><td>null</td><td>1</td><td>1</td><td>0</td><td>1</td><td>1</td><td>0</td><td>&quot;Laborers&quot;</td><td>1.0</td><td>2</td><td>2</td><td>&quot;WEDNESDAY&quot;</td><td>10</td><td>0</td><td>0</td><td>0</td><td>&hellip;</td><td>0.0</td><td>&quot;reg oper account&quot;</td><td>&quot;block of flats&quot;</td><td>0.0149</td><td>&quot;Stone, brick&quot;</td><td>&quot;No&quot;</td><td>2.0</td><td>2.0</td><td>2.0</td><td>2.0</td><td>-1134.0</td><td>0</td><td>1</td><td>0</td><td>0</td><td>0</td><td>0</td><td>0</td><td>0</td><td>0</td><td>0</td><td>0</td><td>0</td><td>0</td><td>0</td><td>0</td><td>0</td><td>0</td><td>0</td><td>0</td><td>0</td><td>0.0</td><td>0.0</td><td>0.0</td><td>0.0</td><td>0.0</td><td>1.0</td></tr><tr><td>100003</td><td>0</td><td>&quot;Cash loans&quot;</td><td>&quot;F&quot;</td><td>&quot;N&quot;</td><td>&quot;N&quot;</td><td>0</td><td>270000.0</td><td>1293502.5</td><td>35698.5</td><td>1.1295e6</td><td>&quot;Family&quot;</td><td>&quot;State servant&quot;</td><td>&quot;Higher education&quot;</td><td>&quot;Married&quot;</td><td>&quot;House / apartment&quot;</td><td>0.003541</td><td>-16765</td><td>-1188</td><td>-1186.0</td><td>-291</td><td>null</td><td>1</td><td>1</td><td>0</td><td>1</td><td>1</td><td>0</td><td>&quot;Core staff&quot;</td><td>2.0</td><td>1</td><td>1</td><td>&quot;MONDAY&quot;</td><td>11</td><td>0</td><td>0</td><td>0</td><td>&hellip;</td><td>0.01</td><td>&quot;reg oper account&quot;</td><td>&quot;block of flats&quot;</td><td>0.0714</td><td>&quot;Block&quot;</td><td>&quot;No&quot;</td><td>1.0</td><td>0.0</td><td>1.0</td><td>0.0</td><td>-828.0</td><td>0</td><td>1</td><td>0</td><td>0</td><td>0</td><td>0</td><td>0</td><td>0</td><td>0</td><td>0</td><td>0</td><td>0</td><td>0</td><td>0</td><td>0</td><td>0</td><td>0</td><td>0</td><td>0</td><td>0</td><td>0.0</td><td>0.0</td><td>0.0</td><td>0.0</td><td>0.0</td><td>0.0</td></tr><tr><td>100004</td><td>0</td><td>&quot;Revolving loans&quot;</td><td>&quot;M&quot;</td><td>&quot;Y&quot;</td><td>&quot;Y&quot;</td><td>0</td><td>67500.0</td><td>135000.0</td><td>6750.0</td><td>135000.0</td><td>&quot;Unaccompanied&quot;</td><td>&quot;Working&quot;</td><td>&quot;Secondary / secondary special&quot;</td><td>&quot;Single / not married&quot;</td><td>&quot;House / apartment&quot;</td><td>0.010032</td><td>-19046</td><td>-225</td><td>-4260.0</td><td>-2531</td><td>26.0</td><td>1</td><td>1</td><td>1</td><td>1</td><td>1</td><td>0</td><td>&quot;Laborers&quot;</td><td>1.0</td><td>2</td><td>2</td><td>&quot;MONDAY&quot;</td><td>9</td><td>0</td><td>0</td><td>0</td><td>&hellip;</td><td>null</td><td>null</td><td>null</td><td>null</td><td>null</td><td>null</td><td>0.0</td><td>0.0</td><td>0.0</td><td>0.0</td><td>-815.0</td><td>0</td><td>0</td><td>0</td><td>0</td><td>0</td><td>0</td><td>0</td><td>0</td><td>0</td><td>0</td><td>0</td><td>0</td><td>0</td><td>0</td><td>0</td><td>0</td><td>0</td><td>0</td><td>0</td><td>0</td><td>0.0</td><td>0.0</td><td>0.0</td><td>0.0</td><td>0.0</td><td>0.0</td></tr><tr><td>100006</td><td>0</td><td>&quot;Cash loans&quot;</td><td>&quot;F&quot;</td><td>&quot;N&quot;</td><td>&quot;Y&quot;</td><td>0</td><td>135000.0</td><td>312682.5</td><td>29686.5</td><td>297000.0</td><td>&quot;Unaccompanied&quot;</td><td>&quot;Working&quot;</td><td>&quot;Secondary / secondary special&quot;</td><td>&quot;Civil marriage&quot;</td><td>&quot;House / apartment&quot;</td><td>0.008019</td><td>-19005</td><td>-3039</td><td>-9833.0</td><td>-2437</td><td>null</td><td>1</td><td>1</td><td>0</td><td>1</td><td>0</td><td>0</td><td>&quot;Laborers&quot;</td><td>2.0</td><td>2</td><td>2</td><td>&quot;WEDNESDAY&quot;</td><td>17</td><td>0</td><td>0</td><td>0</td><td>&hellip;</td><td>null</td><td>null</td><td>null</td><td>null</td><td>null</td><td>null</td><td>2.0</td><td>0.0</td><td>2.0</td><td>0.0</td><td>-617.0</td><td>0</td><td>1</td><td>0</td><td>0</td><td>0</td><td>0</td><td>0</td><td>0</td><td>0</td><td>0</td><td>0</td><td>0</td><td>0</td><td>0</td><td>0</td><td>0</td><td>0</td><td>0</td><td>0</td><td>0</td><td>null</td><td>null</td><td>null</td><td>null</td><td>null</td><td>null</td></tr><tr><td>100007</td><td>0</td><td>&quot;Cash loans&quot;</td><td>&quot;M&quot;</td><td>&quot;N&quot;</td><td>&quot;Y&quot;</td><td>0</td><td>121500.0</td><td>513000.0</td><td>21865.5</td><td>513000.0</td><td>&quot;Unaccompanied&quot;</td><td>&quot;Working&quot;</td><td>&quot;Secondary / secondary special&quot;</td><td>&quot;Single / not married&quot;</td><td>&quot;House / apartment&quot;</td><td>0.028663</td><td>-19932</td><td>-3038</td><td>-4311.0</td><td>-3458</td><td>null</td><td>1</td><td>1</td><td>0</td><td>1</td><td>0</td><td>0</td><td>&quot;Core staff&quot;</td><td>1.0</td><td>2</td><td>2</td><td>&quot;THURSDAY&quot;</td><td>11</td><td>0</td><td>0</td><td>0</td><td>&hellip;</td><td>null</td><td>null</td><td>null</td><td>null</td><td>null</td><td>null</td><td>0.0</td><td>0.0</td><td>0.0</td><td>0.0</td><td>-1106.0</td><td>0</td><td>0</td><td>0</td><td>0</td><td>0</td><td>0</td><td>1</td><td>0</td><td>0</td><td>0</td><td>0</td><td>0</td><td>0</td><td>0</td><td>0</td><td>0</td><td>0</td><td>0</td><td>0</td><td>0</td><td>0.0</td><td>0.0</td><td>0.0</td><td>0.0</td><td>0.0</td><td>0.0</td></tr></tbody></table></div>"
      ],
      "text/plain": [
       "shape: (5, 122)\n",
       "┌────────────┬────────┬────────────┬───────────┬───┬───────────┬───────────┬───────────┬───────────┐\n",
       "│ SK_ID_CURR ┆ TARGET ┆ NAME_CONTR ┆ CODE_GEND ┆ … ┆ AMT_REQ_C ┆ AMT_REQ_C ┆ AMT_REQ_C ┆ AMT_REQ_C │\n",
       "│ ---        ┆ ---    ┆ ACT_TYPE   ┆ ER        ┆   ┆ REDIT_BUR ┆ REDIT_BUR ┆ REDIT_BUR ┆ REDIT_BUR │\n",
       "│ i32        ┆ i8     ┆ ---        ┆ ---       ┆   ┆ EAU_WEEK  ┆ EAU_MON   ┆ EAU_QRT   ┆ EAU_YEAR  │\n",
       "│            ┆        ┆ cat        ┆ cat       ┆   ┆ ---       ┆ ---       ┆ ---       ┆ ---       │\n",
       "│            ┆        ┆            ┆           ┆   ┆ f32       ┆ f32       ┆ f32       ┆ f32       │\n",
       "╞════════════╪════════╪════════════╪═══════════╪═══╪═══════════╪═══════════╪═══════════╪═══════════╡\n",
       "│ 100002     ┆ 1      ┆ Cash loans ┆ M         ┆ … ┆ 0.0       ┆ 0.0       ┆ 0.0       ┆ 1.0       │\n",
       "│ 100003     ┆ 0      ┆ Cash loans ┆ F         ┆ … ┆ 0.0       ┆ 0.0       ┆ 0.0       ┆ 0.0       │\n",
       "│ 100004     ┆ 0      ┆ Revolving  ┆ M         ┆ … ┆ 0.0       ┆ 0.0       ┆ 0.0       ┆ 0.0       │\n",
       "│            ┆        ┆ loans      ┆           ┆   ┆           ┆           ┆           ┆           │\n",
       "│ 100006     ┆ 0      ┆ Cash loans ┆ F         ┆ … ┆ null      ┆ null      ┆ null      ┆ null      │\n",
       "│ 100007     ┆ 0      ┆ Cash loans ┆ M         ┆ … ┆ 0.0       ┆ 0.0       ┆ 0.0       ┆ 0.0       │\n",
       "└────────────┴────────┴────────────┴───────────┴───┴───────────┴───────────┴───────────┴───────────┘"
      ]
     },
     "execution_count": 22,
     "metadata": {},
     "output_type": "execute_result"
    }
   ],
   "source": [
    "application_train.head()"
   ]
  },
  {
   "cell_type": "markdown",
   "metadata": {},
   "source": [
    "The dataset contains numerous features. Let's examine the number of rows and features in both the application_train and application_test DataFrames."
   ]
  },
  {
   "cell_type": "code",
   "execution_count": 6,
   "metadata": {},
   "outputs": [
    {
     "name": "stdout",
     "output_type": "stream",
     "text": [
      "Number of Rows and Columns in Application Train: (307511, 122)\n",
      "Number of Rows and Columns in Application Test: (48744, 121)\n"
     ]
    }
   ],
   "source": [
    "print(\"Number of Rows and Columns in Application Train:\", application_train.shape)\n",
    "print(\"Number of Rows and Columns in Application Test:\", application_test.shape)"
   ]
  },
  {
   "cell_type": "markdown",
   "metadata": {},
   "source": [
    "**application_train:** 307,511 rows, 122 columns\n",
    "\n",
    "**application_test:** 48,744 rows, 121 columns (excluding the TARGET variable)\n",
    "\n",
    "We have a large training dataset with over **300k loan applications**. This provides a solid foundation for building robust machine learning models. The test dataset is well-sized for evaluating model performance on unseen data.\n",
    "\n",
    "Both datasets have many features (**over 120**). This allows us to capture complex relationships and build accurate predictive models. However, the high number of features means we need to be careful in our selection and engineering process. This will help us avoid overfitting and keep our models interpretable.\n",
    "\n",
    "Therefore, we will **manually select features based on their descriptions in the application_train and application_test DataFrames.**\n",
    "\n",
    "1. **TARGET** (for training set only): Our dependent variable, shows if a client had payment difficulties.\n",
    "\n",
    "2. **AMT_INCOME_TOTAL:** Income is key in determining loan repayment ability.\n",
    "\n",
    "3. **AMT_CREDIT:** The loan amount directly relates to default risk.\n",
    "\n",
    "4. **AMT_ANNUITY:** Annual loan payment affects repayment ability.\n",
    "\n",
    "5. **NAME_CONTRACT_TYPE:** Different loan types may have varying risk profiles.\n",
    "\n",
    "6. **CODE_GENDER:** Gender might influence repayment behavior.\n",
    "\n",
    "7. **FLAG_OWN_CAR and FLAG_OWN_REALTY**: Asset ownership can indicate financial stability and potential collateral.\n",
    "\n",
    "8. **CNT_CHILDREN:** Number of dependents affects financial obligations.\n",
    "\n",
    "9. **NAME_EDUCATION_TYPE:** Education level often relates to income stability and financial literacy.\n",
    "\n",
    "10. **DAYS_BIRTH:** Age is important in credit risk assessment.\n",
    "\n",
    "11. **DAYS_EMPLOYED:** Employment duration can show job stability.\n",
    "\n",
    "12. **NAME_INCOME_TYPE:** Income source affects its stability and reliability.\n",
    "\n",
    "13. **NAME_FAMILY_STATUS:** Family status can impact financial responsibilities and stability.\n",
    "\n",
    "14. **REGION_POPULATION_RELATIVE:** Economic opportunities may vary by region population.\n",
    "\n",
    "15. **DAYS_LAST_PHONE_CHANGE:** Recent changes might suggest instability.\n",
    "\n",
    "16. **EXT_SOURCE_1, EXT_SOURCE_2, EXT_SOURCE_3:** These scores likely include credit scores or similar risk assessments.\n",
    "\n",
    "17. **OCCUPATION_TYPE:** Different jobs have varying levels of security and income stability.\n",
    "\n",
    "18. **AMT_GOODS_PRICE:** For consumer loans, this shows the value of financed goods.\n",
    "\n",
    "19. **OBS_30_CNT_SOCIAL_CIRCLE and DEF_30_CNT_SOCIAL_CIRCLE:** Financial behavior of one's social circle can indicate personal financial behavior.\n",
    "\n",
    "20. **AMT_REQ_CREDIT_BUREAU_YEAR:** Number of credit inquiries in the past year can show recent financial activity or distress.\n",
    "\n",
    "These features cover various aspects of a loan applicant's profile, including financial capacity, demographics, assets, employment, credit history, and behavior. This selection aims to provide a comprehensive view for assessing credit risk."
   ]
  },
  {
   "cell_type": "code",
   "execution_count": 7,
   "metadata": {},
   "outputs": [
    {
     "name": "stdout",
     "output_type": "stream",
     "text": [
      "Schema({'SK_ID_CURR': Int64, 'TARGET': Int64, 'NAME_CONTRACT_TYPE': String, 'CODE_GENDER': String, 'FLAG_OWN_CAR': String, 'FLAG_OWN_REALTY': String, 'CNT_CHILDREN': Int64, 'AMT_INCOME_TOTAL': Float64, 'AMT_CREDIT': Float64, 'AMT_ANNUITY': Float64, 'AMT_GOODS_PRICE': Float64, 'NAME_TYPE_SUITE': String, 'NAME_INCOME_TYPE': String, 'NAME_EDUCATION_TYPE': String, 'NAME_FAMILY_STATUS': String, 'NAME_HOUSING_TYPE': String, 'REGION_POPULATION_RELATIVE': Float64, 'DAYS_BIRTH': Int64, 'DAYS_EMPLOYED': Int64, 'DAYS_REGISTRATION': Float64, 'DAYS_ID_PUBLISH': Int64, 'OWN_CAR_AGE': Float64, 'FLAG_MOBIL': Int64, 'FLAG_EMP_PHONE': Int64, 'FLAG_WORK_PHONE': Int64, 'FLAG_CONT_MOBILE': Int64, 'FLAG_PHONE': Int64, 'FLAG_EMAIL': Int64, 'OCCUPATION_TYPE': String, 'CNT_FAM_MEMBERS': Float64, 'REGION_RATING_CLIENT': Int64, 'REGION_RATING_CLIENT_W_CITY': Int64, 'WEEKDAY_APPR_PROCESS_START': String, 'HOUR_APPR_PROCESS_START': Int64, 'REG_REGION_NOT_LIVE_REGION': Int64, 'REG_REGION_NOT_WORK_REGION': Int64, 'LIVE_REGION_NOT_WORK_REGION': Int64, 'REG_CITY_NOT_LIVE_CITY': Int64, 'REG_CITY_NOT_WORK_CITY': Int64, 'LIVE_CITY_NOT_WORK_CITY': Int64, 'ORGANIZATION_TYPE': String, 'EXT_SOURCE_1': Float64, 'EXT_SOURCE_2': Float64, 'EXT_SOURCE_3': Float64, 'APARTMENTS_AVG': Float64, 'BASEMENTAREA_AVG': Float64, 'YEARS_BEGINEXPLUATATION_AVG': Float64, 'YEARS_BUILD_AVG': Float64, 'COMMONAREA_AVG': Float64, 'ELEVATORS_AVG': Float64, 'ENTRANCES_AVG': Float64, 'FLOORSMAX_AVG': Float64, 'FLOORSMIN_AVG': Float64, 'LANDAREA_AVG': Float64, 'LIVINGAPARTMENTS_AVG': Float64, 'LIVINGAREA_AVG': Float64, 'NONLIVINGAPARTMENTS_AVG': Float64, 'NONLIVINGAREA_AVG': Float64, 'APARTMENTS_MODE': Float64, 'BASEMENTAREA_MODE': Float64, 'YEARS_BEGINEXPLUATATION_MODE': Float64, 'YEARS_BUILD_MODE': Float64, 'COMMONAREA_MODE': Float64, 'ELEVATORS_MODE': Float64, 'ENTRANCES_MODE': Float64, 'FLOORSMAX_MODE': Float64, 'FLOORSMIN_MODE': Float64, 'LANDAREA_MODE': Float64, 'LIVINGAPARTMENTS_MODE': Float64, 'LIVINGAREA_MODE': Float64, 'NONLIVINGAPARTMENTS_MODE': Float64, 'NONLIVINGAREA_MODE': Float64, 'APARTMENTS_MEDI': Float64, 'BASEMENTAREA_MEDI': Float64, 'YEARS_BEGINEXPLUATATION_MEDI': Float64, 'YEARS_BUILD_MEDI': Float64, 'COMMONAREA_MEDI': Float64, 'ELEVATORS_MEDI': Float64, 'ENTRANCES_MEDI': Float64, 'FLOORSMAX_MEDI': Float64, 'FLOORSMIN_MEDI': Float64, 'LANDAREA_MEDI': Float64, 'LIVINGAPARTMENTS_MEDI': Float64, 'LIVINGAREA_MEDI': Float64, 'NONLIVINGAPARTMENTS_MEDI': Float64, 'NONLIVINGAREA_MEDI': Float64, 'FONDKAPREMONT_MODE': String, 'HOUSETYPE_MODE': String, 'TOTALAREA_MODE': Float64, 'WALLSMATERIAL_MODE': String, 'EMERGENCYSTATE_MODE': String, 'OBS_30_CNT_SOCIAL_CIRCLE': Float64, 'DEF_30_CNT_SOCIAL_CIRCLE': Float64, 'OBS_60_CNT_SOCIAL_CIRCLE': Float64, 'DEF_60_CNT_SOCIAL_CIRCLE': Float64, 'DAYS_LAST_PHONE_CHANGE': Float64, 'FLAG_DOCUMENT_2': Int64, 'FLAG_DOCUMENT_3': Int64, 'FLAG_DOCUMENT_4': Int64, 'FLAG_DOCUMENT_5': Int64, 'FLAG_DOCUMENT_6': Int64, 'FLAG_DOCUMENT_7': Int64, 'FLAG_DOCUMENT_8': Int64, 'FLAG_DOCUMENT_9': Int64, 'FLAG_DOCUMENT_10': Int64, 'FLAG_DOCUMENT_11': Int64, 'FLAG_DOCUMENT_12': Int64, 'FLAG_DOCUMENT_13': Int64, 'FLAG_DOCUMENT_14': Int64, 'FLAG_DOCUMENT_15': Int64, 'FLAG_DOCUMENT_16': Int64, 'FLAG_DOCUMENT_17': Int64, 'FLAG_DOCUMENT_18': Int64, 'FLAG_DOCUMENT_19': Int64, 'FLAG_DOCUMENT_20': Int64, 'FLAG_DOCUMENT_21': Int64, 'AMT_REQ_CREDIT_BUREAU_HOUR': Float64, 'AMT_REQ_CREDIT_BUREAU_DAY': Float64, 'AMT_REQ_CREDIT_BUREAU_WEEK': Float64, 'AMT_REQ_CREDIT_BUREAU_MON': Float64, 'AMT_REQ_CREDIT_BUREAU_QRT': Float64, 'AMT_REQ_CREDIT_BUREAU_YEAR': Float64})\n"
     ]
    }
   ],
   "source": [
    "print(application_train.schema)"
   ]
  },
  {
   "cell_type": "code",
   "execution_count": 8,
   "metadata": {},
   "outputs": [
    {
     "name": "stdout",
     "output_type": "stream",
     "text": [
      "shape: (9, 123)\n",
      "┌───────────┬───────────┬──────────┬───────────┬───┬───────────┬───────────┬───────────┬───────────┐\n",
      "│ statistic ┆ SK_ID_CUR ┆ TARGET   ┆ NAME_CONT ┆ … ┆ AMT_REQ_C ┆ AMT_REQ_C ┆ AMT_REQ_C ┆ AMT_REQ_C │\n",
      "│ ---       ┆ R         ┆ ---      ┆ RACT_TYPE ┆   ┆ REDIT_BUR ┆ REDIT_BUR ┆ REDIT_BUR ┆ REDIT_BUR │\n",
      "│ str       ┆ ---       ┆ f64      ┆ ---       ┆   ┆ EAU_WEEK  ┆ EAU_MON   ┆ EAU_QRT   ┆ EAU_YEAR  │\n",
      "│           ┆ f64       ┆          ┆ str       ┆   ┆ ---       ┆ ---       ┆ ---       ┆ ---       │\n",
      "│           ┆           ┆          ┆           ┆   ┆ f64       ┆ f64       ┆ f64       ┆ f64       │\n",
      "╞═══════════╪═══════════╪══════════╪═══════════╪═══╪═══════════╪═══════════╪═══════════╪═══════════╡\n",
      "│ count     ┆ 307511.0  ┆ 307511.0 ┆ 307511    ┆ … ┆ 265992.0  ┆ 265992.0  ┆ 265992.0  ┆ 265992.0  │\n",
      "│ null_coun ┆ 0.0       ┆ 0.0      ┆ 0         ┆ … ┆ 41519.0   ┆ 41519.0   ┆ 41519.0   ┆ 41519.0   │\n",
      "│ t         ┆           ┆          ┆           ┆   ┆           ┆           ┆           ┆           │\n",
      "│ mean      ┆ 278180.51 ┆ 0.080729 ┆ null      ┆ … ┆ 0.034362  ┆ 0.267395  ┆ 0.265474  ┆ 1.899974  │\n",
      "│           ┆ 8577      ┆          ┆           ┆   ┆           ┆           ┆           ┆           │\n",
      "│ std       ┆ 102790.17 ┆ 0.272419 ┆ null      ┆ … ┆ 0.204685  ┆ 0.916002  ┆ 0.794056  ┆ 1.869295  │\n",
      "│           ┆ 5348      ┆          ┆           ┆   ┆           ┆           ┆           ┆           │\n",
      "│ min       ┆ 100002.0  ┆ 0.0      ┆ Cash      ┆ … ┆ 0.0       ┆ 0.0       ┆ 0.0       ┆ 0.0       │\n",
      "│           ┆           ┆          ┆ loans     ┆   ┆           ┆           ┆           ┆           │\n",
      "│ 25%       ┆ 189146.0  ┆ 0.0      ┆ null      ┆ … ┆ 0.0       ┆ 0.0       ┆ 0.0       ┆ 0.0       │\n",
      "│ 50%       ┆ 278202.0  ┆ 0.0      ┆ null      ┆ … ┆ 0.0       ┆ 0.0       ┆ 0.0       ┆ 1.0       │\n",
      "│ 75%       ┆ 367143.0  ┆ 0.0      ┆ null      ┆ … ┆ 0.0       ┆ 0.0       ┆ 0.0       ┆ 3.0       │\n",
      "│ max       ┆ 456255.0  ┆ 1.0      ┆ Revolving ┆ … ┆ 8.0       ┆ 27.0      ┆ 261.0     ┆ 25.0      │\n",
      "│           ┆           ┆          ┆ loans     ┆   ┆           ┆           ┆           ┆           │\n",
      "└───────────┴───────────┴──────────┴───────────┴───┴───────────┴───────────┴───────────┴───────────┘\n"
     ]
    }
   ],
   "source": [
    "print(application_train.describe())"
   ]
  },
  {
   "cell_type": "markdown",
   "metadata": {},
   "source": [
    "Next up we can convert them to Pandas dataframe objects for AutoEDA tools.\n"
   ]
  }
 ],
 "metadata": {
  "kernelspec": {
   "display_name": "Python 3",
   "language": "python",
   "name": "python3"
  },
  "language_info": {
   "codemirror_mode": {
    "name": "ipython",
    "version": 3
   },
   "file_extension": ".py",
   "mimetype": "text/x-python",
   "name": "python",
   "nbconvert_exporter": "python",
   "pygments_lexer": "ipython3",
   "version": "3.12.5"
  }
 },
 "nbformat": 4,
 "nbformat_minor": 2
}
