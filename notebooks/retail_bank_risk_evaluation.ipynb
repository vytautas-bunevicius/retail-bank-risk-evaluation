{
 "cells": [
  {
   "cell_type": "markdown",
   "metadata": {},
   "source": [
    "## Home Credit Default Risk Prediction\n",
    "\n",
    "### Project Overview\n",
    "\n",
    "This project aims to develop multiple machine learning models to predict the likelihood of loan default for Home Credit Group clients. As a proof-of-concept (POC) for our startup's risk evaluation service, we'll create a suite of models that can help banks make more informed decisions about loan approvals. Our goal is to maximize accuracy in identifying both creditworthy clients and potential defaults, providing a robust and flexible solution for our potential banking clients.\n",
    "\n",
    "### Why is this Important?\n",
    "\n",
    "Home Credit specializes in lending to individuals with limited or no credit history (often referred to as \"unbanked\" or \"underbanked\"). They utilize diverse data sources, including phone and transaction data, to assess loan repayment probability. By developing accurate default prediction models, we can:\n",
    "\n",
    "- **Expand financial inclusion:** Enable deserving clients who might be rejected by traditional methods to access credit.\n",
    "- **Optimize risk management:** Help financial institutions make more informed lending decisions, reducing their exposure to potential losses.\n",
    "- **Demonstrate our startup's capabilities:** Showcase our ability to translate complex business requirements into effective machine learning solutions.\n",
    "\n",
    "### Dataset Description\n",
    "\n",
    "We're using the Home Credit Default Risk dataset, which includes comprehensive information about loan applications and borrowers' credit histories. The data is structured across several interconnected tables:\n",
    "\n",
    "1. **Application Data (`application_{train|test}.csv`):** The primary table containing loan application details such as age, income, employment history, etc.\n",
    "2. **Bureau Data (`bureau.csv` and `bureau_balance.csv`):** Information about the applicants' previous loans from other financial institutions.\n",
    "3. **Previous Applications (`previous_application.csv`):** Historical data on the applicants' past loan applications with Home Credit.\n",
    "4. **Home Credit Loan Details:**\n",
    "   - **POS and Cash Loans Balance (`pos_cash_balance.csv`):** Monthly balance snapshots of previous point-of-sale and cash loans.\n",
    "   - **Credit Card Balance (`credit_card_balance.csv`):** Monthly balance snapshots of previous credit cards.\n",
    "5. **Installments Payments (`installments_payments.csv`):** Payment history for previous loans at Home Credit.\n",
    "\n",
    "### Our Approach\n",
    "\n",
    "We'll use a comprehensive, multi-stage approach to develop our predictive models:\n",
    "\n",
    "1. **Initial Data Exploration:**\n",
    "\n",
    "   - Conduct thorough Exploratory Data Analysis (EDA) on each table.\n",
    "   - Identify key variables and their distributions.\n",
    "   - Investigate relationships between features and the target variable (loan default).\n",
    "   - Check for data quality issues, missing values, and anomalies.\n",
    "\n",
    "2. **Feature Engineering and Data Preprocessing:**\n",
    "\n",
    "   - Create new features based on domain knowledge and initial insights.\n",
    "   - Handle missing data and outliers.\n",
    "   - Perform appropriate encoding for categorical variables and scaling for numerical features.\n",
    "\n",
    "3. **Statistical Inference:**\n",
    "\n",
    "   - Define the target population and formulate multiple statistical hypotheses.\n",
    "   - Construct confidence intervals and conduct appropriate statistical tests.\n",
    "   - Analyze correlations and other relationships between variables.\n",
    "\n",
    "4. **Model Development:**\n",
    "\n",
    "   - Implement multiple machine learning algorithms (e.g., Logistic Regression, Random Forests, Gradient Boosting).\n",
    "   - Utilize cross-validation techniques to ensure model robustness.\n",
    "   - Perform hyperparameter tuning to optimize model performance.\n",
    "\n",
    "5. **Model Evaluation and Selection:**\n",
    "\n",
    "   - Assess models using appropriate performance metrics (e.g., AUC-ROC, precision, recall).\n",
    "   - Analyze feature importance and model interpretability.\n",
    "   - Select the best-performing models for deployment.\n",
    "\n",
    "6. **Model Deployment:**\n",
    "\n",
    "   - Deploy the top-performing models to Google Cloud Platform.\n",
    "   - Ensure models are accessible via HTTP requests for easy integration.\n",
    "\n",
    "7. **Documentation and Presentation:**\n",
    "   - Clearly document all steps, assumptions, and results.\n",
    "   - Prepare visualizations and explanations of our findings.\n",
    "   - Develop recommendations for potential clients based on our insights.\n",
    "\n",
    "### Additional Notes\n",
    "\n",
    "- **Data Source:** The dataset is from the [Home Credit Default Risk Kaggle Competition](https://www.kaggle.com/competitions/home-credit-default-risk/data).\n",
    "- **Geographic Scope:** Home Credit operates primarily in CIS and Southeast Asian countries, including Kazakhstan, Russia, Vietnam, China, Indonesia, and the Philippines.\n",
    "- **Product Categories:** Home Credit offers various loan products:\n",
    "  - Revolving loans (credit cards)\n",
    "  - Consumer loans (point-of-sale or POS loans)\n",
    "  - Cash loans\n",
    "- **Ethical Considerations:** We'll pay close attention to potential biases in our models and strive for fair lending practices.\n",
    "- **Iterative Process:** Our approach will be flexible, allowing for iterations and refinements based on insights gained throughout the project.\n",
    "\n",
    "**Home Credit Dataset Schema:**\n",
    "\n",
    "![Home Credit Dataset Schema](../images/data-scheme.png)\n",
    "\n",
    "This project will demonstrate our ability to handle complex, real-world data and deliver valuable insights and predictive capabilities to the financial sector.\n",
    "\n",
    "By the end of this project, we aim to provide Home Credit with a reliable and easy-to-use tool to predict loan default risk, allowing them to make better lending decisions and potentially extend credit to more people who can manage it responsibly.\n"
   ]
  },
  {
   "cell_type": "code",
   "execution_count": 49,
   "metadata": {},
   "outputs": [],
   "source": [
    "from typing import Dict\n",
    "import pandas as pd\n",
    "import polars as pl\n",
    "import numpy as np\n",
    "from sklearn.model_selection import train_test_split\n",
    "from sklearn.preprocessing import StandardScaler\n",
    "from sklearn.ensemble import RandomForestClassifier\n",
    "from sklearn.linear_model import LogisticRegression\n",
    "import xgboost as xgb\n",
    "import lightgbm as lgb\n",
    "import matplotlib.pyplot as plt\n",
    "import matplotlib as mpl\n",
    "import matplotlib.pyplot as plt\n",
    "\n",
    "from retail_bank_risk.data_preprocessing_utils import (\n",
    "    handle_missing_values,\n",
    "    simple_imputation,\n",
    "    flag_anomalies,\n",
    "    reduce_memory_usage_pl,\n",
    "    initial_feature_reduction,\n",
    "    get_top_missing_value_percentages,\n",
    "    analyze_missing_values\n",
    "\n",
    ")\n",
    "from retail_bank_risk.basic_visualizations_utils import (\n",
    "    plot_correlation_matrix,\n",
    "    plot_combined_histograms,\n",
    "    plot_categorical_features_by_target,\n",
    "    plot_combined_bar_charts,\n",
    "    plot_combined_boxplots,\n",
    "    plot_single_bar_chart,\n",
    "    plot_feature_importances,\n",
    ")\n",
    "from retail_bank_risk.model_utils import (\n",
    "    evaluate_model,\n",
    "    extract_feature_importances,\n",
    ")\n",
    "from retail_bank_risk.advanced_visualizations_utils import (\n",
    "    plot_model_performance,\n",
    "    plot_combined_confusion_matrices,\n",
    "    plot_roc_curve,\n",
    "    plot_precision_recall_curve,\n",
    "    plot_confusion_matrix,\n",
    "    plot_learning_curve,\n",
    ")"
   ]
  },
  {
   "cell_type": "markdown",
   "metadata": {},
   "source": [
    "For reproducibility, we set a random seed.\n"
   ]
  },
  {
   "cell_type": "code",
   "execution_count": 4,
   "metadata": {},
   "outputs": [],
   "source": [
    "np.random.seed(42)"
   ]
  },
  {
   "cell_type": "markdown",
   "metadata": {},
   "source": [
    "We then load the CSV files using Polars.\n"
   ]
  },
  {
   "cell_type": "code",
   "execution_count": 5,
   "metadata": {},
   "outputs": [],
   "source": [
    "application_train = pl.read_csv(\"../data/application_train.csv\")\n",
    "application_test = pl.read_csv(\"../data/application_test.csv\")\n",
    "previous_application = pl.read_csv(\"../data/previous_application.csv\")\n",
    "pos_cash_balance = pl.read_csv(\"../data/pos_cash_balance.csv\")\n",
    "installments_payments = pl.read_csv(\"../data/installments_payments.csv\")\n",
    "bureau = pl.read_csv(\"../data/bureau.csv\")\n",
    "bureau_balance = pl.read_csv(\"../data/bureau_balance.csv\")\n",
    "credit_card_balance = pl.read_csv(\"../data/credit_card_balance.csv\")"
   ]
  },
  {
   "cell_type": "markdown",
   "metadata": {},
   "source": [
    "We've loaded all the data tables, but our initial focus will be on the application_train DataFrame.\n",
    "\n",
    "This table contains the core details of each loan application, which might be sufficient for building our first models.\n",
    "\n",
    "If we need more information to improve accuracy, we'll then explore the other tables and incorporate relevant data from them.\n",
    "\n",
    "Next up we will check the first rows of our train and test datasets.\n"
   ]
  },
  {
   "cell_type": "code",
   "execution_count": 6,
   "metadata": {},
   "outputs": [
    {
     "data": {
      "text/html": [
       "<div><style>\n",
       ".dataframe > thead > tr,\n",
       ".dataframe > tbody > tr {\n",
       "  text-align: right;\n",
       "  white-space: pre-wrap;\n",
       "}\n",
       "</style>\n",
       "<small>shape: (5, 122)</small><table border=\"1\" class=\"dataframe\"><thead><tr><th>SK_ID_CURR</th><th>TARGET</th><th>NAME_CONTRACT_TYPE</th><th>CODE_GENDER</th><th>FLAG_OWN_CAR</th><th>FLAG_OWN_REALTY</th><th>CNT_CHILDREN</th><th>AMT_INCOME_TOTAL</th><th>AMT_CREDIT</th><th>AMT_ANNUITY</th><th>AMT_GOODS_PRICE</th><th>NAME_TYPE_SUITE</th><th>NAME_INCOME_TYPE</th><th>NAME_EDUCATION_TYPE</th><th>NAME_FAMILY_STATUS</th><th>NAME_HOUSING_TYPE</th><th>REGION_POPULATION_RELATIVE</th><th>DAYS_BIRTH</th><th>DAYS_EMPLOYED</th><th>DAYS_REGISTRATION</th><th>DAYS_ID_PUBLISH</th><th>OWN_CAR_AGE</th><th>FLAG_MOBIL</th><th>FLAG_EMP_PHONE</th><th>FLAG_WORK_PHONE</th><th>FLAG_CONT_MOBILE</th><th>FLAG_PHONE</th><th>FLAG_EMAIL</th><th>OCCUPATION_TYPE</th><th>CNT_FAM_MEMBERS</th><th>REGION_RATING_CLIENT</th><th>REGION_RATING_CLIENT_W_CITY</th><th>WEEKDAY_APPR_PROCESS_START</th><th>HOUR_APPR_PROCESS_START</th><th>REG_REGION_NOT_LIVE_REGION</th><th>REG_REGION_NOT_WORK_REGION</th><th>LIVE_REGION_NOT_WORK_REGION</th><th>&hellip;</th><th>NONLIVINGAREA_MEDI</th><th>FONDKAPREMONT_MODE</th><th>HOUSETYPE_MODE</th><th>TOTALAREA_MODE</th><th>WALLSMATERIAL_MODE</th><th>EMERGENCYSTATE_MODE</th><th>OBS_30_CNT_SOCIAL_CIRCLE</th><th>DEF_30_CNT_SOCIAL_CIRCLE</th><th>OBS_60_CNT_SOCIAL_CIRCLE</th><th>DEF_60_CNT_SOCIAL_CIRCLE</th><th>DAYS_LAST_PHONE_CHANGE</th><th>FLAG_DOCUMENT_2</th><th>FLAG_DOCUMENT_3</th><th>FLAG_DOCUMENT_4</th><th>FLAG_DOCUMENT_5</th><th>FLAG_DOCUMENT_6</th><th>FLAG_DOCUMENT_7</th><th>FLAG_DOCUMENT_8</th><th>FLAG_DOCUMENT_9</th><th>FLAG_DOCUMENT_10</th><th>FLAG_DOCUMENT_11</th><th>FLAG_DOCUMENT_12</th><th>FLAG_DOCUMENT_13</th><th>FLAG_DOCUMENT_14</th><th>FLAG_DOCUMENT_15</th><th>FLAG_DOCUMENT_16</th><th>FLAG_DOCUMENT_17</th><th>FLAG_DOCUMENT_18</th><th>FLAG_DOCUMENT_19</th><th>FLAG_DOCUMENT_20</th><th>FLAG_DOCUMENT_21</th><th>AMT_REQ_CREDIT_BUREAU_HOUR</th><th>AMT_REQ_CREDIT_BUREAU_DAY</th><th>AMT_REQ_CREDIT_BUREAU_WEEK</th><th>AMT_REQ_CREDIT_BUREAU_MON</th><th>AMT_REQ_CREDIT_BUREAU_QRT</th><th>AMT_REQ_CREDIT_BUREAU_YEAR</th></tr><tr><td>i64</td><td>i64</td><td>str</td><td>str</td><td>str</td><td>str</td><td>i64</td><td>f64</td><td>f64</td><td>f64</td><td>f64</td><td>str</td><td>str</td><td>str</td><td>str</td><td>str</td><td>f64</td><td>i64</td><td>i64</td><td>f64</td><td>i64</td><td>f64</td><td>i64</td><td>i64</td><td>i64</td><td>i64</td><td>i64</td><td>i64</td><td>str</td><td>f64</td><td>i64</td><td>i64</td><td>str</td><td>i64</td><td>i64</td><td>i64</td><td>i64</td><td>&hellip;</td><td>f64</td><td>str</td><td>str</td><td>f64</td><td>str</td><td>str</td><td>f64</td><td>f64</td><td>f64</td><td>f64</td><td>f64</td><td>i64</td><td>i64</td><td>i64</td><td>i64</td><td>i64</td><td>i64</td><td>i64</td><td>i64</td><td>i64</td><td>i64</td><td>i64</td><td>i64</td><td>i64</td><td>i64</td><td>i64</td><td>i64</td><td>i64</td><td>i64</td><td>i64</td><td>i64</td><td>f64</td><td>f64</td><td>f64</td><td>f64</td><td>f64</td><td>f64</td></tr></thead><tbody><tr><td>100002</td><td>1</td><td>&quot;Cash loans&quot;</td><td>&quot;M&quot;</td><td>&quot;N&quot;</td><td>&quot;Y&quot;</td><td>0</td><td>202500.0</td><td>406597.5</td><td>24700.5</td><td>351000.0</td><td>&quot;Unaccompanied&quot;</td><td>&quot;Working&quot;</td><td>&quot;Secondary / secondary special&quot;</td><td>&quot;Single / not married&quot;</td><td>&quot;House / apartment&quot;</td><td>0.018801</td><td>-9461</td><td>-637</td><td>-3648.0</td><td>-2120</td><td>null</td><td>1</td><td>1</td><td>0</td><td>1</td><td>1</td><td>0</td><td>&quot;Laborers&quot;</td><td>1.0</td><td>2</td><td>2</td><td>&quot;WEDNESDAY&quot;</td><td>10</td><td>0</td><td>0</td><td>0</td><td>&hellip;</td><td>0.0</td><td>&quot;reg oper account&quot;</td><td>&quot;block of flats&quot;</td><td>0.0149</td><td>&quot;Stone, brick&quot;</td><td>&quot;No&quot;</td><td>2.0</td><td>2.0</td><td>2.0</td><td>2.0</td><td>-1134.0</td><td>0</td><td>1</td><td>0</td><td>0</td><td>0</td><td>0</td><td>0</td><td>0</td><td>0</td><td>0</td><td>0</td><td>0</td><td>0</td><td>0</td><td>0</td><td>0</td><td>0</td><td>0</td><td>0</td><td>0</td><td>0.0</td><td>0.0</td><td>0.0</td><td>0.0</td><td>0.0</td><td>1.0</td></tr><tr><td>100003</td><td>0</td><td>&quot;Cash loans&quot;</td><td>&quot;F&quot;</td><td>&quot;N&quot;</td><td>&quot;N&quot;</td><td>0</td><td>270000.0</td><td>1293502.5</td><td>35698.5</td><td>1.1295e6</td><td>&quot;Family&quot;</td><td>&quot;State servant&quot;</td><td>&quot;Higher education&quot;</td><td>&quot;Married&quot;</td><td>&quot;House / apartment&quot;</td><td>0.003541</td><td>-16765</td><td>-1188</td><td>-1186.0</td><td>-291</td><td>null</td><td>1</td><td>1</td><td>0</td><td>1</td><td>1</td><td>0</td><td>&quot;Core staff&quot;</td><td>2.0</td><td>1</td><td>1</td><td>&quot;MONDAY&quot;</td><td>11</td><td>0</td><td>0</td><td>0</td><td>&hellip;</td><td>0.01</td><td>&quot;reg oper account&quot;</td><td>&quot;block of flats&quot;</td><td>0.0714</td><td>&quot;Block&quot;</td><td>&quot;No&quot;</td><td>1.0</td><td>0.0</td><td>1.0</td><td>0.0</td><td>-828.0</td><td>0</td><td>1</td><td>0</td><td>0</td><td>0</td><td>0</td><td>0</td><td>0</td><td>0</td><td>0</td><td>0</td><td>0</td><td>0</td><td>0</td><td>0</td><td>0</td><td>0</td><td>0</td><td>0</td><td>0</td><td>0.0</td><td>0.0</td><td>0.0</td><td>0.0</td><td>0.0</td><td>0.0</td></tr><tr><td>100004</td><td>0</td><td>&quot;Revolving loans&quot;</td><td>&quot;M&quot;</td><td>&quot;Y&quot;</td><td>&quot;Y&quot;</td><td>0</td><td>67500.0</td><td>135000.0</td><td>6750.0</td><td>135000.0</td><td>&quot;Unaccompanied&quot;</td><td>&quot;Working&quot;</td><td>&quot;Secondary / secondary special&quot;</td><td>&quot;Single / not married&quot;</td><td>&quot;House / apartment&quot;</td><td>0.010032</td><td>-19046</td><td>-225</td><td>-4260.0</td><td>-2531</td><td>26.0</td><td>1</td><td>1</td><td>1</td><td>1</td><td>1</td><td>0</td><td>&quot;Laborers&quot;</td><td>1.0</td><td>2</td><td>2</td><td>&quot;MONDAY&quot;</td><td>9</td><td>0</td><td>0</td><td>0</td><td>&hellip;</td><td>null</td><td>null</td><td>null</td><td>null</td><td>null</td><td>null</td><td>0.0</td><td>0.0</td><td>0.0</td><td>0.0</td><td>-815.0</td><td>0</td><td>0</td><td>0</td><td>0</td><td>0</td><td>0</td><td>0</td><td>0</td><td>0</td><td>0</td><td>0</td><td>0</td><td>0</td><td>0</td><td>0</td><td>0</td><td>0</td><td>0</td><td>0</td><td>0</td><td>0.0</td><td>0.0</td><td>0.0</td><td>0.0</td><td>0.0</td><td>0.0</td></tr><tr><td>100006</td><td>0</td><td>&quot;Cash loans&quot;</td><td>&quot;F&quot;</td><td>&quot;N&quot;</td><td>&quot;Y&quot;</td><td>0</td><td>135000.0</td><td>312682.5</td><td>29686.5</td><td>297000.0</td><td>&quot;Unaccompanied&quot;</td><td>&quot;Working&quot;</td><td>&quot;Secondary / secondary special&quot;</td><td>&quot;Civil marriage&quot;</td><td>&quot;House / apartment&quot;</td><td>0.008019</td><td>-19005</td><td>-3039</td><td>-9833.0</td><td>-2437</td><td>null</td><td>1</td><td>1</td><td>0</td><td>1</td><td>0</td><td>0</td><td>&quot;Laborers&quot;</td><td>2.0</td><td>2</td><td>2</td><td>&quot;WEDNESDAY&quot;</td><td>17</td><td>0</td><td>0</td><td>0</td><td>&hellip;</td><td>null</td><td>null</td><td>null</td><td>null</td><td>null</td><td>null</td><td>2.0</td><td>0.0</td><td>2.0</td><td>0.0</td><td>-617.0</td><td>0</td><td>1</td><td>0</td><td>0</td><td>0</td><td>0</td><td>0</td><td>0</td><td>0</td><td>0</td><td>0</td><td>0</td><td>0</td><td>0</td><td>0</td><td>0</td><td>0</td><td>0</td><td>0</td><td>0</td><td>null</td><td>null</td><td>null</td><td>null</td><td>null</td><td>null</td></tr><tr><td>100007</td><td>0</td><td>&quot;Cash loans&quot;</td><td>&quot;M&quot;</td><td>&quot;N&quot;</td><td>&quot;Y&quot;</td><td>0</td><td>121500.0</td><td>513000.0</td><td>21865.5</td><td>513000.0</td><td>&quot;Unaccompanied&quot;</td><td>&quot;Working&quot;</td><td>&quot;Secondary / secondary special&quot;</td><td>&quot;Single / not married&quot;</td><td>&quot;House / apartment&quot;</td><td>0.028663</td><td>-19932</td><td>-3038</td><td>-4311.0</td><td>-3458</td><td>null</td><td>1</td><td>1</td><td>0</td><td>1</td><td>0</td><td>0</td><td>&quot;Core staff&quot;</td><td>1.0</td><td>2</td><td>2</td><td>&quot;THURSDAY&quot;</td><td>11</td><td>0</td><td>0</td><td>0</td><td>&hellip;</td><td>null</td><td>null</td><td>null</td><td>null</td><td>null</td><td>null</td><td>0.0</td><td>0.0</td><td>0.0</td><td>0.0</td><td>-1106.0</td><td>0</td><td>0</td><td>0</td><td>0</td><td>0</td><td>0</td><td>1</td><td>0</td><td>0</td><td>0</td><td>0</td><td>0</td><td>0</td><td>0</td><td>0</td><td>0</td><td>0</td><td>0</td><td>0</td><td>0</td><td>0.0</td><td>0.0</td><td>0.0</td><td>0.0</td><td>0.0</td><td>0.0</td></tr></tbody></table></div>"
      ],
      "text/plain": [
       "shape: (5, 122)\n",
       "┌────────────┬────────┬────────────┬───────────┬───┬───────────┬───────────┬───────────┬───────────┐\n",
       "│ SK_ID_CURR ┆ TARGET ┆ NAME_CONTR ┆ CODE_GEND ┆ … ┆ AMT_REQ_C ┆ AMT_REQ_C ┆ AMT_REQ_C ┆ AMT_REQ_C │\n",
       "│ ---        ┆ ---    ┆ ACT_TYPE   ┆ ER        ┆   ┆ REDIT_BUR ┆ REDIT_BUR ┆ REDIT_BUR ┆ REDIT_BUR │\n",
       "│ i64        ┆ i64    ┆ ---        ┆ ---       ┆   ┆ EAU_WEEK  ┆ EAU_MON   ┆ EAU_QRT   ┆ EAU_YEAR  │\n",
       "│            ┆        ┆ str        ┆ str       ┆   ┆ ---       ┆ ---       ┆ ---       ┆ ---       │\n",
       "│            ┆        ┆            ┆           ┆   ┆ f64       ┆ f64       ┆ f64       ┆ f64       │\n",
       "╞════════════╪════════╪════════════╪═══════════╪═══╪═══════════╪═══════════╪═══════════╪═══════════╡\n",
       "│ 100002     ┆ 1      ┆ Cash loans ┆ M         ┆ … ┆ 0.0       ┆ 0.0       ┆ 0.0       ┆ 1.0       │\n",
       "│ 100003     ┆ 0      ┆ Cash loans ┆ F         ┆ … ┆ 0.0       ┆ 0.0       ┆ 0.0       ┆ 0.0       │\n",
       "│ 100004     ┆ 0      ┆ Revolving  ┆ M         ┆ … ┆ 0.0       ┆ 0.0       ┆ 0.0       ┆ 0.0       │\n",
       "│            ┆        ┆ loans      ┆           ┆   ┆           ┆           ┆           ┆           │\n",
       "│ 100006     ┆ 0      ┆ Cash loans ┆ F         ┆ … ┆ null      ┆ null      ┆ null      ┆ null      │\n",
       "│ 100007     ┆ 0      ┆ Cash loans ┆ M         ┆ … ┆ 0.0       ┆ 0.0       ┆ 0.0       ┆ 0.0       │\n",
       "└────────────┴────────┴────────────┴───────────┴───┴───────────┴───────────┴───────────┴───────────┘"
      ]
     },
     "execution_count": 6,
     "metadata": {},
     "output_type": "execute_result"
    }
   ],
   "source": [
    "application_train.head()"
   ]
  },
  {
   "cell_type": "code",
   "execution_count": 7,
   "metadata": {},
   "outputs": [
    {
     "data": {
      "text/html": [
       "<div><style>\n",
       ".dataframe > thead > tr,\n",
       ".dataframe > tbody > tr {\n",
       "  text-align: right;\n",
       "  white-space: pre-wrap;\n",
       "}\n",
       "</style>\n",
       "<small>shape: (5, 121)</small><table border=\"1\" class=\"dataframe\"><thead><tr><th>SK_ID_CURR</th><th>NAME_CONTRACT_TYPE</th><th>CODE_GENDER</th><th>FLAG_OWN_CAR</th><th>FLAG_OWN_REALTY</th><th>CNT_CHILDREN</th><th>AMT_INCOME_TOTAL</th><th>AMT_CREDIT</th><th>AMT_ANNUITY</th><th>AMT_GOODS_PRICE</th><th>NAME_TYPE_SUITE</th><th>NAME_INCOME_TYPE</th><th>NAME_EDUCATION_TYPE</th><th>NAME_FAMILY_STATUS</th><th>NAME_HOUSING_TYPE</th><th>REGION_POPULATION_RELATIVE</th><th>DAYS_BIRTH</th><th>DAYS_EMPLOYED</th><th>DAYS_REGISTRATION</th><th>DAYS_ID_PUBLISH</th><th>OWN_CAR_AGE</th><th>FLAG_MOBIL</th><th>FLAG_EMP_PHONE</th><th>FLAG_WORK_PHONE</th><th>FLAG_CONT_MOBILE</th><th>FLAG_PHONE</th><th>FLAG_EMAIL</th><th>OCCUPATION_TYPE</th><th>CNT_FAM_MEMBERS</th><th>REGION_RATING_CLIENT</th><th>REGION_RATING_CLIENT_W_CITY</th><th>WEEKDAY_APPR_PROCESS_START</th><th>HOUR_APPR_PROCESS_START</th><th>REG_REGION_NOT_LIVE_REGION</th><th>REG_REGION_NOT_WORK_REGION</th><th>LIVE_REGION_NOT_WORK_REGION</th><th>REG_CITY_NOT_LIVE_CITY</th><th>&hellip;</th><th>NONLIVINGAREA_MEDI</th><th>FONDKAPREMONT_MODE</th><th>HOUSETYPE_MODE</th><th>TOTALAREA_MODE</th><th>WALLSMATERIAL_MODE</th><th>EMERGENCYSTATE_MODE</th><th>OBS_30_CNT_SOCIAL_CIRCLE</th><th>DEF_30_CNT_SOCIAL_CIRCLE</th><th>OBS_60_CNT_SOCIAL_CIRCLE</th><th>DEF_60_CNT_SOCIAL_CIRCLE</th><th>DAYS_LAST_PHONE_CHANGE</th><th>FLAG_DOCUMENT_2</th><th>FLAG_DOCUMENT_3</th><th>FLAG_DOCUMENT_4</th><th>FLAG_DOCUMENT_5</th><th>FLAG_DOCUMENT_6</th><th>FLAG_DOCUMENT_7</th><th>FLAG_DOCUMENT_8</th><th>FLAG_DOCUMENT_9</th><th>FLAG_DOCUMENT_10</th><th>FLAG_DOCUMENT_11</th><th>FLAG_DOCUMENT_12</th><th>FLAG_DOCUMENT_13</th><th>FLAG_DOCUMENT_14</th><th>FLAG_DOCUMENT_15</th><th>FLAG_DOCUMENT_16</th><th>FLAG_DOCUMENT_17</th><th>FLAG_DOCUMENT_18</th><th>FLAG_DOCUMENT_19</th><th>FLAG_DOCUMENT_20</th><th>FLAG_DOCUMENT_21</th><th>AMT_REQ_CREDIT_BUREAU_HOUR</th><th>AMT_REQ_CREDIT_BUREAU_DAY</th><th>AMT_REQ_CREDIT_BUREAU_WEEK</th><th>AMT_REQ_CREDIT_BUREAU_MON</th><th>AMT_REQ_CREDIT_BUREAU_QRT</th><th>AMT_REQ_CREDIT_BUREAU_YEAR</th></tr><tr><td>i64</td><td>str</td><td>str</td><td>str</td><td>str</td><td>i64</td><td>f64</td><td>f64</td><td>f64</td><td>f64</td><td>str</td><td>str</td><td>str</td><td>str</td><td>str</td><td>f64</td><td>i64</td><td>i64</td><td>f64</td><td>i64</td><td>f64</td><td>i64</td><td>i64</td><td>i64</td><td>i64</td><td>i64</td><td>i64</td><td>str</td><td>f64</td><td>i64</td><td>i64</td><td>str</td><td>i64</td><td>i64</td><td>i64</td><td>i64</td><td>i64</td><td>&hellip;</td><td>f64</td><td>str</td><td>str</td><td>f64</td><td>str</td><td>str</td><td>f64</td><td>f64</td><td>f64</td><td>f64</td><td>f64</td><td>i64</td><td>i64</td><td>i64</td><td>i64</td><td>i64</td><td>i64</td><td>i64</td><td>i64</td><td>i64</td><td>i64</td><td>i64</td><td>i64</td><td>i64</td><td>i64</td><td>i64</td><td>i64</td><td>i64</td><td>i64</td><td>i64</td><td>i64</td><td>f64</td><td>f64</td><td>f64</td><td>f64</td><td>f64</td><td>f64</td></tr></thead><tbody><tr><td>100001</td><td>&quot;Cash loans&quot;</td><td>&quot;F&quot;</td><td>&quot;N&quot;</td><td>&quot;Y&quot;</td><td>0</td><td>135000.0</td><td>568800.0</td><td>20560.5</td><td>450000.0</td><td>&quot;Unaccompanied&quot;</td><td>&quot;Working&quot;</td><td>&quot;Higher education&quot;</td><td>&quot;Married&quot;</td><td>&quot;House / apartment&quot;</td><td>0.01885</td><td>-19241</td><td>-2329</td><td>-5170.0</td><td>-812</td><td>null</td><td>1</td><td>1</td><td>0</td><td>1</td><td>0</td><td>1</td><td>null</td><td>2.0</td><td>2</td><td>2</td><td>&quot;TUESDAY&quot;</td><td>18</td><td>0</td><td>0</td><td>0</td><td>0</td><td>&hellip;</td><td>null</td><td>null</td><td>&quot;block of flats&quot;</td><td>0.0392</td><td>&quot;Stone, brick&quot;</td><td>&quot;No&quot;</td><td>0.0</td><td>0.0</td><td>0.0</td><td>0.0</td><td>-1740.0</td><td>0</td><td>1</td><td>0</td><td>0</td><td>0</td><td>0</td><td>0</td><td>0</td><td>0</td><td>0</td><td>0</td><td>0</td><td>0</td><td>0</td><td>0</td><td>0</td><td>0</td><td>0</td><td>0</td><td>0</td><td>0.0</td><td>0.0</td><td>0.0</td><td>0.0</td><td>0.0</td><td>0.0</td></tr><tr><td>100005</td><td>&quot;Cash loans&quot;</td><td>&quot;M&quot;</td><td>&quot;N&quot;</td><td>&quot;Y&quot;</td><td>0</td><td>99000.0</td><td>222768.0</td><td>17370.0</td><td>180000.0</td><td>&quot;Unaccompanied&quot;</td><td>&quot;Working&quot;</td><td>&quot;Secondary / secondary special&quot;</td><td>&quot;Married&quot;</td><td>&quot;House / apartment&quot;</td><td>0.035792</td><td>-18064</td><td>-4469</td><td>-9118.0</td><td>-1623</td><td>null</td><td>1</td><td>1</td><td>0</td><td>1</td><td>0</td><td>0</td><td>&quot;Low-skill Laborers&quot;</td><td>2.0</td><td>2</td><td>2</td><td>&quot;FRIDAY&quot;</td><td>9</td><td>0</td><td>0</td><td>0</td><td>0</td><td>&hellip;</td><td>null</td><td>null</td><td>null</td><td>null</td><td>null</td><td>null</td><td>0.0</td><td>0.0</td><td>0.0</td><td>0.0</td><td>0.0</td><td>0</td><td>1</td><td>0</td><td>0</td><td>0</td><td>0</td><td>0</td><td>0</td><td>0</td><td>0</td><td>0</td><td>0</td><td>0</td><td>0</td><td>0</td><td>0</td><td>0</td><td>0</td><td>0</td><td>0</td><td>0.0</td><td>0.0</td><td>0.0</td><td>0.0</td><td>0.0</td><td>3.0</td></tr><tr><td>100013</td><td>&quot;Cash loans&quot;</td><td>&quot;M&quot;</td><td>&quot;Y&quot;</td><td>&quot;Y&quot;</td><td>0</td><td>202500.0</td><td>663264.0</td><td>69777.0</td><td>630000.0</td><td>null</td><td>&quot;Working&quot;</td><td>&quot;Higher education&quot;</td><td>&quot;Married&quot;</td><td>&quot;House / apartment&quot;</td><td>0.019101</td><td>-20038</td><td>-4458</td><td>-2175.0</td><td>-3503</td><td>5.0</td><td>1</td><td>1</td><td>0</td><td>1</td><td>0</td><td>0</td><td>&quot;Drivers&quot;</td><td>2.0</td><td>2</td><td>2</td><td>&quot;MONDAY&quot;</td><td>14</td><td>0</td><td>0</td><td>0</td><td>0</td><td>&hellip;</td><td>null</td><td>null</td><td>null</td><td>null</td><td>null</td><td>null</td><td>0.0</td><td>0.0</td><td>0.0</td><td>0.0</td><td>-856.0</td><td>0</td><td>0</td><td>0</td><td>0</td><td>0</td><td>0</td><td>1</td><td>0</td><td>0</td><td>0</td><td>0</td><td>0</td><td>0</td><td>0</td><td>0</td><td>0</td><td>0</td><td>0</td><td>0</td><td>0</td><td>0.0</td><td>0.0</td><td>0.0</td><td>0.0</td><td>1.0</td><td>4.0</td></tr><tr><td>100028</td><td>&quot;Cash loans&quot;</td><td>&quot;F&quot;</td><td>&quot;N&quot;</td><td>&quot;Y&quot;</td><td>2</td><td>315000.0</td><td>1.575e6</td><td>49018.5</td><td>1.575e6</td><td>&quot;Unaccompanied&quot;</td><td>&quot;Working&quot;</td><td>&quot;Secondary / secondary special&quot;</td><td>&quot;Married&quot;</td><td>&quot;House / apartment&quot;</td><td>0.026392</td><td>-13976</td><td>-1866</td><td>-2000.0</td><td>-4208</td><td>null</td><td>1</td><td>1</td><td>0</td><td>1</td><td>1</td><td>0</td><td>&quot;Sales staff&quot;</td><td>4.0</td><td>2</td><td>2</td><td>&quot;WEDNESDAY&quot;</td><td>11</td><td>0</td><td>0</td><td>0</td><td>0</td><td>&hellip;</td><td>0.0817</td><td>&quot;reg oper account&quot;</td><td>&quot;block of flats&quot;</td><td>0.37</td><td>&quot;Panel&quot;</td><td>&quot;No&quot;</td><td>0.0</td><td>0.0</td><td>0.0</td><td>0.0</td><td>-1805.0</td><td>0</td><td>1</td><td>0</td><td>0</td><td>0</td><td>0</td><td>0</td><td>0</td><td>0</td><td>0</td><td>0</td><td>0</td><td>0</td><td>0</td><td>0</td><td>0</td><td>0</td><td>0</td><td>0</td><td>0</td><td>0.0</td><td>0.0</td><td>0.0</td><td>0.0</td><td>0.0</td><td>3.0</td></tr><tr><td>100038</td><td>&quot;Cash loans&quot;</td><td>&quot;M&quot;</td><td>&quot;Y&quot;</td><td>&quot;N&quot;</td><td>1</td><td>180000.0</td><td>625500.0</td><td>32067.0</td><td>625500.0</td><td>&quot;Unaccompanied&quot;</td><td>&quot;Working&quot;</td><td>&quot;Secondary / secondary special&quot;</td><td>&quot;Married&quot;</td><td>&quot;House / apartment&quot;</td><td>0.010032</td><td>-13040</td><td>-2191</td><td>-4000.0</td><td>-4262</td><td>16.0</td><td>1</td><td>1</td><td>1</td><td>1</td><td>0</td><td>0</td><td>null</td><td>3.0</td><td>2</td><td>2</td><td>&quot;FRIDAY&quot;</td><td>5</td><td>0</td><td>0</td><td>0</td><td>0</td><td>&hellip;</td><td>null</td><td>null</td><td>null</td><td>null</td><td>null</td><td>null</td><td>0.0</td><td>0.0</td><td>0.0</td><td>0.0</td><td>-821.0</td><td>0</td><td>1</td><td>0</td><td>0</td><td>0</td><td>0</td><td>0</td><td>0</td><td>0</td><td>0</td><td>0</td><td>0</td><td>0</td><td>0</td><td>0</td><td>0</td><td>0</td><td>0</td><td>0</td><td>0</td><td>null</td><td>null</td><td>null</td><td>null</td><td>null</td><td>null</td></tr></tbody></table></div>"
      ],
      "text/plain": [
       "shape: (5, 121)\n",
       "┌───────────┬───────────┬───────────┬───────────┬───┬───────────┬───────────┬───────────┬──────────┐\n",
       "│ SK_ID_CUR ┆ NAME_CONT ┆ CODE_GEND ┆ FLAG_OWN_ ┆ … ┆ AMT_REQ_C ┆ AMT_REQ_C ┆ AMT_REQ_C ┆ AMT_REQ_ │\n",
       "│ R         ┆ RACT_TYPE ┆ ER        ┆ CAR       ┆   ┆ REDIT_BUR ┆ REDIT_BUR ┆ REDIT_BUR ┆ CREDIT_B │\n",
       "│ ---       ┆ ---       ┆ ---       ┆ ---       ┆   ┆ EAU_WEEK  ┆ EAU_MON   ┆ EAU_QRT   ┆ UREAU_YE │\n",
       "│ i64       ┆ str       ┆ str       ┆ str       ┆   ┆ ---       ┆ ---       ┆ ---       ┆ AR       │\n",
       "│           ┆           ┆           ┆           ┆   ┆ f64       ┆ f64       ┆ f64       ┆ ---      │\n",
       "│           ┆           ┆           ┆           ┆   ┆           ┆           ┆           ┆ f64      │\n",
       "╞═══════════╪═══════════╪═══════════╪═══════════╪═══╪═══════════╪═══════════╪═══════════╪══════════╡\n",
       "│ 100001    ┆ Cash      ┆ F         ┆ N         ┆ … ┆ 0.0       ┆ 0.0       ┆ 0.0       ┆ 0.0      │\n",
       "│           ┆ loans     ┆           ┆           ┆   ┆           ┆           ┆           ┆          │\n",
       "│ 100005    ┆ Cash      ┆ M         ┆ N         ┆ … ┆ 0.0       ┆ 0.0       ┆ 0.0       ┆ 3.0      │\n",
       "│           ┆ loans     ┆           ┆           ┆   ┆           ┆           ┆           ┆          │\n",
       "│ 100013    ┆ Cash      ┆ M         ┆ Y         ┆ … ┆ 0.0       ┆ 0.0       ┆ 1.0       ┆ 4.0      │\n",
       "│           ┆ loans     ┆           ┆           ┆   ┆           ┆           ┆           ┆          │\n",
       "│ 100028    ┆ Cash      ┆ F         ┆ N         ┆ … ┆ 0.0       ┆ 0.0       ┆ 0.0       ┆ 3.0      │\n",
       "│           ┆ loans     ┆           ┆           ┆   ┆           ┆           ┆           ┆          │\n",
       "│ 100038    ┆ Cash      ┆ M         ┆ Y         ┆ … ┆ null      ┆ null      ┆ null      ┆ null     │\n",
       "│           ┆ loans     ┆           ┆           ┆   ┆           ┆           ┆           ┆          │\n",
       "└───────────┴───────────┴───────────┴───────────┴───┴───────────┴───────────┴───────────┴──────────┘"
      ]
     },
     "execution_count": 7,
     "metadata": {},
     "output_type": "execute_result"
    }
   ],
   "source": [
    "application_test.head()"
   ]
  },
  {
   "cell_type": "markdown",
   "metadata": {},
   "source": [
    "We can see that there are many features. As expected, the test dataset does not include the target variable.\n",
    "\n",
    "Lets check the exact number of rows and features we do have here.\n"
   ]
  },
  {
   "cell_type": "code",
   "execution_count": 8,
   "metadata": {},
   "outputs": [
    {
     "name": "stdout",
     "output_type": "stream",
     "text": [
      "Number of Rows and Columns in Application Train: (307511, 122)\n",
      "Number of Rows and Columns in Application Test: (48744, 121)\n"
     ]
    }
   ],
   "source": [
    "print(\"Number of Rows and Columns in Application Train:\", application_train.shape)\n",
    "print(\"Number of Rows and Columns in Application Test:\", application_test.shape)"
   ]
  },
  {
   "cell_type": "markdown",
   "metadata": {},
   "source": [
    "Next up, before proceeding, we will reduce the dataset's memory footprint by converting the data types to lower-precision alternatives. This will lead to faster processing times.\n"
   ]
  },
  {
   "cell_type": "code",
   "execution_count": 9,
   "metadata": {},
   "outputs": [
    {
     "name": "stdout",
     "output_type": "stream",
     "text": [
      "Size before memory reduction: 289.68 MB\n",
      "Initial data types: Counter({Float64: 65, Int64: 41, String: 16})\n",
      "Size after memory reduction: 113.59 MB\n",
      "Final data types: Counter({Float32: 65, Int8: 35, Categorical(ordering='physical'): 16, Int32: 4, Int16: 2})\n",
      "Size before memory reduction: 45.51 MB\n",
      "Initial data types: Counter({Float64: 65, Int64: 40, String: 16})\n",
      "Size after memory reduction: 17.95 MB\n",
      "Final data types: Counter({Float32: 65, Int8: 34, Categorical(ordering='physical'): 16, Int32: 4, Int16: 2})\n"
     ]
    }
   ],
   "source": [
    "application_train = reduce_memory_usage_pl(application_train)\n",
    "application_test = reduce_memory_usage_pl(application_test)"
   ]
  },
  {
   "cell_type": "markdown",
   "metadata": {},
   "source": [
    "To improve our training and testing datasets, we will remove features based on missing values and variance. Features with a missing value ratio above `missing_threshold` (50%) or a variance below `variance_threshold` will be removed.\n",
    "\n",
    "Columns with a variance less than or equal to 0.01 are considered to have insufficient variability and are removed from the dataset. This is because a variance of 0.01 implies very little change in the values of that feature, making it potentially less useful for distinguishing between different observations in predictive modeling tasks.\n",
    "\n",
    "This process will improve data quality, reduce dimensionality, and improve the performance of the credit risk model."
   ]
  },
  {
   "cell_type": "code",
   "execution_count": 10,
   "metadata": {},
   "outputs": [
    {
     "name": "stdout",
     "output_type": "stream",
     "text": [
      "Original number of features in train: 122\n",
      "Number of features in reduced train: 85\n",
      "Original number of features in test: 121\n",
      "Number of features in reduced test: 84\n"
     ]
    },
    {
     "name": "stderr",
     "output_type": "stream",
     "text": [
      "sys:1: CategoricalRemappingWarning: Local categoricals have different encodings, expensive re-encoding is done to perform this merge operation. Consider using a StringCache or an Enum type if the categories are known in advance\n"
     ]
    }
   ],
   "source": [
    "target_column = \"TARGET\"\n",
    "reduced_train, reduced_test = initial_feature_reduction(\n",
    "    application_train, application_test, target_column\n",
    ")\n",
    "\n",
    "print(f\"Original number of features in train: {application_train.shape[1]}\")\n",
    "print(f\"Number of features in reduced train: {reduced_train.shape[1]}\")\n",
    "print(f\"Original number of features in test: {application_test.shape[1]}\")\n",
    "print(f\"Number of features in reduced test: {reduced_test.shape[1]}\")"
   ]
  },
  {
   "cell_type": "code",
   "execution_count": 70,
   "metadata": {},
   "outputs": [
    {
     "name": "stdout",
     "output_type": "stream",
     "text": [
      "Top 5 columns with missing values in reduced train set:\n",
      "shape: (5, 2)\n",
      "┌─────────────────┬────────────────────┐\n",
      "│ column          ┆ missing_percentage │\n",
      "│ ---             ┆ ---                │\n",
      "│ str             ┆ f64                │\n",
      "╞═════════════════╪════════════════════╡\n",
      "│ LIVINGAREA_AVG  ┆ 50.19              │\n",
      "│ LIVINGAREA_MODE ┆ 50.19              │\n",
      "│ LIVINGAREA_MEDI ┆ 50.19              │\n",
      "│ HOUSETYPE_MODE  ┆ 50.18              │\n",
      "│ FLOORSMAX_AVG   ┆ 49.76              │\n",
      "└─────────────────┴────────────────────┘\n",
      "\n",
      "Top 5 columns with missing values in reduced test set:\n",
      "shape: (5, 2)\n",
      "┌─────────────────┬────────────────────┐\n",
      "│ column          ┆ missing_percentage │\n",
      "│ ---             ┆ ---                │\n",
      "│ str             ┆ f64                │\n",
      "╞═════════════════╪════════════════════╡\n",
      "│ HOUSETYPE_MODE  ┆ 48.46              │\n",
      "│ LIVINGAREA_AVG  ┆ 48.32              │\n",
      "│ LIVINGAREA_MODE ┆ 48.32              │\n",
      "│ LIVINGAREA_MEDI ┆ 48.32              │\n",
      "│ FLOORSMAX_AVG   ┆ 47.84              │\n",
      "└─────────────────┴────────────────────┘\n"
     ]
    }
   ],
   "source": [
    "analyze_missing_values(reduced_train, reduced_test)"
   ]
  },
  {
   "cell_type": "markdown",
   "metadata": {},
   "source": [
    "**application_train:** 307,511 rows, 122 columns\n",
    "\n",
    "**application_test:** 48,744 rows, 121 columns (excluding the TARGET variable)\n",
    "\n",
    "We have a large training dataset with over **300k loan applications**. This provides a solid foundation for building robust machine learning models. The test dataset is well-sized for evaluating model performance on unseen data.\n",
    "\n",
    "Both datasets have many features (**over 120**). This allows us to capture complex relationships and build accurate predictive models. However, the high number of features means we need to be careful in our selection and engineering process. This will help us avoid overfitting and keep our models interpretable.\n",
    "\n",
    "Therefore, we will **manually select features based on their descriptions in the application_train and application_test DataFrames.**\n",
    "\n",
    "1. **TARGET** (for training set only): Our dependent variable, shows if a client had payment difficulties.\n",
    "\n",
    "2. **AMT_INCOME_TOTAL:** Income is key in determining loan repayment ability.\n",
    "\n",
    "3. **AMT_CREDIT:** The loan amount directly relates to default risk.\n",
    "\n",
    "4. **AMT_ANNUITY:** Annual loan payment affects repayment ability.\n",
    "\n",
    "5. **NAME_CONTRACT_TYPE:** Different loan types may have varying risk profiles.\n",
    "\n",
    "6. **CODE_GENDER:** Gender might influence repayment behavior.\n",
    "\n",
    "7. **FLAG_OWN_CAR and FLAG_OWN_REALTY**: Asset ownership can indicate financial stability and potential collateral.\n",
    "\n",
    "8. **CNT_CHILDREN:** Number of dependents affects financial obligations.\n",
    "\n",
    "9. **NAME_EDUCATION_TYPE:** Education level often relates to income stability and financial literacy.\n",
    "\n",
    "10. **DAYS_BIRTH:** Age is important in credit risk assessment.\n",
    "\n",
    "11. **DAYS_EMPLOYED:** Employment duration can show job stability.\n",
    "\n",
    "12. **NAME_INCOME_TYPE:** Income source affects its stability and reliability.\n",
    "\n",
    "13. **NAME_FAMILY_STATUS:** Family status can impact financial responsibilities and stability.\n",
    "\n",
    "14. **REGION_POPULATION_RELATIVE:** Economic opportunities may vary by region population.\n",
    "\n",
    "15. **DAYS_LAST_PHONE_CHANGE:** Recent changes might suggest instability.\n",
    "\n",
    "16. **EXT_SOURCE_1, EXT_SOURCE_2, EXT_SOURCE_3:** These scores likely include credit scores or similar risk assessments.\n",
    "\n",
    "17. **OCCUPATION_TYPE:** Different jobs have varying levels of security and income stability.\n",
    "\n",
    "18. **AMT_GOODS_PRICE:** For consumer loans, this shows the value of financed goods.\n",
    "\n",
    "19. **OBS_30_CNT_SOCIAL_CIRCLE and DEF_30_CNT_SOCIAL_CIRCLE:** Financial behavior of one's social circle can indicate personal financial behavior.\n",
    "\n",
    "20. **AMT_REQ_CREDIT_BUREAU_YEAR:** Number of credit inquiries in the past year can show recent financial activity or distress.\n",
    "\n",
    "These features cover various aspects of a loan applicant's profile, including financial capacity, demographics, assets, employment, credit history, and behavior. This selection aims to provide a comprehensive view for assessing credit risk.\n"
   ]
  },
  {
   "cell_type": "code",
   "execution_count": null,
   "metadata": {},
   "outputs": [
    {
     "name": "stdout",
     "output_type": "stream",
     "text": [
      "Original number of features in train: 122\n",
      "Number of features in reduced train: 85\n",
      "Original number of features in test: 121\n",
      "Number of features in reduced test: 84\n"
     ]
    },
    {
     "name": "stderr",
     "output_type": "stream",
     "text": [
      "sys:1: CategoricalRemappingWarning: Local categoricals have different encodings, expensive re-encoding is done to perform this merge operation. Consider using a StringCache or an Enum type if the categories are known in advance\n"
     ]
    }
   ],
   "source": [
    "target_column = \"TARGET\"\n",
    "reduced_train, reduced_test = initial_feature_reduction(\n",
    "    application_train, application_test, target_column\n",
    ")\n",
    "\n",
    "print(f\"Original number of features in train: {application_train.shape[1]}\")\n",
    "print(f\"Number of features in reduced train: {reduced_train.shape[1]}\")\n",
    "print(f\"Original number of features in test: {application_test.shape[1]}\")\n",
    "print(f\"Number of features in reduced test: {reduced_test.shape[1]}\")"
   ]
  },
  {
   "cell_type": "code",
   "execution_count": null,
   "metadata": {},
   "outputs": [],
   "source": []
  }
 ],
 "metadata": {
  "kernelspec": {
   "display_name": "Python 3",
   "language": "python",
   "name": "python3"
  },
  "language_info": {
   "codemirror_mode": {
    "name": "ipython",
    "version": 3
   },
   "file_extension": ".py",
   "mimetype": "text/x-python",
   "name": "python",
   "nbconvert_exporter": "python",
   "pygments_lexer": "ipython3",
   "version": "3.11.8"
  }
 },
 "nbformat": 4,
 "nbformat_minor": 2
}
