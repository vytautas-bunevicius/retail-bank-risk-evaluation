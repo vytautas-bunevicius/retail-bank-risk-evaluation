{
 "cells": [
  {
   "cell_type": "markdown",
   "metadata": {},
   "source": [
    "## Notebook Overview\n",
    "\n",
    "This notebook builds upon the prepared data from the previous notebook (`02_feature_selection_and_preparation.ipynb`) and focuses on **Exploratory Data Analysis (EDA)**. This stage involves gaining a deeper understanding of the data through visualizations, summary statistics, and various analytical techniques. The insights gained from EDA will inform subsequent feature engineering, model selection, and interpretation of results.\n",
    "\n",
    "### 0.3.1 Objectives\n",
    "\n",
    "The main objectives of this notebook are:\n",
    "\n",
    "1. **Understand Data Distributions:** Visualize the distributions of individual features (numerical and categorical) to identify patterns, outliers, and potential data quality issues.\n",
    "2. **Explore Feature Relationships:** Analyze the relationships between features and the target variable (loan default) to identify potential predictors and understand their influence.\n",
    "3. **Identify Key Insights:** Uncover patterns, trends, and anomalies in the data that can provide valuable insights for building effective credit risk models.\n",
    "4. **Inform Feature Engineering and Modeling:** Use the insights gained from EDA to guide further feature engineering efforts and inform the selection of appropriate machine learning models.\n",
    "\n",
    "### 0.3.2 Importance of Exploratory Data Analysis\n",
    "\n",
    "EDA plays a vital role in the success of a machine learning project for several reasons:\n",
    "\n",
    "- **Data Understanding:** EDA helps us gain a deeper understanding of the data's structure, characteristics, and potential issues.\n",
    "- **Feature Selection:** EDA can reveal which features are most relevant to the target variable and guide feature engineering efforts.\n",
    "- **Model Selection:** EDA can provide insights into the types of machine learning models that might be most suitable for the data.\n",
    "- **Problem Identification:** EDA can help identify potential problems with the data, such as missing values, outliers, or inconsistencies.\n",
    "- **Insight Generation:** EDA can uncover hidden patterns, trends, and relationships in the data that can lead to valuable business insights.\n",
    "\n",
    "### 0.3.3 Our Approach\n",
    "\n",
    "In this notebook, we will employ a variety of EDA techniques, including:\n",
    "\n",
    "- **Summary Statistics:** Calculate descriptive statistics (mean, median, standard deviation, etc.) for numerical features to understand their central tendency and spread.\n",
    "- **Histograms and Box Plots:** Visualize the distributions of numerical features to identify skewness, outliers, and potential data transformations needed.\n",
    "- **Bar Charts:** Explore the frequencies and proportions of categorical features to understand their representation in the dataset.\n",
    "- **Scatter Plots and Correlation Matrices:** Analyze the relationships between numerical features and the target variable to identify potential predictors and understand their correlations.\n",
    "- **Cross-Tabulations:** Examine the relationships between categorical features and the target variable to identify potential patterns and associations."
   ]
  },
  {
   "cell_type": "code",
   "execution_count": 1,
   "metadata": {},
   "outputs": [],
   "source": [
    "import polars as pl\n",
    "from IPython.display import Image\n",
    "\n",
    "from retail_bank_risk.basic_visualizations_utils import (\n",
    "    plot_single_bar_chart,\n",
    "    plot_combined_histograms,\n",
    "    plot_categorical_features_by_target,\n",
    ")\n",
    "\n",
    "from retail_bank_risk.data_preprocessing_utils import(\n",
    "    create_stratified_sample\n",
    ")"
   ]
  },
  {
   "cell_type": "code",
   "execution_count": 2,
   "metadata": {},
   "outputs": [],
   "source": [
    "application_train = pl.read_parquet(\n",
    "    \"../data/processed/application_train_prepared.parquet\"\n",
    ")\n",
    "application_test = pl.read_parquet(\n",
    "    \"../data/processed/application_test_prepared.parquet\"\n",
    ")"
   ]
  },
  {
   "cell_type": "markdown",
   "metadata": {},
   "source": [
    "As we have loaded our data, let's display basic summary statistics for our dataset to get an overview of the distribution of our numerical features."
   ]
  },
  {
   "cell_type": "code",
   "execution_count": 3,
   "metadata": {},
   "outputs": [
    {
     "data": {
      "text/html": [
       "<div><style>\n",
       ".dataframe > thead > tr,\n",
       ".dataframe > tbody > tr {\n",
       "  text-align: right;\n",
       "  white-space: pre-wrap;\n",
       "}\n",
       "</style>\n",
       "<small>shape: (9, 10)</small><table border=\"1\" class=\"dataframe\"><thead><tr><th>statistic</th><th>days_last_phone_change</th><th>ext_source_2</th><th>ext_source_3</th><th>days_id_publish</th><th>days_birth</th><th>amt_income_total</th><th>amt_credit</th><th>amt_annuity</th><th>amt_goods_price</th></tr><tr><td>str</td><td>f64</td><td>f64</td><td>f64</td><td>f64</td><td>f64</td><td>f64</td><td>f64</td><td>f64</td><td>f64</td></tr></thead><tbody><tr><td>&quot;count&quot;</td><td>307511.0</td><td>307511.0</td><td>307511.0</td><td>307511.0</td><td>307511.0</td><td>307511.0</td><td>307511.0</td><td>307511.0</td><td>307511.0</td></tr><tr><td>&quot;null_count&quot;</td><td>0.0</td><td>0.0</td><td>0.0</td><td>0.0</td><td>0.0</td><td>0.0</td><td>0.0</td><td>0.0</td><td>0.0</td></tr><tr><td>&quot;mean&quot;</td><td>-962.859565</td><td>0.514371</td><td>0.510876</td><td>-2994.202373</td><td>-16036.995067</td><td>168797.919297</td><td>599025.999706</td><td>27108.50841</td><td>538160.425796</td></tr><tr><td>&quot;std&quot;</td><td>826.807255</td><td>0.190907</td><td>0.180385</td><td>1509.450419</td><td>4363.988632</td><td>237123.146279</td><td>402490.776996</td><td>14493.617377</td><td>369404.535394</td></tr><tr><td>&quot;min&quot;</td><td>-4292.0</td><td>8.1736e-8</td><td>0.000527</td><td>-7197.0</td><td>-25229.0</td><td>25650.0</td><td>45000.0</td><td>1615.5</td><td>40500.0</td></tr><tr><td>&quot;25%&quot;</td><td>-1570.0</td><td>0.392702</td><td>0.392774</td><td>-4299.0</td><td>-19682.0</td><td>112500.0</td><td>270000.0</td><td>16524.0</td><td>238500.0</td></tr><tr><td>&quot;50%&quot;</td><td>-757.0</td><td>0.565763</td><td>0.528093</td><td>-3254.0</td><td>-15750.0</td><td>147150.0</td><td>513531.0</td><td>24903.0</td><td>450000.0</td></tr><tr><td>&quot;75%&quot;</td><td>-274.0</td><td>0.663461</td><td>0.647977</td><td>-1720.0</td><td>-12413.0</td><td>202500.0</td><td>808650.0</td><td>34596.0</td><td>679500.0</td></tr><tr><td>&quot;max&quot;</td><td>0.0</td><td>0.855</td><td>0.89601</td><td>0.0</td><td>-7489.0</td><td>1.17e8</td><td>4.05e6</td><td>258025.5</td><td>4.05e6</td></tr></tbody></table></div>"
      ],
      "text/plain": [
       "shape: (9, 10)\n",
       "┌───────────┬───────────┬───────────┬───────────┬───┬───────────┬───────────┬───────────┬──────────┐\n",
       "│ statistic ┆ days_last ┆ ext_sourc ┆ ext_sourc ┆ … ┆ amt_incom ┆ amt_credi ┆ amt_annui ┆ amt_good │\n",
       "│ ---       ┆ _phone_ch ┆ e_2       ┆ e_3       ┆   ┆ e_total   ┆ t         ┆ ty        ┆ s_price  │\n",
       "│ str       ┆ ange      ┆ ---       ┆ ---       ┆   ┆ ---       ┆ ---       ┆ ---       ┆ ---      │\n",
       "│           ┆ ---       ┆ f64       ┆ f64       ┆   ┆ f64       ┆ f64       ┆ f64       ┆ f64      │\n",
       "│           ┆ f64       ┆           ┆           ┆   ┆           ┆           ┆           ┆          │\n",
       "╞═══════════╪═══════════╪═══════════╪═══════════╪═══╪═══════════╪═══════════╪═══════════╪══════════╡\n",
       "│ count     ┆ 307511.0  ┆ 307511.0  ┆ 307511.0  ┆ … ┆ 307511.0  ┆ 307511.0  ┆ 307511.0  ┆ 307511.0 │\n",
       "│ null_coun ┆ 0.0       ┆ 0.0       ┆ 0.0       ┆ … ┆ 0.0       ┆ 0.0       ┆ 0.0       ┆ 0.0      │\n",
       "│ t         ┆           ┆           ┆           ┆   ┆           ┆           ┆           ┆          │\n",
       "│ mean      ┆ -962.8595 ┆ 0.514371  ┆ 0.510876  ┆ … ┆ 168797.91 ┆ 599025.99 ┆ 27108.508 ┆ 538160.4 │\n",
       "│           ┆ 65        ┆           ┆           ┆   ┆ 9297      ┆ 9706      ┆ 41        ┆ 25796    │\n",
       "│ std       ┆ 826.80725 ┆ 0.190907  ┆ 0.180385  ┆ … ┆ 237123.14 ┆ 402490.77 ┆ 14493.617 ┆ 369404.5 │\n",
       "│           ┆ 5         ┆           ┆           ┆   ┆ 6279      ┆ 6996      ┆ 377       ┆ 35394    │\n",
       "│ min       ┆ -4292.0   ┆ 8.1736e-8 ┆ 0.000527  ┆ … ┆ 25650.0   ┆ 45000.0   ┆ 1615.5    ┆ 40500.0  │\n",
       "│ 25%       ┆ -1570.0   ┆ 0.392702  ┆ 0.392774  ┆ … ┆ 112500.0  ┆ 270000.0  ┆ 16524.0   ┆ 238500.0 │\n",
       "│ 50%       ┆ -757.0    ┆ 0.565763  ┆ 0.528093  ┆ … ┆ 147150.0  ┆ 513531.0  ┆ 24903.0   ┆ 450000.0 │\n",
       "│ 75%       ┆ -274.0    ┆ 0.663461  ┆ 0.647977  ┆ … ┆ 202500.0  ┆ 808650.0  ┆ 34596.0   ┆ 679500.0 │\n",
       "│ max       ┆ 0.0       ┆ 0.855     ┆ 0.89601   ┆ … ┆ 1.17e8    ┆ 4.05e6    ┆ 258025.5  ┆ 4.05e6   │\n",
       "└───────────┴───────────┴───────────┴───────────┴───┴───────────┴───────────┴───────────┴──────────┘"
      ]
     },
     "execution_count": 3,
     "metadata": {},
     "output_type": "execute_result"
    }
   ],
   "source": [
    "numerical_dtypes = [pl.Float32, pl.Float64, pl.Int8, pl.Int16, pl.Int32]\n",
    "numerical_reduced_train = application_train.select(pl.col(numerical_dtypes))\n",
    "\n",
    "numerical_reduced_train.describe()"
   ]
  },
  {
   "cell_type": "markdown",
   "metadata": {},
   "source": [
    "**Time-Related Features (days):**\n",
    "\n",
    "- Generally skewed towards more recent events (phone/ID changes).\n",
    "\n",
    "**External Source Scores:**\n",
    "\n",
    "- Slightly left-skewed, potentially indicating a tendency towards higher scores.\n",
    "  Financial Features:\n",
    "- Income, loan amount, annuity, and goods price are all right-skewed.\n",
    "- This indicates a small number of applicants with very high values.\n",
    "- Suggests potential need for data transformations (e.g., log transformation) and outlier handling to improve model performance.\n",
    "\n",
    "**Key Takeaways:**\n",
    "\n",
    "- Time-related features might reveal insights into creditworthiness based on the recency of events.\n",
    "- Skewed financial features require careful consideration during analysis and modeling.\n",
    "\n",
    "**Next**, we can visualize feature distributions **using a stratified sample of 10,000 rows to ensure representation of both classes in our imbalanced target variable.**"
   ]
  },
  {
   "cell_type": "code",
   "execution_count": 4,
   "metadata": {},
   "outputs": [],
   "source": [
    "pd_application_train = create_stratified_sample(application_train, 'target', 10000)\n",
    "pd_application_test = application_test.to_pandas()"
   ]
  },
  {
   "cell_type": "code",
   "execution_count": 5,
   "metadata": {},
   "outputs": [],
   "source": [
    "target_feature = \"target\""
   ]
  },
  {
   "cell_type": "code",
   "execution_count": 6,
   "metadata": {},
   "outputs": [],
   "source": [
    "numerical_features_financial = [\n",
    "    \"ext_source_2\",\n",
    "    \"ext_source_3\",\n",
    "    \"amt_income_total\",\n",
    "    \"amt_credit\",\n",
    "]\n",
    "\n",
    "numerical_features_loan_specifics = [\"amt_annuity\", \"amt_goods_price\"]\n",
    "\n",
    "numerical_features_timing_history = [\n",
    "    \"days_last_phone_change\",\n",
    "    \"days_birth\",\n",
    "    \"days_id_publish\",\n",
    "]"
   ]
  },
  {
   "cell_type": "markdown",
   "metadata": {},
   "source": [
    "With our features grouped, we can begin visualizing their distributions, starting with an analysis of the target variable."
   ]
  },
  {
   "cell_type": "code",
   "execution_count": 7,
   "metadata": {},
   "outputs": [
    {
     "data": {
      "application/vnd.plotly.v1+json": {
       "config": {
        "plotlyServerURL": "https://plot.ly"
       },
       "data": [
        {
         "marker": {
          "color": "#CC7B5C"
         },
         "name": "target = 0",
         "text": [
          "91.9%"
         ],
         "textposition": "auto",
         "type": "bar",
         "x": [
          "0"
         ],
         "y": [
          91.93
         ]
        },
        {
         "marker": {
          "color": "#D4A27F"
         },
         "name": "target = 1",
         "text": [
          "8.1%"
         ],
         "textposition": "auto",
         "type": "bar",
         "x": [
          "1"
         ],
         "y": [
          8.07
         ]
        }
       ],
       "layout": {
        "barmode": "group",
        "font": {
         "color": "#191919",
         "family": "Styrene A",
         "size": 12
        },
        "height": 500,
        "legend": {
         "bgcolor": "rgba(255,255,255,0.6)",
         "bordercolor": "Black",
         "borderwidth": 1,
         "font": {
          "color": "#191919",
          "family": "Styrene A",
          "size": 12
         },
         "orientation": "v",
         "x": 1.02,
         "xanchor": "left",
         "y": 0.5,
         "yanchor": "middle"
        },
        "margin": {
         "b": 50,
         "l": 50,
         "r": 150,
         "t": 80
        },
        "paper_bgcolor": "#EEECE2",
        "plot_bgcolor": "#EEECE2",
        "showlegend": true,
        "template": {
         "data": {
          "bar": [
           {
            "error_x": {
             "color": "#2a3f5f"
            },
            "error_y": {
             "color": "#2a3f5f"
            },
            "marker": {
             "line": {
              "color": "white",
              "width": 0.5
             },
             "pattern": {
              "fillmode": "overlay",
              "size": 10,
              "solidity": 0.2
             }
            },
            "type": "bar"
           }
          ],
          "barpolar": [
           {
            "marker": {
             "line": {
              "color": "white",
              "width": 0.5
             },
             "pattern": {
              "fillmode": "overlay",
              "size": 10,
              "solidity": 0.2
             }
            },
            "type": "barpolar"
           }
          ],
          "carpet": [
           {
            "aaxis": {
             "endlinecolor": "#2a3f5f",
             "gridcolor": "#C8D4E3",
             "linecolor": "#C8D4E3",
             "minorgridcolor": "#C8D4E3",
             "startlinecolor": "#2a3f5f"
            },
            "baxis": {
             "endlinecolor": "#2a3f5f",
             "gridcolor": "#C8D4E3",
             "linecolor": "#C8D4E3",
             "minorgridcolor": "#C8D4E3",
             "startlinecolor": "#2a3f5f"
            },
            "type": "carpet"
           }
          ],
          "choropleth": [
           {
            "colorbar": {
             "outlinewidth": 0,
             "ticks": ""
            },
            "type": "choropleth"
           }
          ],
          "contour": [
           {
            "colorbar": {
             "outlinewidth": 0,
             "ticks": ""
            },
            "colorscale": [
             [
              0,
              "#0d0887"
             ],
             [
              0.1111111111111111,
              "#46039f"
             ],
             [
              0.2222222222222222,
              "#7201a8"
             ],
             [
              0.3333333333333333,
              "#9c179e"
             ],
             [
              0.4444444444444444,
              "#bd3786"
             ],
             [
              0.5555555555555556,
              "#d8576b"
             ],
             [
              0.6666666666666666,
              "#ed7953"
             ],
             [
              0.7777777777777778,
              "#fb9f3a"
             ],
             [
              0.8888888888888888,
              "#fdca26"
             ],
             [
              1,
              "#f0f921"
             ]
            ],
            "type": "contour"
           }
          ],
          "contourcarpet": [
           {
            "colorbar": {
             "outlinewidth": 0,
             "ticks": ""
            },
            "type": "contourcarpet"
           }
          ],
          "heatmap": [
           {
            "colorbar": {
             "outlinewidth": 0,
             "ticks": ""
            },
            "colorscale": [
             [
              0,
              "#0d0887"
             ],
             [
              0.1111111111111111,
              "#46039f"
             ],
             [
              0.2222222222222222,
              "#7201a8"
             ],
             [
              0.3333333333333333,
              "#9c179e"
             ],
             [
              0.4444444444444444,
              "#bd3786"
             ],
             [
              0.5555555555555556,
              "#d8576b"
             ],
             [
              0.6666666666666666,
              "#ed7953"
             ],
             [
              0.7777777777777778,
              "#fb9f3a"
             ],
             [
              0.8888888888888888,
              "#fdca26"
             ],
             [
              1,
              "#f0f921"
             ]
            ],
            "type": "heatmap"
           }
          ],
          "heatmapgl": [
           {
            "colorbar": {
             "outlinewidth": 0,
             "ticks": ""
            },
            "colorscale": [
             [
              0,
              "#0d0887"
             ],
             [
              0.1111111111111111,
              "#46039f"
             ],
             [
              0.2222222222222222,
              "#7201a8"
             ],
             [
              0.3333333333333333,
              "#9c179e"
             ],
             [
              0.4444444444444444,
              "#bd3786"
             ],
             [
              0.5555555555555556,
              "#d8576b"
             ],
             [
              0.6666666666666666,
              "#ed7953"
             ],
             [
              0.7777777777777778,
              "#fb9f3a"
             ],
             [
              0.8888888888888888,
              "#fdca26"
             ],
             [
              1,
              "#f0f921"
             ]
            ],
            "type": "heatmapgl"
           }
          ],
          "histogram": [
           {
            "marker": {
             "pattern": {
              "fillmode": "overlay",
              "size": 10,
              "solidity": 0.2
             }
            },
            "type": "histogram"
           }
          ],
          "histogram2d": [
           {
            "colorbar": {
             "outlinewidth": 0,
             "ticks": ""
            },
            "colorscale": [
             [
              0,
              "#0d0887"
             ],
             [
              0.1111111111111111,
              "#46039f"
             ],
             [
              0.2222222222222222,
              "#7201a8"
             ],
             [
              0.3333333333333333,
              "#9c179e"
             ],
             [
              0.4444444444444444,
              "#bd3786"
             ],
             [
              0.5555555555555556,
              "#d8576b"
             ],
             [
              0.6666666666666666,
              "#ed7953"
             ],
             [
              0.7777777777777778,
              "#fb9f3a"
             ],
             [
              0.8888888888888888,
              "#fdca26"
             ],
             [
              1,
              "#f0f921"
             ]
            ],
            "type": "histogram2d"
           }
          ],
          "histogram2dcontour": [
           {
            "colorbar": {
             "outlinewidth": 0,
             "ticks": ""
            },
            "colorscale": [
             [
              0,
              "#0d0887"
             ],
             [
              0.1111111111111111,
              "#46039f"
             ],
             [
              0.2222222222222222,
              "#7201a8"
             ],
             [
              0.3333333333333333,
              "#9c179e"
             ],
             [
              0.4444444444444444,
              "#bd3786"
             ],
             [
              0.5555555555555556,
              "#d8576b"
             ],
             [
              0.6666666666666666,
              "#ed7953"
             ],
             [
              0.7777777777777778,
              "#fb9f3a"
             ],
             [
              0.8888888888888888,
              "#fdca26"
             ],
             [
              1,
              "#f0f921"
             ]
            ],
            "type": "histogram2dcontour"
           }
          ],
          "mesh3d": [
           {
            "colorbar": {
             "outlinewidth": 0,
             "ticks": ""
            },
            "type": "mesh3d"
           }
          ],
          "parcoords": [
           {
            "line": {
             "colorbar": {
              "outlinewidth": 0,
              "ticks": ""
             }
            },
            "type": "parcoords"
           }
          ],
          "pie": [
           {
            "automargin": true,
            "type": "pie"
           }
          ],
          "scatter": [
           {
            "fillpattern": {
             "fillmode": "overlay",
             "size": 10,
             "solidity": 0.2
            },
            "type": "scatter"
           }
          ],
          "scatter3d": [
           {
            "line": {
             "colorbar": {
              "outlinewidth": 0,
              "ticks": ""
             }
            },
            "marker": {
             "colorbar": {
              "outlinewidth": 0,
              "ticks": ""
             }
            },
            "type": "scatter3d"
           }
          ],
          "scattercarpet": [
           {
            "marker": {
             "colorbar": {
              "outlinewidth": 0,
              "ticks": ""
             }
            },
            "type": "scattercarpet"
           }
          ],
          "scattergeo": [
           {
            "marker": {
             "colorbar": {
              "outlinewidth": 0,
              "ticks": ""
             }
            },
            "type": "scattergeo"
           }
          ],
          "scattergl": [
           {
            "marker": {
             "colorbar": {
              "outlinewidth": 0,
              "ticks": ""
             }
            },
            "type": "scattergl"
           }
          ],
          "scattermapbox": [
           {
            "marker": {
             "colorbar": {
              "outlinewidth": 0,
              "ticks": ""
             }
            },
            "type": "scattermapbox"
           }
          ],
          "scatterpolar": [
           {
            "marker": {
             "colorbar": {
              "outlinewidth": 0,
              "ticks": ""
             }
            },
            "type": "scatterpolar"
           }
          ],
          "scatterpolargl": [
           {
            "marker": {
             "colorbar": {
              "outlinewidth": 0,
              "ticks": ""
             }
            },
            "type": "scatterpolargl"
           }
          ],
          "scatterternary": [
           {
            "marker": {
             "colorbar": {
              "outlinewidth": 0,
              "ticks": ""
             }
            },
            "type": "scatterternary"
           }
          ],
          "surface": [
           {
            "colorbar": {
             "outlinewidth": 0,
             "ticks": ""
            },
            "colorscale": [
             [
              0,
              "#0d0887"
             ],
             [
              0.1111111111111111,
              "#46039f"
             ],
             [
              0.2222222222222222,
              "#7201a8"
             ],
             [
              0.3333333333333333,
              "#9c179e"
             ],
             [
              0.4444444444444444,
              "#bd3786"
             ],
             [
              0.5555555555555556,
              "#d8576b"
             ],
             [
              0.6666666666666666,
              "#ed7953"
             ],
             [
              0.7777777777777778,
              "#fb9f3a"
             ],
             [
              0.8888888888888888,
              "#fdca26"
             ],
             [
              1,
              "#f0f921"
             ]
            ],
            "type": "surface"
           }
          ],
          "table": [
           {
            "cells": {
             "fill": {
              "color": "#EBF0F8"
             },
             "line": {
              "color": "white"
             }
            },
            "header": {
             "fill": {
              "color": "#C8D4E3"
             },
             "line": {
              "color": "white"
             }
            },
            "type": "table"
           }
          ]
         },
         "layout": {
          "annotationdefaults": {
           "arrowcolor": "#2a3f5f",
           "arrowhead": 0,
           "arrowwidth": 1
          },
          "autotypenumbers": "strict",
          "coloraxis": {
           "colorbar": {
            "outlinewidth": 0,
            "ticks": ""
           }
          },
          "colorscale": {
           "diverging": [
            [
             0,
             "#8e0152"
            ],
            [
             0.1,
             "#c51b7d"
            ],
            [
             0.2,
             "#de77ae"
            ],
            [
             0.3,
             "#f1b6da"
            ],
            [
             0.4,
             "#fde0ef"
            ],
            [
             0.5,
             "#f7f7f7"
            ],
            [
             0.6,
             "#e6f5d0"
            ],
            [
             0.7,
             "#b8e186"
            ],
            [
             0.8,
             "#7fbc41"
            ],
            [
             0.9,
             "#4d9221"
            ],
            [
             1,
             "#276419"
            ]
           ],
           "sequential": [
            [
             0,
             "#0d0887"
            ],
            [
             0.1111111111111111,
             "#46039f"
            ],
            [
             0.2222222222222222,
             "#7201a8"
            ],
            [
             0.3333333333333333,
             "#9c179e"
            ],
            [
             0.4444444444444444,
             "#bd3786"
            ],
            [
             0.5555555555555556,
             "#d8576b"
            ],
            [
             0.6666666666666666,
             "#ed7953"
            ],
            [
             0.7777777777777778,
             "#fb9f3a"
            ],
            [
             0.8888888888888888,
             "#fdca26"
            ],
            [
             1,
             "#f0f921"
            ]
           ],
           "sequentialminus": [
            [
             0,
             "#0d0887"
            ],
            [
             0.1111111111111111,
             "#46039f"
            ],
            [
             0.2222222222222222,
             "#7201a8"
            ],
            [
             0.3333333333333333,
             "#9c179e"
            ],
            [
             0.4444444444444444,
             "#bd3786"
            ],
            [
             0.5555555555555556,
             "#d8576b"
            ],
            [
             0.6666666666666666,
             "#ed7953"
            ],
            [
             0.7777777777777778,
             "#fb9f3a"
            ],
            [
             0.8888888888888888,
             "#fdca26"
            ],
            [
             1,
             "#f0f921"
            ]
           ]
          },
          "colorway": [
           "#636efa",
           "#EF553B",
           "#00cc96",
           "#ab63fa",
           "#FFA15A",
           "#19d3f3",
           "#FF6692",
           "#B6E880",
           "#FF97FF",
           "#FECB52"
          ],
          "font": {
           "color": "#2a3f5f"
          },
          "geo": {
           "bgcolor": "white",
           "lakecolor": "white",
           "landcolor": "white",
           "showlakes": true,
           "showland": true,
           "subunitcolor": "#C8D4E3"
          },
          "hoverlabel": {
           "align": "left"
          },
          "hovermode": "closest",
          "mapbox": {
           "style": "light"
          },
          "paper_bgcolor": "white",
          "plot_bgcolor": "white",
          "polar": {
           "angularaxis": {
            "gridcolor": "#EBF0F8",
            "linecolor": "#EBF0F8",
            "ticks": ""
           },
           "bgcolor": "white",
           "radialaxis": {
            "gridcolor": "#EBF0F8",
            "linecolor": "#EBF0F8",
            "ticks": ""
           }
          },
          "scene": {
           "xaxis": {
            "backgroundcolor": "white",
            "gridcolor": "#DFE8F3",
            "gridwidth": 2,
            "linecolor": "#EBF0F8",
            "showbackground": true,
            "ticks": "",
            "zerolinecolor": "#EBF0F8"
           },
           "yaxis": {
            "backgroundcolor": "white",
            "gridcolor": "#DFE8F3",
            "gridwidth": 2,
            "linecolor": "#EBF0F8",
            "showbackground": true,
            "ticks": "",
            "zerolinecolor": "#EBF0F8"
           },
           "zaxis": {
            "backgroundcolor": "white",
            "gridcolor": "#DFE8F3",
            "gridwidth": 2,
            "linecolor": "#EBF0F8",
            "showbackground": true,
            "ticks": "",
            "zerolinecolor": "#EBF0F8"
           }
          },
          "shapedefaults": {
           "line": {
            "color": "#2a3f5f"
           }
          },
          "ternary": {
           "aaxis": {
            "gridcolor": "#DFE8F3",
            "linecolor": "#A2B1C6",
            "ticks": ""
           },
           "baxis": {
            "gridcolor": "#DFE8F3",
            "linecolor": "#A2B1C6",
            "ticks": ""
           },
           "bgcolor": "white",
           "caxis": {
            "gridcolor": "#DFE8F3",
            "linecolor": "#A2B1C6",
            "ticks": ""
           }
          },
          "title": {
           "x": 0.05
          },
          "xaxis": {
           "automargin": true,
           "gridcolor": "#EBF0F8",
           "linecolor": "#EBF0F8",
           "ticks": "",
           "title": {
            "standoff": 15
           },
           "zerolinecolor": "#EBF0F8",
           "zerolinewidth": 2
          },
          "yaxis": {
           "automargin": true,
           "gridcolor": "#EBF0F8",
           "linecolor": "#EBF0F8",
           "ticks": "",
           "title": {
            "standoff": 15
           },
           "zerolinecolor": "#EBF0F8",
           "zerolinewidth": 2
          }
         }
        },
        "title": {
         "font": {
          "color": "#191919",
          "family": "Styrene B",
          "size": 20
         },
         "text": "Distribution of target variable target",
         "x": 0.5
        },
        "width": 1200,
        "xaxis": {
         "showticklabels": true,
         "tickfont": {
          "color": "#191919",
          "family": "Styrene A",
          "size": 12
         },
         "title": {
          "font": {
           "color": "#191919",
           "family": "Styrene A",
           "size": 14
          },
          "standoff": 25,
          "text": "target"
         }
        },
        "yaxis": {
         "range": [
          0,
          100
         ],
         "tickfont": {
          "color": "#191919",
          "family": "Styrene A",
          "size": 12
         },
         "title": {
          "font": {
           "color": "#191919",
           "family": "Styrene A",
           "size": 14
          },
          "text": "Percentage"
         }
        }
       }
      }
     },
     "metadata": {},
     "output_type": "display_data"
    }
   ],
   "source": [
    "plot_single_bar_chart(pd_application_train, \"target\", save_path=\"../images/target_distribution.png\")"
   ]
  },
  {
   "cell_type": "code",
   "execution_count": 8,
   "metadata": {},
   "outputs": [
    {
     "data": {
      "image/png": "[encoded data removed]",
      "text/plain": [
       "<IPython.core.display.Image object>"
      ]
     },
     "execution_count": 8,
     "metadata": {},
     "output_type": "execute_result"
    }
   ],
   "source": [
    "Image(filename=\"../images/target_distribution.png\")"
   ]
  },
  {
   "cell_type": "markdown",
   "metadata": {},
   "source": [
    "Due to the significant class imbalance in the target variable, we will visualize the distribution of numerical features using the entire dataset, rather than comparing distributions separately for each target class."
   ]
  },
  {
   "cell_type": "code",
   "execution_count": 9,
   "metadata": {},
   "outputs": [],
   "source": [
    "plot_combined_histograms(\n",
    "    application_train,\n",
    "    numerical_features_financial,\n",
    "    save_path=\"../images/numerical_features_financial.png\",\n",
    ")"
   ]
  },
  {
   "cell_type": "code",
   "execution_count": 10,
   "metadata": {},
   "outputs": [
    {
     "data": {
      "image/png": "[encoded data removed]",
      "text/plain": [
       "<IPython.core.display.Image object>"
      ]
     },
     "execution_count": 10,
     "metadata": {},
     "output_type": "execute_result"
    }
   ],
   "source": [
    "Image(filename=\"../images/numerical_features_financial.png\")"
   ]
  },
  {
   "cell_type": "markdown",
   "metadata": {},
   "source": [
    "- **ext_source_2 & ext_source_3:** Both show a somewhat normal distribution, but with a peak towards the lower end of their values. This suggests these external sources might have a bias towards lower scores.\n",
    "- **amt_income_total:** Heavily skewed to the right, indicating most incomes are clustered at the lower end with a few very high earners.\n",
    "- **amt_credit:** Also right-skewed, meaning most loans are for smaller amounts, with a long tail of larger loans."
   ]
  },
  {
   "cell_type": "code",
   "execution_count": 11,
   "metadata": {},
   "outputs": [],
   "source": [
    "plot_combined_histograms(\n",
    "    pd_application_train,\n",
    "    numerical_features_loan_specifics,\n",
    "    save_path=\"../images/numerical_features_loan_specifics.png\",\n",
    ")"
   ]
  },
  {
   "cell_type": "code",
   "execution_count": 12,
   "metadata": {},
   "outputs": [
    {
     "data": {
      "image/png": "[encoded data removed]",
      "text/plain": [
       "<IPython.core.display.Image object>"
      ]
     },
     "execution_count": 12,
     "metadata": {},
     "output_type": "execute_result"
    }
   ],
   "source": [
    "Image(filename=\"../images/numerical_features_loan_specifics.png\")"
   ]
  },
  {
   "cell_type": "markdown",
   "metadata": {},
   "source": [
    "- **amt_annuity:** Right-skewed, suggesting most loan annuity payments are smaller, with a few much larger payments.\n",
    "- **amt_goods_price:** Right-skewed as well, indicating most loans are for lower-priced goods, with a tail of loans for more expensive items."
   ]
  },
  {
   "cell_type": "code",
   "execution_count": 13,
   "metadata": {},
   "outputs": [],
   "source": [
    "plot_combined_histograms(\n",
    "    pd_application_train,\n",
    "    numerical_features_timing_history,\n",
    "    save_path=\"../images/numerical_features_timing_history.png\",\n",
    ")"
   ]
  },
  {
   "cell_type": "code",
   "execution_count": 14,
   "metadata": {},
   "outputs": [
    {
     "data": {
      "image/png": "[encoded data removed]",
      "text/plain": [
       "<IPython.core.display.Image object>"
      ]
     },
     "execution_count": 14,
     "metadata": {},
     "output_type": "execute_result"
    }
   ],
   "source": [
    "Image(filename=\"../images/numerical_features_timing_history.png\")"
   ]
  },
  {
   "cell_type": "markdown",
   "metadata": {},
   "source": [
    "- **days_last_phone_change:** Mostly clustered towards more recent phone changes (closer to 0), with a sharp drop-off for older changes.\n",
    "- **days_birth:** Shows the age distribution of loan applicants, with a peak around middle age. The negative values represent days before the loan application.\n",
    "- **days_id_publish:** Right-skewed, indicating most applicants provided their ID relatively recently before the loan application.\n",
    "\n",
    "General observations:\n",
    "\n",
    "- **Right Skew:** Many of the financial features (income, credit, annuity, goods price) are right-skewed, which is common in financial data. This indicates a concentration of lower values with a few high-value outliers.\n",
    "- **External Sources:** The distribution of `ext_source_2` and `ext_source_3` suggests potential bias in these external scoring systems.\n",
    "- **Time-Based Features:** The distributions of `days_last_phone_change`, `days_birth`, and `days_id_publish` provide insights into the recency of actions and the age distribution of applicants.\n",
    "\n",
    "**Next up**, let's examine the distributions of our categorical features."
   ]
  },
  {
   "cell_type": "code",
   "execution_count": 15,
   "metadata": {},
   "outputs": [],
   "source": [
    "categorical_features_personal = [\n",
    "    \"name_contract_type\",\n",
    "    \"code_gender\",\n",
    "    \"flag_own_car\",\n",
    "    \"flag_own_realty\",\n",
    "]\n",
    "\n",
    "categorical_features_housing_family = [\n",
    "    \"name_type_suite\",\n",
    "    \"name_income_type\",\n",
    "    \"name_education_type\",\n",
    "    \"name_family_status\",\n",
    "]\n",
    "\n",
    "categorical_features_occupation = [\n",
    "    \"name_housing_type\",\n",
    "    \"occupation_type\",\n",
    "    \"housetype_mode\",\n",
    "    \"emergencystate_mode\",\n",
    "]\n",
    "\n",
    "categorical_features_work_context = [\n",
    "    \"weekday_appr_process_start\",\n",
    "    \"organization_type\",\n",
    "    \"reg_city_not_work_city\",\n",
    "]\n",
    "\n",
    "categorical_features_ratings = [\n",
    "    \"region_rating_client\",\n",
    "    \"region_rating_client_w_city\",\n",
    "    \"\"\n",
    "]"
   ]
  },
  {
   "cell_type": "code",
   "execution_count": 16,
   "metadata": {},
   "outputs": [],
   "source": [
    "all_categorical_features = (\n",
    "    categorical_features_personal\n",
    "    + categorical_features_housing_family\n",
    "    + categorical_features_occupation\n",
    "    + categorical_features_work_context\n",
    "    + categorical_features_ratings\n",
    ")\n",
    "\n",
    "all_numerical_features = (\n",
    "    numerical_features_timing_history\n",
    "    + numerical_features_financial\n",
    "    + numerical_features_loan_specifics\n",
    ")\n",
    "\n",
    "all_features = all_categorical_features + all_numerical_features"
   ]
  },
  {
   "cell_type": "code",
   "execution_count": 17,
   "metadata": {},
   "outputs": [
    {
     "data": {
      "application/vnd.plotly.v1+json": {
       "config": {
        "plotlyServerURL": "https://plot.ly"
       },
       "data": [
        {
         "marker": {
          "color": "#D4A27F"
         },
         "name": "target = 1",
         "showlegend": true,
         "text": [
          "8.2%",
          "6.4%"
         ],
         "textposition": "inside",
         "type": "bar",
         "width": 0.35,
         "x": [
          "Cash loans",
          "Revolving loans"
         ],
         "xaxis": "x",
         "y": [
          8.245943260845568,
          6.376195536663125
         ],
         "yaxis": "y"
        },
        {
         "marker": {
          "color": "#CC7B5C"
         },
         "name": "target = 0",
         "showlegend": true,
         "text": [
          "91.8%",
          "93.6%"
         ],
         "textposition": "inside",
         "type": "bar",
         "width": 0.35,
         "x": [
          "Cash loans",
          "Revolving loans"
         ],
         "xaxis": "x",
         "y": [
          91.75405673915444,
          93.62380446333688
         ],
         "yaxis": "y"
        },
        {
         "marker": {
          "color": "#D4A27F"
         },
         "name": "target = 1",
         "showlegend": false,
         "text": [
          "9.9%",
          "7.1%"
         ],
         "textposition": "inside",
         "type": "bar",
         "width": 0.35,
         "x": [
          "M",
          "F"
         ],
         "xaxis": "x2",
         "y": [
          9.943266646760227,
          7.126747857465043
         ],
         "yaxis": "y2"
        },
        {
         "marker": {
          "color": "#CC7B5C"
         },
         "name": "target = 0",
         "showlegend": false,
         "text": [
          "90.1%",
          "92.9%"
         ],
         "textposition": "inside",
         "type": "bar",
         "width": 0.35,
         "x": [
          "M",
          "F"
         ],
         "xaxis": "x2",
         "y": [
          90.05673335323976,
          92.87325214253495
         ],
         "yaxis": "y2"
        },
        {
         "marker": {
          "color": "#D4A27F"
         },
         "name": "target = 1",
         "showlegend": false,
         "text": [
          "8.6%",
          "7.0%"
         ],
         "textposition": "inside",
         "type": "bar",
         "width": 0.35,
         "x": [
          "N",
          "Y"
         ],
         "xaxis": "x3",
         "y": [
          8.613667219791823,
          7.000889943636903
         ],
         "yaxis": "y3"
        },
        {
         "marker": {
          "color": "#CC7B5C"
         },
         "name": "target = 0",
         "showlegend": false,
         "text": [
          "91.4%",
          "93.0%"
         ],
         "textposition": "inside",
         "type": "bar",
         "width": 0.35,
         "x": [
          "N",
          "Y"
         ],
         "xaxis": "x3",
         "y": [
          91.38633278020818,
          92.9991100563631
         ],
         "yaxis": "y3"
        },
        {
         "marker": {
          "color": "#D4A27F"
         },
         "name": "target = 1",
         "showlegend": false,
         "text": [
          "8.0%",
          "8.2%"
         ],
         "textposition": "inside",
         "type": "bar",
         "width": 0.35,
         "x": [
          "Y",
          "N"
         ],
         "xaxis": "x4",
         "y": [
          8.031088082901555,
          8.158584534731324
         ],
         "yaxis": "y4"
        },
        {
         "marker": {
          "color": "#CC7B5C"
         },
         "name": "target = 0",
         "showlegend": false,
         "text": [
          "92.0%",
          "91.8%"
         ],
         "textposition": "inside",
         "type": "bar",
         "width": 0.35,
         "x": [
          "Y",
          "N"
         ],
         "xaxis": "x4",
         "y": [
          91.96891191709845,
          91.84141546526867
         ],
         "yaxis": "y4"
        }
       ],
       "layout": {
        "font": {
         "color": "#191919",
         "family": "Styrene A",
         "size": 12
        },
        "height": 800,
        "legend": {
         "bgcolor": "rgba(255,255,255,0.6)",
         "bordercolor": "Black",
         "borderwidth": 1,
         "font": {
          "color": "#191919",
          "family": "Styrene A",
          "size": 12
         },
         "orientation": "v",
         "x": 1.02,
         "xanchor": "left",
         "y": 0.5,
         "yanchor": "middle"
        },
        "margin": {
         "b": 50,
         "l": 50,
         "r": 150,
         "t": 100
        },
        "paper_bgcolor": "#EEECE2",
        "plot_bgcolor": "#EEECE2",
        "showlegend": true,
        "template": {
         "data": {
          "bar": [
           {
            "error_x": {
             "color": "#2a3f5f"
            },
            "error_y": {
             "color": "#2a3f5f"
            },
            "marker": {
             "line": {
              "color": "white",
              "width": 0.5
             },
             "pattern": {
              "fillmode": "overlay",
              "size": 10,
              "solidity": 0.2
             }
            },
            "type": "bar"
           }
          ],
          "barpolar": [
           {
            "marker": {
             "line": {
              "color": "white",
              "width": 0.5
             },
             "pattern": {
              "fillmode": "overlay",
              "size": 10,
              "solidity": 0.2
             }
            },
            "type": "barpolar"
           }
          ],
          "carpet": [
           {
            "aaxis": {
             "endlinecolor": "#2a3f5f",
             "gridcolor": "#C8D4E3",
             "linecolor": "#C8D4E3",
             "minorgridcolor": "#C8D4E3",
             "startlinecolor": "#2a3f5f"
            },
            "baxis": {
             "endlinecolor": "#2a3f5f",
             "gridcolor": "#C8D4E3",
             "linecolor": "#C8D4E3",
             "minorgridcolor": "#C8D4E3",
             "startlinecolor": "#2a3f5f"
            },
            "type": "carpet"
           }
          ],
          "choropleth": [
           {
            "colorbar": {
             "outlinewidth": 0,
             "ticks": ""
            },
            "type": "choropleth"
           }
          ],
          "contour": [
           {
            "colorbar": {
             "outlinewidth": 0,
             "ticks": ""
            },
            "colorscale": [
             [
              0,
              "#0d0887"
             ],
             [
              0.1111111111111111,
              "#46039f"
             ],
             [
              0.2222222222222222,
              "#7201a8"
             ],
             [
              0.3333333333333333,
              "#9c179e"
             ],
             [
              0.4444444444444444,
              "#bd3786"
             ],
             [
              0.5555555555555556,
              "#d8576b"
             ],
             [
              0.6666666666666666,
              "#ed7953"
             ],
             [
              0.7777777777777778,
              "#fb9f3a"
             ],
             [
              0.8888888888888888,
              "#fdca26"
             ],
             [
              1,
              "#f0f921"
             ]
            ],
            "type": "contour"
           }
          ],
          "contourcarpet": [
           {
            "colorbar": {
             "outlinewidth": 0,
             "ticks": ""
            },
            "type": "contourcarpet"
           }
          ],
          "heatmap": [
           {
            "colorbar": {
             "outlinewidth": 0,
             "ticks": ""
            },
            "colorscale": [
             [
              0,
              "#0d0887"
             ],
             [
              0.1111111111111111,
              "#46039f"
             ],
             [
              0.2222222222222222,
              "#7201a8"
             ],
             [
              0.3333333333333333,
              "#9c179e"
             ],
             [
              0.4444444444444444,
              "#bd3786"
             ],
             [
              0.5555555555555556,
              "#d8576b"
             ],
             [
              0.6666666666666666,
              "#ed7953"
             ],
             [
              0.7777777777777778,
              "#fb9f3a"
             ],
             [
              0.8888888888888888,
              "#fdca26"
             ],
             [
              1,
              "#f0f921"
             ]
            ],
            "type": "heatmap"
           }
          ],
          "heatmapgl": [
           {
            "colorbar": {
             "outlinewidth": 0,
             "ticks": ""
            },
            "colorscale": [
             [
              0,
              "#0d0887"
             ],
             [
              0.1111111111111111,
              "#46039f"
             ],
             [
              0.2222222222222222,
              "#7201a8"
             ],
             [
              0.3333333333333333,
              "#9c179e"
             ],
             [
              0.4444444444444444,
              "#bd3786"
             ],
             [
              0.5555555555555556,
              "#d8576b"
             ],
             [
              0.6666666666666666,
              "#ed7953"
             ],
             [
              0.7777777777777778,
              "#fb9f3a"
             ],
             [
              0.8888888888888888,
              "#fdca26"
             ],
             [
              1,
              "#f0f921"
             ]
            ],
            "type": "heatmapgl"
           }
          ],
          "histogram": [
           {
            "marker": {
             "pattern": {
              "fillmode": "overlay",
              "size": 10,
              "solidity": 0.2
             }
            },
            "type": "histogram"
           }
          ],
          "histogram2d": [
           {
            "colorbar": {
             "outlinewidth": 0,
             "ticks": ""
            },
            "colorscale": [
             [
              0,
              "#0d0887"
             ],
             [
              0.1111111111111111,
              "#46039f"
             ],
             [
              0.2222222222222222,
              "#7201a8"
             ],
             [
              0.3333333333333333,
              "#9c179e"
             ],
             [
              0.4444444444444444,
              "#bd3786"
             ],
             [
              0.5555555555555556,
              "#d8576b"
             ],
             [
              0.6666666666666666,
              "#ed7953"
             ],
             [
              0.7777777777777778,
              "#fb9f3a"
             ],
             [
              0.8888888888888888,
              "#fdca26"
             ],
             [
              1,
              "#f0f921"
             ]
            ],
            "type": "histogram2d"
           }
          ],
          "histogram2dcontour": [
           {
            "colorbar": {
             "outlinewidth": 0,
             "ticks": ""
            },
            "colorscale": [
             [
              0,
              "#0d0887"
             ],
             [
              0.1111111111111111,
              "#46039f"
             ],
             [
              0.2222222222222222,
              "#7201a8"
             ],
             [
              0.3333333333333333,
              "#9c179e"
             ],
             [
              0.4444444444444444,
              "#bd3786"
             ],
             [
              0.5555555555555556,
              "#d8576b"
             ],
             [
              0.6666666666666666,
              "#ed7953"
             ],
             [
              0.7777777777777778,
              "#fb9f3a"
             ],
             [
              0.8888888888888888,
              "#fdca26"
             ],
             [
              1,
              "#f0f921"
             ]
            ],
            "type": "histogram2dcontour"
           }
          ],
          "mesh3d": [
           {
            "colorbar": {
             "outlinewidth": 0,
             "ticks": ""
            },
            "type": "mesh3d"
           }
          ],
          "parcoords": [
           {
            "line": {
             "colorbar": {
              "outlinewidth": 0,
              "ticks": ""
             }
            },
            "type": "parcoords"
           }
          ],
          "pie": [
           {
            "automargin": true,
            "type": "pie"
           }
          ],
          "scatter": [
           {
            "fillpattern": {
             "fillmode": "overlay",
             "size": 10,
             "solidity": 0.2
            },
            "type": "scatter"
           }
          ],
          "scatter3d": [
           {
            "line": {
             "colorbar": {
              "outlinewidth": 0,
              "ticks": ""
             }
            },
            "marker": {
             "colorbar": {
              "outlinewidth": 0,
              "ticks": ""
             }
            },
            "type": "scatter3d"
           }
          ],
          "scattercarpet": [
           {
            "marker": {
             "colorbar": {
              "outlinewidth": 0,
              "ticks": ""
             }
            },
            "type": "scattercarpet"
           }
          ],
          "scattergeo": [
           {
            "marker": {
             "colorbar": {
              "outlinewidth": 0,
              "ticks": ""
             }
            },
            "type": "scattergeo"
           }
          ],
          "scattergl": [
           {
            "marker": {
             "colorbar": {
              "outlinewidth": 0,
              "ticks": ""
             }
            },
            "type": "scattergl"
           }
          ],
          "scattermapbox": [
           {
            "marker": {
             "colorbar": {
              "outlinewidth": 0,
              "ticks": ""
             }
            },
            "type": "scattermapbox"
           }
          ],
          "scatterpolar": [
           {
            "marker": {
             "colorbar": {
              "outlinewidth": 0,
              "ticks": ""
             }
            },
            "type": "scatterpolar"
           }
          ],
          "scatterpolargl": [
           {
            "marker": {
             "colorbar": {
              "outlinewidth": 0,
              "ticks": ""
             }
            },
            "type": "scatterpolargl"
           }
          ],
          "scatterternary": [
           {
            "marker": {
             "colorbar": {
              "outlinewidth": 0,
              "ticks": ""
             }
            },
            "type": "scatterternary"
           }
          ],
          "surface": [
           {
            "colorbar": {
             "outlinewidth": 0,
             "ticks": ""
            },
            "colorscale": [
             [
              0,
              "#0d0887"
             ],
             [
              0.1111111111111111,
              "#46039f"
             ],
             [
              0.2222222222222222,
              "#7201a8"
             ],
             [
              0.3333333333333333,
              "#9c179e"
             ],
             [
              0.4444444444444444,
              "#bd3786"
             ],
             [
              0.5555555555555556,
              "#d8576b"
             ],
             [
              0.6666666666666666,
              "#ed7953"
             ],
             [
              0.7777777777777778,
              "#fb9f3a"
             ],
             [
              0.8888888888888888,
              "#fdca26"
             ],
             [
              1,
              "#f0f921"
             ]
            ],
            "type": "surface"
           }
          ],
          "table": [
           {
            "cells": {
             "fill": {
              "color": "#EBF0F8"
             },
             "line": {
              "color": "white"
             }
            },
            "header": {
             "fill": {
              "color": "#C8D4E3"
             },
             "line": {
              "color": "white"
             }
            },
            "type": "table"
           }
          ]
         },
         "layout": {
          "annotationdefaults": {
           "arrowcolor": "#2a3f5f",
           "arrowhead": 0,
           "arrowwidth": 1
          },
          "autotypenumbers": "strict",
          "coloraxis": {
           "colorbar": {
            "outlinewidth": 0,
            "ticks": ""
           }
          },
          "colorscale": {
           "diverging": [
            [
             0,
             "#8e0152"
            ],
            [
             0.1,
             "#c51b7d"
            ],
            [
             0.2,
             "#de77ae"
            ],
            [
             0.3,
             "#f1b6da"
            ],
            [
             0.4,
             "#fde0ef"
            ],
            [
             0.5,
             "#f7f7f7"
            ],
            [
             0.6,
             "#e6f5d0"
            ],
            [
             0.7,
             "#b8e186"
            ],
            [
             0.8,
             "#7fbc41"
            ],
            [
             0.9,
             "#4d9221"
            ],
            [
             1,
             "#276419"
            ]
           ],
           "sequential": [
            [
             0,
             "#0d0887"
            ],
            [
             0.1111111111111111,
             "#46039f"
            ],
            [
             0.2222222222222222,
             "#7201a8"
            ],
            [
             0.3333333333333333,
             "#9c179e"
            ],
            [
             0.4444444444444444,
             "#bd3786"
            ],
            [
             0.5555555555555556,
             "#d8576b"
            ],
            [
             0.6666666666666666,
             "#ed7953"
            ],
            [
             0.7777777777777778,
             "#fb9f3a"
            ],
            [
             0.8888888888888888,
             "#fdca26"
            ],
            [
             1,
             "#f0f921"
            ]
           ],
           "sequentialminus": [
            [
             0,
             "#0d0887"
            ],
            [
             0.1111111111111111,
             "#46039f"
            ],
            [
             0.2222222222222222,
             "#7201a8"
            ],
            [
             0.3333333333333333,
             "#9c179e"
            ],
            [
             0.4444444444444444,
             "#bd3786"
            ],
            [
             0.5555555555555556,
             "#d8576b"
            ],
            [
             0.6666666666666666,
             "#ed7953"
            ],
            [
             0.7777777777777778,
             "#fb9f3a"
            ],
            [
             0.8888888888888888,
             "#fdca26"
            ],
            [
             1,
             "#f0f921"
            ]
           ]
          },
          "colorway": [
           "#636efa",
           "#EF553B",
           "#00cc96",
           "#ab63fa",
           "#FFA15A",
           "#19d3f3",
           "#FF6692",
           "#B6E880",
           "#FF97FF",
           "#FECB52"
          ],
          "font": {
           "color": "#2a3f5f"
          },
          "geo": {
           "bgcolor": "white",
           "lakecolor": "white",
           "landcolor": "white",
           "showlakes": true,
           "showland": true,
           "subunitcolor": "#C8D4E3"
          },
          "hoverlabel": {
           "align": "left"
          },
          "hovermode": "closest",
          "mapbox": {
           "style": "light"
          },
          "paper_bgcolor": "white",
          "plot_bgcolor": "white",
          "polar": {
           "angularaxis": {
            "gridcolor": "#EBF0F8",
            "linecolor": "#EBF0F8",
            "ticks": ""
           },
           "bgcolor": "white",
           "radialaxis": {
            "gridcolor": "#EBF0F8",
            "linecolor": "#EBF0F8",
            "ticks": ""
           }
          },
          "scene": {
           "xaxis": {
            "backgroundcolor": "white",
            "gridcolor": "#DFE8F3",
            "gridwidth": 2,
            "linecolor": "#EBF0F8",
            "showbackground": true,
            "ticks": "",
            "zerolinecolor": "#EBF0F8"
           },
           "yaxis": {
            "backgroundcolor": "white",
            "gridcolor": "#DFE8F3",
            "gridwidth": 2,
            "linecolor": "#EBF0F8",
            "showbackground": true,
            "ticks": "",
            "zerolinecolor": "#EBF0F8"
           },
           "zaxis": {
            "backgroundcolor": "white",
            "gridcolor": "#DFE8F3",
            "gridwidth": 2,
            "linecolor": "#EBF0F8",
            "showbackground": true,
            "ticks": "",
            "zerolinecolor": "#EBF0F8"
           }
          },
          "shapedefaults": {
           "line": {
            "color": "#2a3f5f"
           }
          },
          "ternary": {
           "aaxis": {
            "gridcolor": "#DFE8F3",
            "linecolor": "#A2B1C6",
            "ticks": ""
           },
           "baxis": {
            "gridcolor": "#DFE8F3",
            "linecolor": "#A2B1C6",
            "ticks": ""
           },
           "bgcolor": "white",
           "caxis": {
            "gridcolor": "#DFE8F3",
            "linecolor": "#A2B1C6",
            "ticks": ""
           }
          },
          "title": {
           "x": 0.05
          },
          "xaxis": {
           "automargin": true,
           "gridcolor": "#EBF0F8",
           "linecolor": "#EBF0F8",
           "ticks": "",
           "title": {
            "standoff": 15
           },
           "zerolinecolor": "#EBF0F8",
           "zerolinewidth": 2
          },
          "yaxis": {
           "automargin": true,
           "gridcolor": "#EBF0F8",
           "linecolor": "#EBF0F8",
           "ticks": "",
           "title": {
            "standoff": 15
           },
           "zerolinecolor": "#EBF0F8",
           "zerolinewidth": 2
          }
         }
        },
        "title": {
         "font": {
          "color": "#191919",
          "family": "Styrene B",
          "size": 20
         },
         "text": "Distribution of name_contract_type, code_gender, flag_own_car, flag_own_realty by target",
         "x": 0.5
        },
        "width": 1200,
        "xaxis": {
         "anchor": "y",
         "domain": [
          0,
          0.45
         ],
         "showticklabels": true,
         "tickfont": {
          "color": "#191919",
          "family": "Styrene A",
          "size": 12
         },
         "title": {
          "font": {
           "color": "#191919",
           "family": "Styrene A",
           "size": 14
          },
          "standoff": 25,
          "text": "name_contract_type"
         }
        },
        "xaxis2": {
         "anchor": "y2",
         "domain": [
          0.55,
          1
         ],
         "showticklabels": true,
         "tickfont": {
          "color": "#191919",
          "family": "Styrene A",
          "size": 12
         },
         "title": {
          "font": {
           "color": "#191919",
           "family": "Styrene A",
           "size": 14
          },
          "standoff": 25,
          "text": "code_gender"
         }
        },
        "xaxis3": {
         "anchor": "y3",
         "domain": [
          0,
          0.45
         ],
         "showticklabels": true,
         "tickfont": {
          "color": "#191919",
          "family": "Styrene A",
          "size": 12
         },
         "title": {
          "font": {
           "color": "#191919",
           "family": "Styrene A",
           "size": 14
          },
          "standoff": 25,
          "text": "flag_own_car"
         }
        },
        "xaxis4": {
         "anchor": "y4",
         "domain": [
          0.55,
          1
         ],
         "showticklabels": true,
         "tickfont": {
          "color": "#191919",
          "family": "Styrene A",
          "size": 12
         },
         "title": {
          "font": {
           "color": "#191919",
           "family": "Styrene A",
           "size": 14
          },
          "standoff": 25,
          "text": "flag_own_realty"
         }
        },
        "yaxis": {
         "anchor": "x",
         "domain": [
          0.6000000000000001,
          1
         ],
         "range": [
          0,
          100
         ],
         "tickfont": {
          "color": "#191919",
          "family": "Styrene A",
          "size": 12
         },
         "title": {
          "font": {
           "color": "#191919",
           "family": "Styrene A",
           "size": 14
          },
          "text": "Percentage"
         }
        },
        "yaxis2": {
         "anchor": "x2",
         "domain": [
          0.6000000000000001,
          1
         ],
         "range": [
          0,
          100
         ],
         "tickfont": {
          "color": "#191919",
          "family": "Styrene A",
          "size": 12
         },
         "title": {
          "font": {
           "color": "#191919",
           "family": "Styrene A",
           "size": 14
          }
         }
        },
        "yaxis3": {
         "anchor": "x3",
         "domain": [
          0,
          0.4
         ],
         "range": [
          0,
          100
         ],
         "tickfont": {
          "color": "#191919",
          "family": "Styrene A",
          "size": 12
         },
         "title": {
          "font": {
           "color": "#191919",
           "family": "Styrene A",
           "size": 14
          },
          "text": "Percentage"
         }
        },
        "yaxis4": {
         "anchor": "x4",
         "domain": [
          0,
          0.4
         ],
         "range": [
          0,
          100
         ],
         "tickfont": {
          "color": "#191919",
          "family": "Styrene A",
          "size": 12
         },
         "title": {
          "font": {
           "color": "#191919",
           "family": "Styrene A",
           "size": 14
          }
         }
        }
       }
      }
     },
     "metadata": {},
     "output_type": "display_data"
    }
   ],
   "source": [
    "plot_categorical_features_by_target(pd_application_train, categorical_features_personal,target_feature)"
   ]
  }
 ],
 "metadata": {
  "kernelspec": {
   "display_name": "venv",
   "language": "python",
   "name": "python3"
  },
  "language_info": {
   "codemirror_mode": {
    "name": "ipython",
    "version": 3
   },
   "file_extension": ".py",
   "mimetype": "text/x-python",
   "name": "python",
   "nbconvert_exporter": "python",
   "pygments_lexer": "ipython3",
   "version": "3.12.5"
  }
 },
 "nbformat": 4,
 "nbformat_minor": 2
}
