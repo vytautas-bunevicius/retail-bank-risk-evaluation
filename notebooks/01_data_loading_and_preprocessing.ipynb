{
 "cells": [
  {
   "cell_type": "markdown",
   "metadata": {},
   "source": [
    "## Notebook Overview\n",
    "\n",
    "### 0.1.1 Project Overview\n",
    "\n",
    "This notebook focuses on the crucial initial steps of a machine learning project for credit risk prediction. Specifically, we will load the raw Home Credit dataset, perform essential data cleaning and memory optimization, and save the preprocessed data in a more efficient format (Parquet) for subsequent stages of the project.\n",
    "\n",
    "### 0.1.2 Why is this Important?\n",
    "\n",
    "Efficient data loading and preprocessing are fundamental to any successful machine learning project. By optimizing memory usage and ensuring data quality, we lay the groundwork for faster processing, improved model training, and more reliable results. This is particularly important in credit risk prediction where accurate and timely decisions are crucial for financial institutions.\n",
    "\n",
    "### 0.1.3 Dataset Description\n",
    "\n",
    "The Home Credit dataset contains information about loan applications from Home Credit Group. It includes a variety of features related to applicant demographics, financial history, and loan specifics. This data will be used to build models that predict the likelihood of loan defaults. The dataset is structured across several interconnected tables, offering a rich source of information for analysis.\n",
    "\n",
    "### 0.1.4 Our Approach\n",
    "\n",
    "We will leverage the Polars library for data loading and manipulation due to its efficiency in handling large datasets. Our approach includes:\n",
    "\n",
    "1. **Data Loading:** Load the `application_train.csv` and `application_test.csv` files using Polars.\n",
    "2. **Initial Exploration:** Examine the first few rows and data types to gain an initial understanding of the data.\n",
    "3. **Lowercase Column Names:** Standardize column names by converting them to lowercase.\n",
    "4. **Memory Optimization:** Reduce the dataset's memory footprint by converting data types to lower-precision alternatives without significant loss of information.\n",
    "5. **Save Preprocessed Data:** Save the optimized DataFrames to Parquet files for efficient storage and retrieval in subsequent notebooks.\n",
    "\n",
    "### 0.1.5 Additional Notes\n",
    "\n",
    "This notebook assumes that the raw data files (`application_train.csv` and `application_test.csv`) are located in the `../data/raw/` directory. The preprocessed data will be saved in the `../data/processed/` directory."
   ]
  },
  {
   "cell_type": "code",
   "execution_count": 2,
   "metadata": {},
   "outputs": [],
   "source": [
    "import polars as pl\n",
    "from retail_bank_risk.data_preprocessing_utils import reduce_memory_usage_pl"
   ]
  },
  {
   "cell_type": "markdown",
   "metadata": {},
   "source": [
    "We then load the CSV files using Polars.\n"
   ]
  },
  {
   "cell_type": "code",
   "execution_count": 3,
   "metadata": {},
   "outputs": [],
   "source": [
    "application_train = pl.read_csv(\"../data/raw/application_train.csv\")\n",
    "application_test = pl.read_csv(\"../data/raw/application_test.csv\")"
   ]
  },
  {
   "cell_type": "markdown",
   "metadata": {},
   "source": [
    "We've loaded the main data tables, `application_train` and `application_test`, which contains the core details of each loan application.\n",
    "\n",
    "This information might be sufficient for building our initial models.\n",
    "\n",
    "If we need more information to improve accuracy, we'll then explore the other tables and incorporate relevant data from them.\n",
    "\n",
    "Next up we will check the first rows of our train and test datasets.\n"
   ]
  },
  {
   "cell_type": "code",
   "execution_count": 4,
   "metadata": {},
   "outputs": [
    {
     "data": {
      "text/html": [
       "<div><style>\n",
       ".dataframe > thead > tr,\n",
       ".dataframe > tbody > tr {\n",
       "  text-align: right;\n",
       "  white-space: pre-wrap;\n",
       "}\n",
       "</style>\n",
       "<small>shape: (5, 122)</small><table border=\"1\" class=\"dataframe\"><thead><tr><th>SK_ID_CURR</th><th>TARGET</th><th>NAME_CONTRACT_TYPE</th><th>CODE_GENDER</th><th>FLAG_OWN_CAR</th><th>FLAG_OWN_REALTY</th><th>CNT_CHILDREN</th><th>AMT_INCOME_TOTAL</th><th>AMT_CREDIT</th><th>AMT_ANNUITY</th><th>AMT_GOODS_PRICE</th><th>NAME_TYPE_SUITE</th><th>NAME_INCOME_TYPE</th><th>NAME_EDUCATION_TYPE</th><th>NAME_FAMILY_STATUS</th><th>NAME_HOUSING_TYPE</th><th>REGION_POPULATION_RELATIVE</th><th>DAYS_BIRTH</th><th>DAYS_EMPLOYED</th><th>DAYS_REGISTRATION</th><th>DAYS_ID_PUBLISH</th><th>OWN_CAR_AGE</th><th>FLAG_MOBIL</th><th>FLAG_EMP_PHONE</th><th>FLAG_WORK_PHONE</th><th>FLAG_CONT_MOBILE</th><th>FLAG_PHONE</th><th>FLAG_EMAIL</th><th>OCCUPATION_TYPE</th><th>CNT_FAM_MEMBERS</th><th>REGION_RATING_CLIENT</th><th>REGION_RATING_CLIENT_W_CITY</th><th>WEEKDAY_APPR_PROCESS_START</th><th>HOUR_APPR_PROCESS_START</th><th>REG_REGION_NOT_LIVE_REGION</th><th>REG_REGION_NOT_WORK_REGION</th><th>LIVE_REGION_NOT_WORK_REGION</th><th>&hellip;</th><th>NONLIVINGAREA_MEDI</th><th>FONDKAPREMONT_MODE</th><th>HOUSETYPE_MODE</th><th>TOTALAREA_MODE</th><th>WALLSMATERIAL_MODE</th><th>EMERGENCYSTATE_MODE</th><th>OBS_30_CNT_SOCIAL_CIRCLE</th><th>DEF_30_CNT_SOCIAL_CIRCLE</th><th>OBS_60_CNT_SOCIAL_CIRCLE</th><th>DEF_60_CNT_SOCIAL_CIRCLE</th><th>DAYS_LAST_PHONE_CHANGE</th><th>FLAG_DOCUMENT_2</th><th>FLAG_DOCUMENT_3</th><th>FLAG_DOCUMENT_4</th><th>FLAG_DOCUMENT_5</th><th>FLAG_DOCUMENT_6</th><th>FLAG_DOCUMENT_7</th><th>FLAG_DOCUMENT_8</th><th>FLAG_DOCUMENT_9</th><th>FLAG_DOCUMENT_10</th><th>FLAG_DOCUMENT_11</th><th>FLAG_DOCUMENT_12</th><th>FLAG_DOCUMENT_13</th><th>FLAG_DOCUMENT_14</th><th>FLAG_DOCUMENT_15</th><th>FLAG_DOCUMENT_16</th><th>FLAG_DOCUMENT_17</th><th>FLAG_DOCUMENT_18</th><th>FLAG_DOCUMENT_19</th><th>FLAG_DOCUMENT_20</th><th>FLAG_DOCUMENT_21</th><th>AMT_REQ_CREDIT_BUREAU_HOUR</th><th>AMT_REQ_CREDIT_BUREAU_DAY</th><th>AMT_REQ_CREDIT_BUREAU_WEEK</th><th>AMT_REQ_CREDIT_BUREAU_MON</th><th>AMT_REQ_CREDIT_BUREAU_QRT</th><th>AMT_REQ_CREDIT_BUREAU_YEAR</th></tr><tr><td>i64</td><td>i64</td><td>str</td><td>str</td><td>str</td><td>str</td><td>i64</td><td>f64</td><td>f64</td><td>f64</td><td>f64</td><td>str</td><td>str</td><td>str</td><td>str</td><td>str</td><td>f64</td><td>i64</td><td>i64</td><td>f64</td><td>i64</td><td>f64</td><td>i64</td><td>i64</td><td>i64</td><td>i64</td><td>i64</td><td>i64</td><td>str</td><td>f64</td><td>i64</td><td>i64</td><td>str</td><td>i64</td><td>i64</td><td>i64</td><td>i64</td><td>&hellip;</td><td>f64</td><td>str</td><td>str</td><td>f64</td><td>str</td><td>str</td><td>f64</td><td>f64</td><td>f64</td><td>f64</td><td>f64</td><td>i64</td><td>i64</td><td>i64</td><td>i64</td><td>i64</td><td>i64</td><td>i64</td><td>i64</td><td>i64</td><td>i64</td><td>i64</td><td>i64</td><td>i64</td><td>i64</td><td>i64</td><td>i64</td><td>i64</td><td>i64</td><td>i64</td><td>i64</td><td>f64</td><td>f64</td><td>f64</td><td>f64</td><td>f64</td><td>f64</td></tr></thead><tbody><tr><td>100002</td><td>1</td><td>&quot;Cash loans&quot;</td><td>&quot;M&quot;</td><td>&quot;N&quot;</td><td>&quot;Y&quot;</td><td>0</td><td>202500.0</td><td>406597.5</td><td>24700.5</td><td>351000.0</td><td>&quot;Unaccompanied&quot;</td><td>&quot;Working&quot;</td><td>&quot;Secondary / secondary special&quot;</td><td>&quot;Single / not married&quot;</td><td>&quot;House / apartment&quot;</td><td>0.018801</td><td>-9461</td><td>-637</td><td>-3648.0</td><td>-2120</td><td>null</td><td>1</td><td>1</td><td>0</td><td>1</td><td>1</td><td>0</td><td>&quot;Laborers&quot;</td><td>1.0</td><td>2</td><td>2</td><td>&quot;WEDNESDAY&quot;</td><td>10</td><td>0</td><td>0</td><td>0</td><td>&hellip;</td><td>0.0</td><td>&quot;reg oper account&quot;</td><td>&quot;block of flats&quot;</td><td>0.0149</td><td>&quot;Stone, brick&quot;</td><td>&quot;No&quot;</td><td>2.0</td><td>2.0</td><td>2.0</td><td>2.0</td><td>-1134.0</td><td>0</td><td>1</td><td>0</td><td>0</td><td>0</td><td>0</td><td>0</td><td>0</td><td>0</td><td>0</td><td>0</td><td>0</td><td>0</td><td>0</td><td>0</td><td>0</td><td>0</td><td>0</td><td>0</td><td>0</td><td>0.0</td><td>0.0</td><td>0.0</td><td>0.0</td><td>0.0</td><td>1.0</td></tr><tr><td>100003</td><td>0</td><td>&quot;Cash loans&quot;</td><td>&quot;F&quot;</td><td>&quot;N&quot;</td><td>&quot;N&quot;</td><td>0</td><td>270000.0</td><td>1293502.5</td><td>35698.5</td><td>1.1295e6</td><td>&quot;Family&quot;</td><td>&quot;State servant&quot;</td><td>&quot;Higher education&quot;</td><td>&quot;Married&quot;</td><td>&quot;House / apartment&quot;</td><td>0.003541</td><td>-16765</td><td>-1188</td><td>-1186.0</td><td>-291</td><td>null</td><td>1</td><td>1</td><td>0</td><td>1</td><td>1</td><td>0</td><td>&quot;Core staff&quot;</td><td>2.0</td><td>1</td><td>1</td><td>&quot;MONDAY&quot;</td><td>11</td><td>0</td><td>0</td><td>0</td><td>&hellip;</td><td>0.01</td><td>&quot;reg oper account&quot;</td><td>&quot;block of flats&quot;</td><td>0.0714</td><td>&quot;Block&quot;</td><td>&quot;No&quot;</td><td>1.0</td><td>0.0</td><td>1.0</td><td>0.0</td><td>-828.0</td><td>0</td><td>1</td><td>0</td><td>0</td><td>0</td><td>0</td><td>0</td><td>0</td><td>0</td><td>0</td><td>0</td><td>0</td><td>0</td><td>0</td><td>0</td><td>0</td><td>0</td><td>0</td><td>0</td><td>0</td><td>0.0</td><td>0.0</td><td>0.0</td><td>0.0</td><td>0.0</td><td>0.0</td></tr><tr><td>100004</td><td>0</td><td>&quot;Revolving loans&quot;</td><td>&quot;M&quot;</td><td>&quot;Y&quot;</td><td>&quot;Y&quot;</td><td>0</td><td>67500.0</td><td>135000.0</td><td>6750.0</td><td>135000.0</td><td>&quot;Unaccompanied&quot;</td><td>&quot;Working&quot;</td><td>&quot;Secondary / secondary special&quot;</td><td>&quot;Single / not married&quot;</td><td>&quot;House / apartment&quot;</td><td>0.010032</td><td>-19046</td><td>-225</td><td>-4260.0</td><td>-2531</td><td>26.0</td><td>1</td><td>1</td><td>1</td><td>1</td><td>1</td><td>0</td><td>&quot;Laborers&quot;</td><td>1.0</td><td>2</td><td>2</td><td>&quot;MONDAY&quot;</td><td>9</td><td>0</td><td>0</td><td>0</td><td>&hellip;</td><td>null</td><td>null</td><td>null</td><td>null</td><td>null</td><td>null</td><td>0.0</td><td>0.0</td><td>0.0</td><td>0.0</td><td>-815.0</td><td>0</td><td>0</td><td>0</td><td>0</td><td>0</td><td>0</td><td>0</td><td>0</td><td>0</td><td>0</td><td>0</td><td>0</td><td>0</td><td>0</td><td>0</td><td>0</td><td>0</td><td>0</td><td>0</td><td>0</td><td>0.0</td><td>0.0</td><td>0.0</td><td>0.0</td><td>0.0</td><td>0.0</td></tr><tr><td>100006</td><td>0</td><td>&quot;Cash loans&quot;</td><td>&quot;F&quot;</td><td>&quot;N&quot;</td><td>&quot;Y&quot;</td><td>0</td><td>135000.0</td><td>312682.5</td><td>29686.5</td><td>297000.0</td><td>&quot;Unaccompanied&quot;</td><td>&quot;Working&quot;</td><td>&quot;Secondary / secondary special&quot;</td><td>&quot;Civil marriage&quot;</td><td>&quot;House / apartment&quot;</td><td>0.008019</td><td>-19005</td><td>-3039</td><td>-9833.0</td><td>-2437</td><td>null</td><td>1</td><td>1</td><td>0</td><td>1</td><td>0</td><td>0</td><td>&quot;Laborers&quot;</td><td>2.0</td><td>2</td><td>2</td><td>&quot;WEDNESDAY&quot;</td><td>17</td><td>0</td><td>0</td><td>0</td><td>&hellip;</td><td>null</td><td>null</td><td>null</td><td>null</td><td>null</td><td>null</td><td>2.0</td><td>0.0</td><td>2.0</td><td>0.0</td><td>-617.0</td><td>0</td><td>1</td><td>0</td><td>0</td><td>0</td><td>0</td><td>0</td><td>0</td><td>0</td><td>0</td><td>0</td><td>0</td><td>0</td><td>0</td><td>0</td><td>0</td><td>0</td><td>0</td><td>0</td><td>0</td><td>null</td><td>null</td><td>null</td><td>null</td><td>null</td><td>null</td></tr><tr><td>100007</td><td>0</td><td>&quot;Cash loans&quot;</td><td>&quot;M&quot;</td><td>&quot;N&quot;</td><td>&quot;Y&quot;</td><td>0</td><td>121500.0</td><td>513000.0</td><td>21865.5</td><td>513000.0</td><td>&quot;Unaccompanied&quot;</td><td>&quot;Working&quot;</td><td>&quot;Secondary / secondary special&quot;</td><td>&quot;Single / not married&quot;</td><td>&quot;House / apartment&quot;</td><td>0.028663</td><td>-19932</td><td>-3038</td><td>-4311.0</td><td>-3458</td><td>null</td><td>1</td><td>1</td><td>0</td><td>1</td><td>0</td><td>0</td><td>&quot;Core staff&quot;</td><td>1.0</td><td>2</td><td>2</td><td>&quot;THURSDAY&quot;</td><td>11</td><td>0</td><td>0</td><td>0</td><td>&hellip;</td><td>null</td><td>null</td><td>null</td><td>null</td><td>null</td><td>null</td><td>0.0</td><td>0.0</td><td>0.0</td><td>0.0</td><td>-1106.0</td><td>0</td><td>0</td><td>0</td><td>0</td><td>0</td><td>0</td><td>1</td><td>0</td><td>0</td><td>0</td><td>0</td><td>0</td><td>0</td><td>0</td><td>0</td><td>0</td><td>0</td><td>0</td><td>0</td><td>0</td><td>0.0</td><td>0.0</td><td>0.0</td><td>0.0</td><td>0.0</td><td>0.0</td></tr></tbody></table></div>"
      ],
      "text/plain": [
       "shape: (5, 122)\n",
       "┌────────────┬────────┬────────────┬───────────┬───┬───────────┬───────────┬───────────┬───────────┐\n",
       "│ SK_ID_CURR ┆ TARGET ┆ NAME_CONTR ┆ CODE_GEND ┆ … ┆ AMT_REQ_C ┆ AMT_REQ_C ┆ AMT_REQ_C ┆ AMT_REQ_C │\n",
       "│ ---        ┆ ---    ┆ ACT_TYPE   ┆ ER        ┆   ┆ REDIT_BUR ┆ REDIT_BUR ┆ REDIT_BUR ┆ REDIT_BUR │\n",
       "│ i64        ┆ i64    ┆ ---        ┆ ---       ┆   ┆ EAU_WEEK  ┆ EAU_MON   ┆ EAU_QRT   ┆ EAU_YEAR  │\n",
       "│            ┆        ┆ str        ┆ str       ┆   ┆ ---       ┆ ---       ┆ ---       ┆ ---       │\n",
       "│            ┆        ┆            ┆           ┆   ┆ f64       ┆ f64       ┆ f64       ┆ f64       │\n",
       "╞════════════╪════════╪════════════╪═══════════╪═══╪═══════════╪═══════════╪═══════════╪═══════════╡\n",
       "│ 100002     ┆ 1      ┆ Cash loans ┆ M         ┆ … ┆ 0.0       ┆ 0.0       ┆ 0.0       ┆ 1.0       │\n",
       "│ 100003     ┆ 0      ┆ Cash loans ┆ F         ┆ … ┆ 0.0       ┆ 0.0       ┆ 0.0       ┆ 0.0       │\n",
       "│ 100004     ┆ 0      ┆ Revolving  ┆ M         ┆ … ┆ 0.0       ┆ 0.0       ┆ 0.0       ┆ 0.0       │\n",
       "│            ┆        ┆ loans      ┆           ┆   ┆           ┆           ┆           ┆           │\n",
       "│ 100006     ┆ 0      ┆ Cash loans ┆ F         ┆ … ┆ null      ┆ null      ┆ null      ┆ null      │\n",
       "│ 100007     ┆ 0      ┆ Cash loans ┆ M         ┆ … ┆ 0.0       ┆ 0.0       ┆ 0.0       ┆ 0.0       │\n",
       "└────────────┴────────┴────────────┴───────────┴───┴───────────┴───────────┴───────────┴───────────┘"
      ]
     },
     "execution_count": 4,
     "metadata": {},
     "output_type": "execute_result"
    }
   ],
   "source": [
    "application_train.head()"
   ]
  },
  {
   "cell_type": "code",
   "execution_count": 5,
   "metadata": {},
   "outputs": [
    {
     "data": {
      "text/html": [
       "<div><style>\n",
       ".dataframe > thead > tr,\n",
       ".dataframe > tbody > tr {\n",
       "  text-align: right;\n",
       "  white-space: pre-wrap;\n",
       "}\n",
       "</style>\n",
       "<small>shape: (5, 121)</small><table border=\"1\" class=\"dataframe\"><thead><tr><th>SK_ID_CURR</th><th>NAME_CONTRACT_TYPE</th><th>CODE_GENDER</th><th>FLAG_OWN_CAR</th><th>FLAG_OWN_REALTY</th><th>CNT_CHILDREN</th><th>AMT_INCOME_TOTAL</th><th>AMT_CREDIT</th><th>AMT_ANNUITY</th><th>AMT_GOODS_PRICE</th><th>NAME_TYPE_SUITE</th><th>NAME_INCOME_TYPE</th><th>NAME_EDUCATION_TYPE</th><th>NAME_FAMILY_STATUS</th><th>NAME_HOUSING_TYPE</th><th>REGION_POPULATION_RELATIVE</th><th>DAYS_BIRTH</th><th>DAYS_EMPLOYED</th><th>DAYS_REGISTRATION</th><th>DAYS_ID_PUBLISH</th><th>OWN_CAR_AGE</th><th>FLAG_MOBIL</th><th>FLAG_EMP_PHONE</th><th>FLAG_WORK_PHONE</th><th>FLAG_CONT_MOBILE</th><th>FLAG_PHONE</th><th>FLAG_EMAIL</th><th>OCCUPATION_TYPE</th><th>CNT_FAM_MEMBERS</th><th>REGION_RATING_CLIENT</th><th>REGION_RATING_CLIENT_W_CITY</th><th>WEEKDAY_APPR_PROCESS_START</th><th>HOUR_APPR_PROCESS_START</th><th>REG_REGION_NOT_LIVE_REGION</th><th>REG_REGION_NOT_WORK_REGION</th><th>LIVE_REGION_NOT_WORK_REGION</th><th>REG_CITY_NOT_LIVE_CITY</th><th>&hellip;</th><th>NONLIVINGAREA_MEDI</th><th>FONDKAPREMONT_MODE</th><th>HOUSETYPE_MODE</th><th>TOTALAREA_MODE</th><th>WALLSMATERIAL_MODE</th><th>EMERGENCYSTATE_MODE</th><th>OBS_30_CNT_SOCIAL_CIRCLE</th><th>DEF_30_CNT_SOCIAL_CIRCLE</th><th>OBS_60_CNT_SOCIAL_CIRCLE</th><th>DEF_60_CNT_SOCIAL_CIRCLE</th><th>DAYS_LAST_PHONE_CHANGE</th><th>FLAG_DOCUMENT_2</th><th>FLAG_DOCUMENT_3</th><th>FLAG_DOCUMENT_4</th><th>FLAG_DOCUMENT_5</th><th>FLAG_DOCUMENT_6</th><th>FLAG_DOCUMENT_7</th><th>FLAG_DOCUMENT_8</th><th>FLAG_DOCUMENT_9</th><th>FLAG_DOCUMENT_10</th><th>FLAG_DOCUMENT_11</th><th>FLAG_DOCUMENT_12</th><th>FLAG_DOCUMENT_13</th><th>FLAG_DOCUMENT_14</th><th>FLAG_DOCUMENT_15</th><th>FLAG_DOCUMENT_16</th><th>FLAG_DOCUMENT_17</th><th>FLAG_DOCUMENT_18</th><th>FLAG_DOCUMENT_19</th><th>FLAG_DOCUMENT_20</th><th>FLAG_DOCUMENT_21</th><th>AMT_REQ_CREDIT_BUREAU_HOUR</th><th>AMT_REQ_CREDIT_BUREAU_DAY</th><th>AMT_REQ_CREDIT_BUREAU_WEEK</th><th>AMT_REQ_CREDIT_BUREAU_MON</th><th>AMT_REQ_CREDIT_BUREAU_QRT</th><th>AMT_REQ_CREDIT_BUREAU_YEAR</th></tr><tr><td>i64</td><td>str</td><td>str</td><td>str</td><td>str</td><td>i64</td><td>f64</td><td>f64</td><td>f64</td><td>f64</td><td>str</td><td>str</td><td>str</td><td>str</td><td>str</td><td>f64</td><td>i64</td><td>i64</td><td>f64</td><td>i64</td><td>f64</td><td>i64</td><td>i64</td><td>i64</td><td>i64</td><td>i64</td><td>i64</td><td>str</td><td>f64</td><td>i64</td><td>i64</td><td>str</td><td>i64</td><td>i64</td><td>i64</td><td>i64</td><td>i64</td><td>&hellip;</td><td>f64</td><td>str</td><td>str</td><td>f64</td><td>str</td><td>str</td><td>f64</td><td>f64</td><td>f64</td><td>f64</td><td>f64</td><td>i64</td><td>i64</td><td>i64</td><td>i64</td><td>i64</td><td>i64</td><td>i64</td><td>i64</td><td>i64</td><td>i64</td><td>i64</td><td>i64</td><td>i64</td><td>i64</td><td>i64</td><td>i64</td><td>i64</td><td>i64</td><td>i64</td><td>i64</td><td>f64</td><td>f64</td><td>f64</td><td>f64</td><td>f64</td><td>f64</td></tr></thead><tbody><tr><td>100001</td><td>&quot;Cash loans&quot;</td><td>&quot;F&quot;</td><td>&quot;N&quot;</td><td>&quot;Y&quot;</td><td>0</td><td>135000.0</td><td>568800.0</td><td>20560.5</td><td>450000.0</td><td>&quot;Unaccompanied&quot;</td><td>&quot;Working&quot;</td><td>&quot;Higher education&quot;</td><td>&quot;Married&quot;</td><td>&quot;House / apartment&quot;</td><td>0.01885</td><td>-19241</td><td>-2329</td><td>-5170.0</td><td>-812</td><td>null</td><td>1</td><td>1</td><td>0</td><td>1</td><td>0</td><td>1</td><td>null</td><td>2.0</td><td>2</td><td>2</td><td>&quot;TUESDAY&quot;</td><td>18</td><td>0</td><td>0</td><td>0</td><td>0</td><td>&hellip;</td><td>null</td><td>null</td><td>&quot;block of flats&quot;</td><td>0.0392</td><td>&quot;Stone, brick&quot;</td><td>&quot;No&quot;</td><td>0.0</td><td>0.0</td><td>0.0</td><td>0.0</td><td>-1740.0</td><td>0</td><td>1</td><td>0</td><td>0</td><td>0</td><td>0</td><td>0</td><td>0</td><td>0</td><td>0</td><td>0</td><td>0</td><td>0</td><td>0</td><td>0</td><td>0</td><td>0</td><td>0</td><td>0</td><td>0</td><td>0.0</td><td>0.0</td><td>0.0</td><td>0.0</td><td>0.0</td><td>0.0</td></tr><tr><td>100005</td><td>&quot;Cash loans&quot;</td><td>&quot;M&quot;</td><td>&quot;N&quot;</td><td>&quot;Y&quot;</td><td>0</td><td>99000.0</td><td>222768.0</td><td>17370.0</td><td>180000.0</td><td>&quot;Unaccompanied&quot;</td><td>&quot;Working&quot;</td><td>&quot;Secondary / secondary special&quot;</td><td>&quot;Married&quot;</td><td>&quot;House / apartment&quot;</td><td>0.035792</td><td>-18064</td><td>-4469</td><td>-9118.0</td><td>-1623</td><td>null</td><td>1</td><td>1</td><td>0</td><td>1</td><td>0</td><td>0</td><td>&quot;Low-skill Laborers&quot;</td><td>2.0</td><td>2</td><td>2</td><td>&quot;FRIDAY&quot;</td><td>9</td><td>0</td><td>0</td><td>0</td><td>0</td><td>&hellip;</td><td>null</td><td>null</td><td>null</td><td>null</td><td>null</td><td>null</td><td>0.0</td><td>0.0</td><td>0.0</td><td>0.0</td><td>0.0</td><td>0</td><td>1</td><td>0</td><td>0</td><td>0</td><td>0</td><td>0</td><td>0</td><td>0</td><td>0</td><td>0</td><td>0</td><td>0</td><td>0</td><td>0</td><td>0</td><td>0</td><td>0</td><td>0</td><td>0</td><td>0.0</td><td>0.0</td><td>0.0</td><td>0.0</td><td>0.0</td><td>3.0</td></tr><tr><td>100013</td><td>&quot;Cash loans&quot;</td><td>&quot;M&quot;</td><td>&quot;Y&quot;</td><td>&quot;Y&quot;</td><td>0</td><td>202500.0</td><td>663264.0</td><td>69777.0</td><td>630000.0</td><td>null</td><td>&quot;Working&quot;</td><td>&quot;Higher education&quot;</td><td>&quot;Married&quot;</td><td>&quot;House / apartment&quot;</td><td>0.019101</td><td>-20038</td><td>-4458</td><td>-2175.0</td><td>-3503</td><td>5.0</td><td>1</td><td>1</td><td>0</td><td>1</td><td>0</td><td>0</td><td>&quot;Drivers&quot;</td><td>2.0</td><td>2</td><td>2</td><td>&quot;MONDAY&quot;</td><td>14</td><td>0</td><td>0</td><td>0</td><td>0</td><td>&hellip;</td><td>null</td><td>null</td><td>null</td><td>null</td><td>null</td><td>null</td><td>0.0</td><td>0.0</td><td>0.0</td><td>0.0</td><td>-856.0</td><td>0</td><td>0</td><td>0</td><td>0</td><td>0</td><td>0</td><td>1</td><td>0</td><td>0</td><td>0</td><td>0</td><td>0</td><td>0</td><td>0</td><td>0</td><td>0</td><td>0</td><td>0</td><td>0</td><td>0</td><td>0.0</td><td>0.0</td><td>0.0</td><td>0.0</td><td>1.0</td><td>4.0</td></tr><tr><td>100028</td><td>&quot;Cash loans&quot;</td><td>&quot;F&quot;</td><td>&quot;N&quot;</td><td>&quot;Y&quot;</td><td>2</td><td>315000.0</td><td>1.575e6</td><td>49018.5</td><td>1.575e6</td><td>&quot;Unaccompanied&quot;</td><td>&quot;Working&quot;</td><td>&quot;Secondary / secondary special&quot;</td><td>&quot;Married&quot;</td><td>&quot;House / apartment&quot;</td><td>0.026392</td><td>-13976</td><td>-1866</td><td>-2000.0</td><td>-4208</td><td>null</td><td>1</td><td>1</td><td>0</td><td>1</td><td>1</td><td>0</td><td>&quot;Sales staff&quot;</td><td>4.0</td><td>2</td><td>2</td><td>&quot;WEDNESDAY&quot;</td><td>11</td><td>0</td><td>0</td><td>0</td><td>0</td><td>&hellip;</td><td>0.0817</td><td>&quot;reg oper account&quot;</td><td>&quot;block of flats&quot;</td><td>0.37</td><td>&quot;Panel&quot;</td><td>&quot;No&quot;</td><td>0.0</td><td>0.0</td><td>0.0</td><td>0.0</td><td>-1805.0</td><td>0</td><td>1</td><td>0</td><td>0</td><td>0</td><td>0</td><td>0</td><td>0</td><td>0</td><td>0</td><td>0</td><td>0</td><td>0</td><td>0</td><td>0</td><td>0</td><td>0</td><td>0</td><td>0</td><td>0</td><td>0.0</td><td>0.0</td><td>0.0</td><td>0.0</td><td>0.0</td><td>3.0</td></tr><tr><td>100038</td><td>&quot;Cash loans&quot;</td><td>&quot;M&quot;</td><td>&quot;Y&quot;</td><td>&quot;N&quot;</td><td>1</td><td>180000.0</td><td>625500.0</td><td>32067.0</td><td>625500.0</td><td>&quot;Unaccompanied&quot;</td><td>&quot;Working&quot;</td><td>&quot;Secondary / secondary special&quot;</td><td>&quot;Married&quot;</td><td>&quot;House / apartment&quot;</td><td>0.010032</td><td>-13040</td><td>-2191</td><td>-4000.0</td><td>-4262</td><td>16.0</td><td>1</td><td>1</td><td>1</td><td>1</td><td>0</td><td>0</td><td>null</td><td>3.0</td><td>2</td><td>2</td><td>&quot;FRIDAY&quot;</td><td>5</td><td>0</td><td>0</td><td>0</td><td>0</td><td>&hellip;</td><td>null</td><td>null</td><td>null</td><td>null</td><td>null</td><td>null</td><td>0.0</td><td>0.0</td><td>0.0</td><td>0.0</td><td>-821.0</td><td>0</td><td>1</td><td>0</td><td>0</td><td>0</td><td>0</td><td>0</td><td>0</td><td>0</td><td>0</td><td>0</td><td>0</td><td>0</td><td>0</td><td>0</td><td>0</td><td>0</td><td>0</td><td>0</td><td>0</td><td>null</td><td>null</td><td>null</td><td>null</td><td>null</td><td>null</td></tr></tbody></table></div>"
      ],
      "text/plain": [
       "shape: (5, 121)\n",
       "┌───────────┬───────────┬───────────┬───────────┬───┬───────────┬───────────┬───────────┬──────────┐\n",
       "│ SK_ID_CUR ┆ NAME_CONT ┆ CODE_GEND ┆ FLAG_OWN_ ┆ … ┆ AMT_REQ_C ┆ AMT_REQ_C ┆ AMT_REQ_C ┆ AMT_REQ_ │\n",
       "│ R         ┆ RACT_TYPE ┆ ER        ┆ CAR       ┆   ┆ REDIT_BUR ┆ REDIT_BUR ┆ REDIT_BUR ┆ CREDIT_B │\n",
       "│ ---       ┆ ---       ┆ ---       ┆ ---       ┆   ┆ EAU_WEEK  ┆ EAU_MON   ┆ EAU_QRT   ┆ UREAU_YE │\n",
       "│ i64       ┆ str       ┆ str       ┆ str       ┆   ┆ ---       ┆ ---       ┆ ---       ┆ AR       │\n",
       "│           ┆           ┆           ┆           ┆   ┆ f64       ┆ f64       ┆ f64       ┆ ---      │\n",
       "│           ┆           ┆           ┆           ┆   ┆           ┆           ┆           ┆ f64      │\n",
       "╞═══════════╪═══════════╪═══════════╪═══════════╪═══╪═══════════╪═══════════╪═══════════╪══════════╡\n",
       "│ 100001    ┆ Cash      ┆ F         ┆ N         ┆ … ┆ 0.0       ┆ 0.0       ┆ 0.0       ┆ 0.0      │\n",
       "│           ┆ loans     ┆           ┆           ┆   ┆           ┆           ┆           ┆          │\n",
       "│ 100005    ┆ Cash      ┆ M         ┆ N         ┆ … ┆ 0.0       ┆ 0.0       ┆ 0.0       ┆ 3.0      │\n",
       "│           ┆ loans     ┆           ┆           ┆   ┆           ┆           ┆           ┆          │\n",
       "│ 100013    ┆ Cash      ┆ M         ┆ Y         ┆ … ┆ 0.0       ┆ 0.0       ┆ 1.0       ┆ 4.0      │\n",
       "│           ┆ loans     ┆           ┆           ┆   ┆           ┆           ┆           ┆          │\n",
       "│ 100028    ┆ Cash      ┆ F         ┆ N         ┆ … ┆ 0.0       ┆ 0.0       ┆ 0.0       ┆ 3.0      │\n",
       "│           ┆ loans     ┆           ┆           ┆   ┆           ┆           ┆           ┆          │\n",
       "│ 100038    ┆ Cash      ┆ M         ┆ Y         ┆ … ┆ null      ┆ null      ┆ null      ┆ null     │\n",
       "│           ┆ loans     ┆           ┆           ┆   ┆           ┆           ┆           ┆          │\n",
       "└───────────┴───────────┴───────────┴───────────┴───┴───────────┴───────────┴───────────┴──────────┘"
      ]
     },
     "execution_count": 5,
     "metadata": {},
     "output_type": "execute_result"
    }
   ],
   "source": [
    "application_test.head()"
   ]
  },
  {
   "cell_type": "markdown",
   "metadata": {},
   "source": [
    "We can see that there are many features. As expected, the test dataset does not include the target variable.\n",
    "\n",
    "First lets lowercase the columns names and then lets check the exact number of rows and features we do have here.\n"
   ]
  },
  {
   "cell_type": "code",
   "execution_count": 6,
   "metadata": {},
   "outputs": [],
   "source": [
    "application_train = application_train.select(\n",
    "    [pl.col(name).alias(name.lower()) for name in application_train.columns]\n",
    ")\n",
    "application_test = application_test.select(\n",
    "    [pl.col(name).alias(name.lower()) for name in application_test.columns]\n",
    ")"
   ]
  },
  {
   "cell_type": "code",
   "execution_count": 7,
   "metadata": {},
   "outputs": [
    {
     "name": "stdout",
     "output_type": "stream",
     "text": [
      "Number of Rows and Columns in Application Train: (307511, 122)\n",
      "Number of Rows and Columns in Application Test: (48744, 121)\n"
     ]
    }
   ],
   "source": [
    "print(\"Number of Rows and Columns in Application Train:\", application_train.shape)\n",
    "print(\"Number of Rows and Columns in Application Test:\", application_test.shape)"
   ]
  },
  {
   "cell_type": "markdown",
   "metadata": {},
   "source": [
    "Next up, before proceeding, we will reduce the dataset's memory footprint by converting the data types to lower-precision alternatives. This will lead to faster processing times."
   ]
  },
  {
   "cell_type": "code",
   "execution_count": 8,
   "metadata": {},
   "outputs": [
    {
     "name": "stdout",
     "output_type": "stream",
     "text": [
      "Size before memory reduction: 289.61 MB\n",
      "Initial data types: Counter({Float64: 65, Int64: 41, String: 16})\n",
      "Size after memory reduction: 113.52 MB\n",
      "Final data types: Counter({Float32: 65, Int8: 35, Categorical(ordering='physical'): 16, Int32: 4, Int16: 2})\n",
      "Size before memory reduction: 45.51 MB\n",
      "Initial data types: Counter({Float64: 65, Int64: 40, String: 16})\n",
      "Size after memory reduction: 17.94 MB\n",
      "Final data types: Counter({Float32: 65, Int8: 34, Categorical(ordering='physical'): 16, Int32: 4, Int16: 2})\n"
     ]
    }
   ],
   "source": [
    "application_train = reduce_memory_usage_pl(application_train)\n",
    "application_test = reduce_memory_usage_pl(application_test)"
   ]
  },
  {
   "cell_type": "markdown",
   "metadata": {},
   "source": [
    "We converted the data types of the `application_train` and `application_test` DataFrames to lower-precision alternatives.\n",
    "\n",
    "This reduced the memory footprint of the training data from 289.61 MB to 113.52 MB and that of the test data from 45.51 MB to 17.94 MB.\n",
    "\n",
    "That being said, let's confirm our features' data types."
   ]
  },
  {
   "cell_type": "code",
   "execution_count": 9,
   "metadata": {},
   "outputs": [
    {
     "data": {
      "text/html": [
       "<div><style>\n",
       ".dataframe > thead > tr,\n",
       ".dataframe > tbody > tr {\n",
       "  text-align: right;\n",
       "  white-space: pre-wrap;\n",
       "}\n",
       "</style>\n",
       "<small>shape: (5, 122)</small><table border=\"1\" class=\"dataframe\"><thead><tr><th>sk_id_curr</th><th>target</th><th>name_contract_type</th><th>code_gender</th><th>flag_own_car</th><th>flag_own_realty</th><th>cnt_children</th><th>amt_income_total</th><th>amt_credit</th><th>amt_annuity</th><th>amt_goods_price</th><th>name_type_suite</th><th>name_income_type</th><th>name_education_type</th><th>name_family_status</th><th>name_housing_type</th><th>region_population_relative</th><th>days_birth</th><th>days_employed</th><th>days_registration</th><th>days_id_publish</th><th>own_car_age</th><th>flag_mobil</th><th>flag_emp_phone</th><th>flag_work_phone</th><th>flag_cont_mobile</th><th>flag_phone</th><th>flag_email</th><th>occupation_type</th><th>cnt_fam_members</th><th>region_rating_client</th><th>region_rating_client_w_city</th><th>weekday_appr_process_start</th><th>hour_appr_process_start</th><th>reg_region_not_live_region</th><th>reg_region_not_work_region</th><th>live_region_not_work_region</th><th>&hellip;</th><th>nonlivingarea_medi</th><th>fondkapremont_mode</th><th>housetype_mode</th><th>totalarea_mode</th><th>wallsmaterial_mode</th><th>emergencystate_mode</th><th>obs_30_cnt_social_circle</th><th>def_30_cnt_social_circle</th><th>obs_60_cnt_social_circle</th><th>def_60_cnt_social_circle</th><th>days_last_phone_change</th><th>flag_document_2</th><th>flag_document_3</th><th>flag_document_4</th><th>flag_document_5</th><th>flag_document_6</th><th>flag_document_7</th><th>flag_document_8</th><th>flag_document_9</th><th>flag_document_10</th><th>flag_document_11</th><th>flag_document_12</th><th>flag_document_13</th><th>flag_document_14</th><th>flag_document_15</th><th>flag_document_16</th><th>flag_document_17</th><th>flag_document_18</th><th>flag_document_19</th><th>flag_document_20</th><th>flag_document_21</th><th>amt_req_credit_bureau_hour</th><th>amt_req_credit_bureau_day</th><th>amt_req_credit_bureau_week</th><th>amt_req_credit_bureau_mon</th><th>amt_req_credit_bureau_qrt</th><th>amt_req_credit_bureau_year</th></tr><tr><td>i32</td><td>i8</td><td>cat</td><td>cat</td><td>cat</td><td>cat</td><td>i16</td><td>f32</td><td>f32</td><td>f32</td><td>f32</td><td>cat</td><td>cat</td><td>cat</td><td>cat</td><td>cat</td><td>f32</td><td>i32</td><td>i32</td><td>f32</td><td>i32</td><td>f32</td><td>i8</td><td>i8</td><td>i8</td><td>i8</td><td>i8</td><td>i8</td><td>cat</td><td>f32</td><td>i8</td><td>i8</td><td>cat</td><td>i16</td><td>i8</td><td>i8</td><td>i8</td><td>&hellip;</td><td>f32</td><td>cat</td><td>cat</td><td>f32</td><td>cat</td><td>cat</td><td>f32</td><td>f32</td><td>f32</td><td>f32</td><td>f32</td><td>i8</td><td>i8</td><td>i8</td><td>i8</td><td>i8</td><td>i8</td><td>i8</td><td>i8</td><td>i8</td><td>i8</td><td>i8</td><td>i8</td><td>i8</td><td>i8</td><td>i8</td><td>i8</td><td>i8</td><td>i8</td><td>i8</td><td>i8</td><td>f32</td><td>f32</td><td>f32</td><td>f32</td><td>f32</td><td>f32</td></tr></thead><tbody><tr><td>100002</td><td>1</td><td>&quot;Cash loans&quot;</td><td>&quot;M&quot;</td><td>&quot;N&quot;</td><td>&quot;Y&quot;</td><td>0</td><td>202500.0</td><td>406597.5</td><td>24700.5</td><td>351000.0</td><td>&quot;Unaccompanied&quot;</td><td>&quot;Working&quot;</td><td>&quot;Secondary / secondary special&quot;</td><td>&quot;Single / not married&quot;</td><td>&quot;House / apartment&quot;</td><td>0.018801</td><td>-9461</td><td>-637</td><td>-3648.0</td><td>-2120</td><td>null</td><td>1</td><td>1</td><td>0</td><td>1</td><td>1</td><td>0</td><td>&quot;Laborers&quot;</td><td>1.0</td><td>2</td><td>2</td><td>&quot;WEDNESDAY&quot;</td><td>10</td><td>0</td><td>0</td><td>0</td><td>&hellip;</td><td>0.0</td><td>&quot;reg oper account&quot;</td><td>&quot;block of flats&quot;</td><td>0.0149</td><td>&quot;Stone, brick&quot;</td><td>&quot;No&quot;</td><td>2.0</td><td>2.0</td><td>2.0</td><td>2.0</td><td>-1134.0</td><td>0</td><td>1</td><td>0</td><td>0</td><td>0</td><td>0</td><td>0</td><td>0</td><td>0</td><td>0</td><td>0</td><td>0</td><td>0</td><td>0</td><td>0</td><td>0</td><td>0</td><td>0</td><td>0</td><td>0</td><td>0.0</td><td>0.0</td><td>0.0</td><td>0.0</td><td>0.0</td><td>1.0</td></tr><tr><td>100003</td><td>0</td><td>&quot;Cash loans&quot;</td><td>&quot;F&quot;</td><td>&quot;N&quot;</td><td>&quot;N&quot;</td><td>0</td><td>270000.0</td><td>1293502.5</td><td>35698.5</td><td>1.1295e6</td><td>&quot;Family&quot;</td><td>&quot;State servant&quot;</td><td>&quot;Higher education&quot;</td><td>&quot;Married&quot;</td><td>&quot;House / apartment&quot;</td><td>0.003541</td><td>-16765</td><td>-1188</td><td>-1186.0</td><td>-291</td><td>null</td><td>1</td><td>1</td><td>0</td><td>1</td><td>1</td><td>0</td><td>&quot;Core staff&quot;</td><td>2.0</td><td>1</td><td>1</td><td>&quot;MONDAY&quot;</td><td>11</td><td>0</td><td>0</td><td>0</td><td>&hellip;</td><td>0.01</td><td>&quot;reg oper account&quot;</td><td>&quot;block of flats&quot;</td><td>0.0714</td><td>&quot;Block&quot;</td><td>&quot;No&quot;</td><td>1.0</td><td>0.0</td><td>1.0</td><td>0.0</td><td>-828.0</td><td>0</td><td>1</td><td>0</td><td>0</td><td>0</td><td>0</td><td>0</td><td>0</td><td>0</td><td>0</td><td>0</td><td>0</td><td>0</td><td>0</td><td>0</td><td>0</td><td>0</td><td>0</td><td>0</td><td>0</td><td>0.0</td><td>0.0</td><td>0.0</td><td>0.0</td><td>0.0</td><td>0.0</td></tr><tr><td>100004</td><td>0</td><td>&quot;Revolving loans&quot;</td><td>&quot;M&quot;</td><td>&quot;Y&quot;</td><td>&quot;Y&quot;</td><td>0</td><td>67500.0</td><td>135000.0</td><td>6750.0</td><td>135000.0</td><td>&quot;Unaccompanied&quot;</td><td>&quot;Working&quot;</td><td>&quot;Secondary / secondary special&quot;</td><td>&quot;Single / not married&quot;</td><td>&quot;House / apartment&quot;</td><td>0.010032</td><td>-19046</td><td>-225</td><td>-4260.0</td><td>-2531</td><td>26.0</td><td>1</td><td>1</td><td>1</td><td>1</td><td>1</td><td>0</td><td>&quot;Laborers&quot;</td><td>1.0</td><td>2</td><td>2</td><td>&quot;MONDAY&quot;</td><td>9</td><td>0</td><td>0</td><td>0</td><td>&hellip;</td><td>null</td><td>null</td><td>null</td><td>null</td><td>null</td><td>null</td><td>0.0</td><td>0.0</td><td>0.0</td><td>0.0</td><td>-815.0</td><td>0</td><td>0</td><td>0</td><td>0</td><td>0</td><td>0</td><td>0</td><td>0</td><td>0</td><td>0</td><td>0</td><td>0</td><td>0</td><td>0</td><td>0</td><td>0</td><td>0</td><td>0</td><td>0</td><td>0</td><td>0.0</td><td>0.0</td><td>0.0</td><td>0.0</td><td>0.0</td><td>0.0</td></tr><tr><td>100006</td><td>0</td><td>&quot;Cash loans&quot;</td><td>&quot;F&quot;</td><td>&quot;N&quot;</td><td>&quot;Y&quot;</td><td>0</td><td>135000.0</td><td>312682.5</td><td>29686.5</td><td>297000.0</td><td>&quot;Unaccompanied&quot;</td><td>&quot;Working&quot;</td><td>&quot;Secondary / secondary special&quot;</td><td>&quot;Civil marriage&quot;</td><td>&quot;House / apartment&quot;</td><td>0.008019</td><td>-19005</td><td>-3039</td><td>-9833.0</td><td>-2437</td><td>null</td><td>1</td><td>1</td><td>0</td><td>1</td><td>0</td><td>0</td><td>&quot;Laborers&quot;</td><td>2.0</td><td>2</td><td>2</td><td>&quot;WEDNESDAY&quot;</td><td>17</td><td>0</td><td>0</td><td>0</td><td>&hellip;</td><td>null</td><td>null</td><td>null</td><td>null</td><td>null</td><td>null</td><td>2.0</td><td>0.0</td><td>2.0</td><td>0.0</td><td>-617.0</td><td>0</td><td>1</td><td>0</td><td>0</td><td>0</td><td>0</td><td>0</td><td>0</td><td>0</td><td>0</td><td>0</td><td>0</td><td>0</td><td>0</td><td>0</td><td>0</td><td>0</td><td>0</td><td>0</td><td>0</td><td>null</td><td>null</td><td>null</td><td>null</td><td>null</td><td>null</td></tr><tr><td>100007</td><td>0</td><td>&quot;Cash loans&quot;</td><td>&quot;M&quot;</td><td>&quot;N&quot;</td><td>&quot;Y&quot;</td><td>0</td><td>121500.0</td><td>513000.0</td><td>21865.5</td><td>513000.0</td><td>&quot;Unaccompanied&quot;</td><td>&quot;Working&quot;</td><td>&quot;Secondary / secondary special&quot;</td><td>&quot;Single / not married&quot;</td><td>&quot;House / apartment&quot;</td><td>0.028663</td><td>-19932</td><td>-3038</td><td>-4311.0</td><td>-3458</td><td>null</td><td>1</td><td>1</td><td>0</td><td>1</td><td>0</td><td>0</td><td>&quot;Core staff&quot;</td><td>1.0</td><td>2</td><td>2</td><td>&quot;THURSDAY&quot;</td><td>11</td><td>0</td><td>0</td><td>0</td><td>&hellip;</td><td>null</td><td>null</td><td>null</td><td>null</td><td>null</td><td>null</td><td>0.0</td><td>0.0</td><td>0.0</td><td>0.0</td><td>-1106.0</td><td>0</td><td>0</td><td>0</td><td>0</td><td>0</td><td>0</td><td>1</td><td>0</td><td>0</td><td>0</td><td>0</td><td>0</td><td>0</td><td>0</td><td>0</td><td>0</td><td>0</td><td>0</td><td>0</td><td>0</td><td>0.0</td><td>0.0</td><td>0.0</td><td>0.0</td><td>0.0</td><td>0.0</td></tr></tbody></table></div>"
      ],
      "text/plain": [
       "shape: (5, 122)\n",
       "┌────────────┬────────┬────────────┬───────────┬───┬───────────┬───────────┬───────────┬───────────┐\n",
       "│ sk_id_curr ┆ target ┆ name_contr ┆ code_gend ┆ … ┆ amt_req_c ┆ amt_req_c ┆ amt_req_c ┆ amt_req_c │\n",
       "│ ---        ┆ ---    ┆ act_type   ┆ er        ┆   ┆ redit_bur ┆ redit_bur ┆ redit_bur ┆ redit_bur │\n",
       "│ i32        ┆ i8     ┆ ---        ┆ ---       ┆   ┆ eau_week  ┆ eau_mon   ┆ eau_qrt   ┆ eau_year  │\n",
       "│            ┆        ┆ cat        ┆ cat       ┆   ┆ ---       ┆ ---       ┆ ---       ┆ ---       │\n",
       "│            ┆        ┆            ┆           ┆   ┆ f32       ┆ f32       ┆ f32       ┆ f32       │\n",
       "╞════════════╪════════╪════════════╪═══════════╪═══╪═══════════╪═══════════╪═══════════╪═══════════╡\n",
       "│ 100002     ┆ 1      ┆ Cash loans ┆ M         ┆ … ┆ 0.0       ┆ 0.0       ┆ 0.0       ┆ 1.0       │\n",
       "│ 100003     ┆ 0      ┆ Cash loans ┆ F         ┆ … ┆ 0.0       ┆ 0.0       ┆ 0.0       ┆ 0.0       │\n",
       "│ 100004     ┆ 0      ┆ Revolving  ┆ M         ┆ … ┆ 0.0       ┆ 0.0       ┆ 0.0       ┆ 0.0       │\n",
       "│            ┆        ┆ loans      ┆           ┆   ┆           ┆           ┆           ┆           │\n",
       "│ 100006     ┆ 0      ┆ Cash loans ┆ F         ┆ … ┆ null      ┆ null      ┆ null      ┆ null      │\n",
       "│ 100007     ┆ 0      ┆ Cash loans ┆ M         ┆ … ┆ 0.0       ┆ 0.0       ┆ 0.0       ┆ 0.0       │\n",
       "└────────────┴────────┴────────────┴───────────┴───┴───────────┴───────────┴───────────┴───────────┘"
      ]
     },
     "execution_count": 9,
     "metadata": {},
     "output_type": "execute_result"
    }
   ],
   "source": [
    "application_train.head()"
   ]
  },
  {
   "cell_type": "markdown",
   "metadata": {},
   "source": [
    "We can see that the initial data exploration reveals that several features, despite being represented numerically, are inherently categorical.\n",
    "\n",
    "These include `region_rating_client`, `region_rating_client_w_city`, `reg_city_not_work_city`, and `target`.\n",
    "\n",
    "To ensure accurate analysis and modeling, we need to explicitly convert these features to the appropriate categorical data type."
   ]
  },
  {
   "cell_type": "code",
   "execution_count": 14,
   "metadata": {},
   "outputs": [],
   "source": [
    "categorical_cols_train = [\n",
    "    \"region_rating_client\",\n",
    "    \"region_rating_client_w_city\",\n",
    "    \"reg_city_not_work_city\",\n",
    "    \"target\",\n",
    "]\n",
    "\n",
    "categorical_cols_test = [\n",
    "    \"region_rating_client\",\n",
    "    \"region_rating_client_w_city\",\n",
    "    \"reg_city_not_work_city\",\n",
    "]\n",
    "\n",
    "application_train = application_train.with_columns(\n",
    "    [\n",
    "        pl.col(col).round(0).cast(pl.Int32).cast(pl.Utf8).cast(pl.Categorical)\n",
    "        for col in categorical_cols_train\n",
    "    ]\n",
    ")\n",
    "\n",
    "application_test = application_test.with_columns(\n",
    "    [\n",
    "        pl.col(col).round(0).cast(pl.Int32).cast(pl.Utf8).cast(pl.Categorical)\n",
    "        for col in categorical_cols_test\n",
    "    ]\n",
    ")"
   ]
  },
  {
   "cell_type": "markdown",
   "metadata": {},
   "source": [
    "Next, we will save the preprocessed DataFrames (`application_train` and `application_test`) to Parquet files (`application_train_preprocessed.parquet` and `application_test_preprocessed.parquet`) for efficient storage and retrieval.\n",
    "\n",
    "These files will be used in the next notebook (`02_feature_engineering.ipynb`) to perform feature engineering and further data preparation. "
   ]
  },
  {
   "cell_type": "code",
   "execution_count": 10,
   "metadata": {},
   "outputs": [],
   "source": [
    "application_train.write_parquet(\n",
    "    \"../data/processed/application_train_preprocessed.parquet\"\n",
    ")\n",
    "application_test.write_parquet(\n",
    "    \"../data/processed/application_test_preprocessed.parquet\"\n",
    ")"
   ]
  }
 ],
 "metadata": {
  "kernelspec": {
   "display_name": "venv",
   "language": "python",
   "name": "python3"
  },
  "language_info": {
   "codemirror_mode": {
    "name": "ipython",
    "version": 3
   },
   "file_extension": ".py",
   "mimetype": "text/x-python",
   "name": "python",
   "nbconvert_exporter": "python",
   "pygments_lexer": "ipython3",
   "version": "3.12.5"
  }
 },
 "nbformat": 4,
 "nbformat_minor": 2
}
